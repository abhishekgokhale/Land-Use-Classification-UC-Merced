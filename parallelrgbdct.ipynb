{
  "nbformat": 4,
  "nbformat_minor": 0,
  "metadata": {
    "colab": {
      "name": "parallelrgbdct.ipynb",
      "provenance": []
    },
    "kernelspec": {
      "name": "python3",
      "display_name": "Python 3"
    },
    "accelerator": "GPU"
  },
  "cells": [
    {
      "cell_type": "code",
      "metadata": {
        "id": "snoEekEayne4",
        "colab_type": "code",
        "colab": {}
      },
      "source": [
        ""
      ],
      "execution_count": 0,
      "outputs": []
    },
    {
      "cell_type": "code",
      "metadata": {
        "id": "TqowlWJ3sfDP",
        "colab_type": "code",
        "colab": {}
      },
      "source": [
        "import numpy as np\n",
        "import matplotlib.pyplot as plt\n",
        "import os\n",
        "import cv2\n",
        "from tqdm import tqdm"
      ],
      "execution_count": 0,
      "outputs": []
    },
    {
      "cell_type": "code",
      "metadata": {
        "id": "GjV8uzLhtQ0H",
        "colab_type": "code",
        "colab": {}
      },
      "source": [
        "DATADIR = '/content/drive/My Drive/UCmerced/UCMerced_LandUse/Images/'\n",
        "\n",
        "CATEGORIES = [ 'agricultural',  'airplane',    'baseballdiamond', 'beach',   'buildings',          'chaparral',         'denseresidential',\n",
        "                'forest',        'freeway',     'golfcourse',      'harbor',  'intersection',       'mediumresidential', 'mobilehomepark',\n",
        "                'overpass',      'parkinglot',  'river',           'runway',  'sparseresidential',  'storagetanks',      'tenniscourt' ]\n"
      ],
      "execution_count": 0,
      "outputs": []
    },
    {
      "cell_type": "code",
      "metadata": {
        "id": "JFHfvkShtUtf",
        "colab_type": "code",
        "colab": {}
      },
      "source": [
        "from google.colab import drive\n",
        "drive.mount('/content/drive')\n"
      ],
      "execution_count": 0,
      "outputs": []
    },
    {
      "cell_type": "code",
      "metadata": {
        "id": "AlX-6rl3tfJo",
        "colab_type": "code",
        "colab": {}
      },
      "source": [
        "from PIL import Image #import Python Image Library\n",
        "import numpy as np\n",
        "import os\n",
        "import glob\n",
        "import re\n",
        "import keras\n",
        "from keras.models import Sequential\n",
        "from keras.layers import Dense, Dropout, Activation, Flatten\n",
        "from keras.layers import Conv2D, MaxPooling2D\n",
        "from keras.utils import np_utils\n",
        "from keras import backend as K"
      ],
      "execution_count": 0,
      "outputs": []
    },
    {
      "cell_type": "code",
      "metadata": {
        "id": "dOkVtQX9tksZ",
        "colab_type": "code",
        "colab": {}
      },
      "source": [
        "path = os.path.abspath('.cnn.py')"
      ],
      "execution_count": 0,
      "outputs": []
    },
    {
      "cell_type": "code",
      "metadata": {
        "id": "IrBvPAUgtyYU",
        "colab_type": "code",
        "colab": {}
      },
      "source": [
        "path = re.sub('[a-zA-Z\\s._]+$', '', path) #remove unintended file"
      ],
      "execution_count": 0,
      "outputs": []
    },
    {
      "cell_type": "code",
      "metadata": {
        "id": "du-5slc1t9cI",
        "colab_type": "code",
        "colab": {}
      },
      "source": [
        "img_rows = 256\n",
        "img_cols = 256\n",
        "num_class = 21\n",
        "path = os.path.abspath('.cnn.py') #absolute path of program\n",
        "path = re.sub('[a-zA-Z\\s._]+$', '', path) #remove unintended file\n",
        "X = []\n",
        "Y = []\n",
        "dirs = os.listdir(path+'/drive/My Drive/ucmerced/UCMerced_LandUse/Images/')\n",
        "dirs=dirs[:]\n",
        "print(len(dirs))\n",
        "'''\n",
        "\n",
        "'''"
      ],
      "execution_count": 0,
      "outputs": []
    },
    {
      "cell_type": "code",
      "metadata": {
        "id": "jHP3P0mVt_mj",
        "colab_type": "code",
        "colab": {}
      },
      "source": [
        "label = 0\n",
        "for i in dirs:\n",
        "\tn = 0\n",
        "\tcount = 0\n",
        "\tfor pic in glob.glob(path+'/drive/My Drive/ucmerced/UCMerced_LandUse/Images/'+i+r'/*.tif'):\n",
        "\t\tim = cv2.imread(pic)\n",
        "        # im = Image.open(pic)\n",
        "\t\tim = np.array(im)\n",
        "\t\tif((im.shape[0]==256) and (im.shape[1] ==256)):\n",
        "\t\t\tr = im[:,:,0]\n",
        "\t\t\tg = im[:,:,1]\n",
        "\t\t\tb = im[:,:,2]\n",
        "\t\t\tX.append([r,g,b])\n",
        "\t\t\tY.append([label])\n",
        "\t\t\tn = n + 1\n",
        "\tprint(n)\n",
        "\tlabel = label + 1"
      ],
      "execution_count": 0,
      "outputs": []
    },
    {
      "cell_type": "code",
      "metadata": {
        "id": "yG55ZdzWz870",
        "colab_type": "code",
        "colab": {}
      },
      "source": [
        ""
      ],
      "execution_count": 0,
      "outputs": []
    },
    {
      "cell_type": "code",
      "metadata": {
        "id": "AMZAp5chmGL1",
        "colab_type": "code",
        "colab": {}
      },
      "source": [
        "X_bck = X\n",
        "Y_bck = Y"
      ],
      "execution_count": 0,
      "outputs": []
    },
    {
      "cell_type": "code",
      "metadata": {
        "id": "MyCeqeNUuB8C",
        "colab_type": "code",
        "colab": {}
      },
      "source": [
        "X =  np.array(X)\n",
        "Y =  np.array(Y)"
      ],
      "execution_count": 0,
      "outputs": []
    },
    {
      "cell_type": "code",
      "metadata": {
        "id": "5F8fE3vuuGf6",
        "colab_type": "code",
        "colab": {}
      },
      "source": [
        "print(X.shape)\n",
        "Y.shape"
      ],
      "execution_count": 0,
      "outputs": []
    },
    {
      "cell_type": "code",
      "metadata": {
        "id": "xxERR1FON181",
        "colab_type": "code",
        "colab": {}
      },
      "source": [
        "from sklearn.model_selection import train_test_split\n",
        "X_train, X_test, y_train, y_test = train_test_split(X, Y, test_size=0.2, random_state = 142)"
      ],
      "execution_count": 0,
      "outputs": []
    },
    {
      "cell_type": "code",
      "metadata": {
        "id": "Bayy9kykN21H",
        "colab_type": "code",
        "colab": {}
      },
      "source": [
        "y_train[0:10]"
      ],
      "execution_count": 0,
      "outputs": []
    },
    {
      "cell_type": "code",
      "metadata": {
        "id": "sXbP5hX-N-13",
        "colab_type": "code",
        "colab": {}
      },
      "source": [
        "x_trainbck=X_train\n",
        "x_testbck=X_test\n"
      ],
      "execution_count": 0,
      "outputs": []
    },
    {
      "cell_type": "code",
      "metadata": {
        "id": "8uRcRo8oN_YD",
        "colab_type": "code",
        "colab": {}
      },
      "source": [
        "x_train=np.array(X_train)\n",
        "x_test=np.array(X_test)"
      ],
      "execution_count": 0,
      "outputs": []
    },
    {
      "cell_type": "code",
      "metadata": {
        "id": "gPeD14S52Ii1",
        "colab_type": "code",
        "colab": {}
      },
      "source": [
        "x_train.shape"
      ],
      "execution_count": 0,
      "outputs": []
    },
    {
      "cell_type": "code",
      "metadata": {
        "id": "AK0ElV4P2Vd1",
        "colab_type": "code",
        "colab": {}
      },
      "source": [
        "x_train_temp=x_train"
      ],
      "execution_count": 0,
      "outputs": []
    },
    {
      "cell_type": "code",
      "metadata": {
        "id": "MIUMrLXI2XzE",
        "colab_type": "code",
        "colab": {}
      },
      "source": [
        "x_train = x_train.reshape(x_train.shape[0], img_rows, img_cols, 3)\n",
        "x_test = x_test.reshape(x_test.shape[0], img_rows, img_cols, 3)\n",
        "\n",
        "input_shape = (img_rows, img_cols, 3)\n",
        "\n",
        "x_train = x_train.astype('float32')\n",
        "x_test = x_test.astype('float32')\n",
        "x_train /= 255\n",
        "x_test /= 255\n",
        "y_train = keras.utils.to_categorical(y_train, 21)\n",
        "y_test = keras.utils.to_categorical(y_test, 21)"
      ],
      "execution_count": 0,
      "outputs": []
    },
    {
      "cell_type": "code",
      "metadata": {
        "id": "dsRRO_pnziHF",
        "colab_type": "code",
        "colab": {}
      },
      "source": [
        "import time \n",
        "import cv2 \n",
        "from scipy.fftpack import dct \n",
        "import numpy as np\n",
        "#y = np.random.random((5000, 6, 6, 3))\n",
        "t1 = time.time()\n",
        "a = np.zeros((len(x_train), 256, 256, 3))\n",
        "for i in range(len(x_train)):\n",
        "    for j in range(3):\n",
        "        a[i, :, :, j] = cv2.dct(x_train[i, :, :, j])"
      ],
      "execution_count": 0,
      "outputs": []
    },
    {
      "cell_type": "code",
      "metadata": {
        "id": "cSgmPB272ppK",
        "colab_type": "code",
        "colab": {}
      },
      "source": [
        "x_dct=a"
      ],
      "execution_count": 0,
      "outputs": []
    },
    {
      "cell_type": "code",
      "metadata": {
        "id": "2tu0trGd2vUR",
        "colab_type": "code",
        "colab": {}
      },
      "source": [
        "x_dct.shape"
      ],
      "execution_count": 0,
      "outputs": []
    },
    {
      "cell_type": "code",
      "metadata": {
        "id": "dgBSq6gL2xRi",
        "colab_type": "code",
        "colab": {}
      },
      "source": [
        "input_shape = (img_rows, img_cols, 3)"
      ],
      "execution_count": 0,
      "outputs": []
    },
    {
      "cell_type": "code",
      "metadata": {
        "id": "FPWpyhvI25zr",
        "colab_type": "code",
        "colab": {}
      },
      "source": [
        "x_dct_final = np.random.random((len(x_dct), 32, 32, 3))"
      ],
      "execution_count": 0,
      "outputs": []
    },
    {
      "cell_type": "code",
      "metadata": {
        "id": "ahLIf23E3CDX",
        "colab_type": "code",
        "colab": {}
      },
      "source": [
        "for i in range(1512):\n",
        "  for j in range(32):\n",
        "    for k in range(32):\n",
        "      for l in range(3):\n",
        "        x_dct_final[i,j,k,l]=x_dct[i,j,k,l]"
      ],
      "execution_count": 0,
      "outputs": []
    },
    {
      "cell_type": "code",
      "metadata": {
        "id": "RxILPPu63lIr",
        "colab_type": "code",
        "colab": {}
      },
      "source": [
        "x_dct_final.shape"
      ],
      "execution_count": 0,
      "outputs": []
    },
    {
      "cell_type": "code",
      "metadata": {
        "id": "Wcqz-Ow23smK",
        "colab_type": "code",
        "colab": {}
      },
      "source": [
        "input_shape1 = (img_rows, img_cols, 3)\n",
        "input_shape2 = (32, 32, 3)"
      ],
      "execution_count": 0,
      "outputs": []
    },
    {
      "cell_type": "code",
      "metadata": {
        "id": "SYXAuuIy4AhO",
        "colab_type": "code",
        "colab": {}
      },
      "source": [
        ""
      ],
      "execution_count": 0,
      "outputs": []
    },
    {
      "cell_type": "code",
      "metadata": {
        "colab_type": "code",
        "id": "RjgFjvv8467J",
        "colab": {}
      },
      "source": [
        "\n",
        "#y = np.random.random((5000, 6, 6, 3))\n",
        "t1 = time.time()\n",
        "a1 = np.zeros((len(x_test), 256, 256, 3))\n",
        "for i in range(len(x_test)):\n",
        "    for j in range(3):\n",
        "        a1[i, :, :, j] = cv2.dct(x_test[i, :, :, j])"
      ],
      "execution_count": 0,
      "outputs": []
    },
    {
      "cell_type": "code",
      "metadata": {
        "colab_type": "code",
        "id": "2qaM98aE467R",
        "colab": {}
      },
      "source": [
        "x_dct_t=a1"
      ],
      "execution_count": 0,
      "outputs": []
    },
    {
      "cell_type": "code",
      "metadata": {
        "colab_type": "code",
        "id": "egrGDl7Q467T",
        "colab": {}
      },
      "source": [
        "x_dct_t.shape"
      ],
      "execution_count": 0,
      "outputs": []
    },
    {
      "cell_type": "code",
      "metadata": {
        "colab_type": "code",
        "id": "j7UNCpcA467W",
        "colab": {}
      },
      "source": [
        "x_dct_test = np.random.random((len(x_dct_t), 32, 32, 3))"
      ],
      "execution_count": 0,
      "outputs": []
    },
    {
      "cell_type": "code",
      "metadata": {
        "colab_type": "code",
        "id": "KPL0DfqD467Y",
        "colab": {}
      },
      "source": [
        "for i in range(378):\n",
        "  for j in range(32):\n",
        "    for k in range(32):\n",
        "      for l in range(3):\n",
        "        x_dct_test[i,j,k,l]=x_dct_t[i,j,k,l]"
      ],
      "execution_count": 0,
      "outputs": []
    },
    {
      "cell_type": "code",
      "metadata": {
        "colab_type": "code",
        "id": "OJjzYWLi467c",
        "colab": {}
      },
      "source": [
        "x_dct_test.shape"
      ],
      "execution_count": 0,
      "outputs": []
    },
    {
      "cell_type": "code",
      "metadata": {
        "colab_type": "code",
        "id": "ESC371GW40CB",
        "colab": {}
      },
      "source": [
        "from keras.layers import Input, Conv2D, Dense, concatenate\n",
        "from keras.models import Model"
      ],
      "execution_count": 0,
      "outputs": []
    },
    {
      "cell_type": "code",
      "metadata": {
        "colab_type": "code",
        "id": "CCH104j-40CF",
        "colab": {}
      },
      "source": [
        "from PIL import Image #import Python Image Library\n",
        "import numpy as np\n",
        "import os\n",
        "import glob\n",
        "import re\n",
        "import keras\n",
        "from keras.models import Sequential\n",
        "from keras.layers import Dense, Dropout, Activation, Flatten,LeakyReLU\n",
        "from keras.layers import Conv2D, MaxPooling2D\n",
        "from keras.utils import np_utils\n",
        "from keras import backend as K"
      ],
      "execution_count": 0,
      "outputs": []
    },
    {
      "cell_type": "code",
      "metadata": {
        "colab_type": "code",
        "id": "xrR3mVU540CH",
        "colab": {}
      },
      "source": [
        "from keras.layers import *\n",
        "inputTensor1 = Input(input_shape1)\n",
        "inputTensor2 = Input(input_shape2)"
      ],
      "execution_count": 0,
      "outputs": []
    },
    {
      "cell_type": "code",
      "metadata": {
        "colab_type": "code",
        "id": "EylpudVt40CJ",
        "colab": {}
      },
      "source": [
        "model1=(Conv2D(32, kernel_size=(3, 3),activation='relu'))(inputTensor1)\n",
        "model1=(MaxPooling2D(pool_size=(2,2)))(model1)\n",
        "model1=(Conv2D(32, (3, 3), activation='relu'))(model1)\n",
        "model1=(MaxPooling2D(pool_size=(2,2)))(model1)\n",
        "model1=(Dropout(0.25))(model1)\n",
        "model1=(Flatten())(model1)\n",
        "model1=(Dense(128, activation='relu'))(model1)\n",
        "model1=(Dropout(0.5))(model1)\n",
        "model1 = Model(inputs=inputTensor1, outputs=model1)\n"
      ],
      "execution_count": 0,
      "outputs": []
    },
    {
      "cell_type": "code",
      "metadata": {
        "colab_type": "code",
        "id": "wXKN8pxo40CL",
        "colab": {}
      },
      "source": [
        "model2=(Conv2D(32, kernel_size=(3, 3),activation='relu'))(inputTensor2)\n",
        "model2=(MaxPooling2D(pool_size=(2,2)))(model2)\n",
        "model2=(Conv2D(32, (3, 3), activation='relu'))(model2)\n",
        "model2=(MaxPooling2D(pool_size=(2,2)))(model2)\n",
        "model2=(Dropout(0.25))(model2)\n",
        "model2=(Flatten())(model2)\n",
        "model2=(Dense(128, activation='relu'))(model2)\n",
        "model2=(Dropout(0.5))(model2)\n",
        "model2 = Model(inputs=inputTensor2, outputs=model2)\n"
      ],
      "execution_count": 0,
      "outputs": []
    },
    {
      "cell_type": "code",
      "metadata": {
        "colab_type": "code",
        "id": "9OqLB83740CO",
        "colab": {}
      },
      "source": [
        "#from keras.layers import Activation, Dense, Dropout, Flatten, Input, Merge\n",
        "x = concatenate([model1.output, model2.output])  # merge the outputs of the two models\n",
        "out = Dense(21,activation='softmax')(x) "
      ],
      "execution_count": 0,
      "outputs": []
    },
    {
      "cell_type": "code",
      "metadata": {
        "colab_type": "code",
        "id": "pg0AUHZ840CQ",
        "colab": {}
      },
      "source": [
        "model = Model(inputs=[inputTensor1, inputTensor2], outputs=[out])"
      ],
      "execution_count": 0,
      "outputs": []
    },
    {
      "cell_type": "code",
      "metadata": {
        "colab_type": "code",
        "id": "AvZqpWk740CS",
        "colab": {}
      },
      "source": [
        "model.compile(optimizer='adam', loss='categorical_crossentropy',metrics=['accuracy'])"
      ],
      "execution_count": 0,
      "outputs": []
    },
    {
      "cell_type": "code",
      "metadata": {
        "colab_type": "code",
        "id": "MRT8QHv740CU",
        "colab": {}
      },
      "source": [
        "model.fit([x_train,x_dct_final], y_train, epochs=10, batch_size=32,validation_data=([x_test,x_dct_test],y_test))"
      ],
      "execution_count": 0,
      "outputs": []
    },
    {
      "cell_type": "code",
      "metadata": {
        "id": "upWAUBox6AVZ",
        "colab_type": "code",
        "colab": {}
      },
      "source": [
        "model.fit([x_train,x_dct_final], y_train, epochs=20, batch_size=32,validation_data=([x_test,x_dct_test],y_test))"
      ],
      "execution_count": 0,
      "outputs": []
    }
  ]
}