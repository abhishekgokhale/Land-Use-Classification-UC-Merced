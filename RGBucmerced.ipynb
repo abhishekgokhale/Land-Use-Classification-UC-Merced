{
  "nbformat": 4,
  "nbformat_minor": 0,
  "metadata": {
    "colab": {
      "name": "RGBucmerced.ipynb",
      "provenance": []
    },
    "kernelspec": {
      "name": "python3",
      "display_name": "Python 3"
    },
    "accelerator": "GPU"
  },
  "cells": [
    {
      "cell_type": "code",
      "metadata": {
        "id": "U5-4vtRLMSag",
        "colab_type": "code",
        "colab": {}
      },
      "source": [
        "import numpy as np\n",
        "import matplotlib.pyplot as plt\n",
        "import os\n",
        "import cv2\n",
        "from tqdm import tqdm\n",
        "\n",
        "\n",
        "  # graph it\n",
        "        "
      ],
      "execution_count": 0,
      "outputs": []
    },
    {
      "cell_type": "code",
      "metadata": {
        "id": "MxmUMmm7MXE4",
        "colab_type": "code",
        "colab": {}
      },
      "source": [
        "DATADIR = '/content/drive/My Drive/ucmerced/UCMerced_LandUse/Images/'\n",
        "\n",
        "CATEGORIES = [ 'agricultural',  'airplane',    'baseballdiamond', 'beach',   'buildings',          'chaparral',         'denseresidential',\n",
        "                'forest',        'freeway',     'golfcourse',      'harbor',  'intersection',       'mediumresidential', 'mobilehomepark',\n",
        "                'overpass',      'parkinglot',  'river',           'runway',  'sparseresidential',  'storagetanks',      'tenniscourt' ]\n"
      ],
      "execution_count": 0,
      "outputs": []
    },
    {
      "cell_type": "code",
      "metadata": {
        "id": "8_H86fHPMfSX",
        "colab_type": "code",
        "colab": {
          "base_uri": "https://localhost:8080/",
          "height": 122
        },
        "outputId": "bbf6cdb6-d46e-4d5c-c735-022ba84e40e2"
      },
      "source": [
        "from google.colab import drive\n",
        "drive.mount('/content/drive')"
      ],
      "execution_count": 3,
      "outputs": [
        {
          "output_type": "stream",
          "text": [
            "Go to this URL in a browser: https://accounts.google.com/o/oauth2/auth?client_id=947318989803-6bn6qk8qdgf4n4g3pfee6491hc0brc4i.apps.googleusercontent.com&redirect_uri=urn%3Aietf%3Awg%3Aoauth%3A2.0%3Aoob&scope=email%20https%3A%2F%2Fwww.googleapis.com%2Fauth%2Fdocs.test%20https%3A%2F%2Fwww.googleapis.com%2Fauth%2Fdrive%20https%3A%2F%2Fwww.googleapis.com%2Fauth%2Fdrive.photos.readonly%20https%3A%2F%2Fwww.googleapis.com%2Fauth%2Fpeopleapi.readonly&response_type=code\n",
            "\n",
            "Enter your authorization code:\n",
            "··········\n",
            "Mounted at /content/drive\n"
          ],
          "name": "stdout"
        }
      ]
    },
    {
      "cell_type": "code",
      "metadata": {
        "id": "2URG-NMuMoPl",
        "colab_type": "code",
        "colab": {
          "base_uri": "https://localhost:8080/",
          "height": 80
        },
        "outputId": "1a83599f-fad7-49c8-8f31-78da73b7c25b"
      },
      "source": [
        "from PIL import Image #import Python Image Library\n",
        "import numpy as np\n",
        "import os\n",
        "import glob\n",
        "import re\n",
        "import keras\n",
        "from keras.models import Sequential\n",
        "from keras.layers import Dense, Dropout, Activation, Flatten\n",
        "from keras.layers import Conv2D, MaxPooling2D\n",
        "from keras.utils import np_utils\n",
        "from keras import backend as K"
      ],
      "execution_count": 4,
      "outputs": [
        {
          "output_type": "stream",
          "text": [
            "Using TensorFlow backend.\n"
          ],
          "name": "stderr"
        },
        {
          "output_type": "display_data",
          "data": {
            "text/html": [
              "<p style=\"color: red;\">\n",
              "The default version of TensorFlow in Colab will soon switch to TensorFlow 2.x.<br>\n",
              "We recommend you <a href=\"https://www.tensorflow.org/guide/migrate\" target=\"_blank\">upgrade</a> now \n",
              "or ensure your notebook will continue to use TensorFlow 1.x via the <code>%tensorflow_version 1.x</code> magic:\n",
              "<a href=\"https://colab.research.google.com/notebooks/tensorflow_version.ipynb\" target=\"_blank\">more info</a>.</p>\n"
            ],
            "text/plain": [
              "<IPython.core.display.HTML object>"
            ]
          },
          "metadata": {
            "tags": []
          }
        }
      ]
    },
    {
      "cell_type": "code",
      "metadata": {
        "id": "-SqwQD5cNQZe",
        "colab_type": "code",
        "colab": {
          "base_uri": "https://localhost:8080/",
          "height": 34
        },
        "outputId": "91e30719-6177-4578-c050-a93473899fc5"
      },
      "source": [
        "!ls"
      ],
      "execution_count": 6,
      "outputs": [
        {
          "output_type": "stream",
          "text": [
            "drive  sample_data\n"
          ],
          "name": "stdout"
        }
      ]
    },
    {
      "cell_type": "code",
      "metadata": {
        "id": "rFO-OnseNc4d",
        "colab_type": "code",
        "colab": {}
      },
      "source": [
        "path = os.path.abspath('.cnn.py')"
      ],
      "execution_count": 0,
      "outputs": []
    },
    {
      "cell_type": "code",
      "metadata": {
        "id": "QYoLiNlPNen6",
        "colab_type": "code",
        "colab": {
          "base_uri": "https://localhost:8080/",
          "height": 34
        },
        "outputId": "dd80d264-6943-4f10-fec0-0ef358d589f1"
      },
      "source": [
        "print(path)"
      ],
      "execution_count": 8,
      "outputs": [
        {
          "output_type": "stream",
          "text": [
            "/content/.cnn.py\n"
          ],
          "name": "stdout"
        }
      ]
    },
    {
      "cell_type": "code",
      "metadata": {
        "id": "DJvCBpm0NjOK",
        "colab_type": "code",
        "colab": {}
      },
      "source": [
        "path = re.sub('[a-zA-Z\\s._]+$', '', path) #remove unintended file"
      ],
      "execution_count": 0,
      "outputs": []
    },
    {
      "cell_type": "code",
      "metadata": {
        "id": "J1HXnPmWNo5y",
        "colab_type": "code",
        "colab": {
          "base_uri": "https://localhost:8080/",
          "height": 34
        },
        "outputId": "479f69e8-2e74-4198-8570-d139eb4250e2"
      },
      "source": [
        "print(path)"
      ],
      "execution_count": 10,
      "outputs": [
        {
          "output_type": "stream",
          "text": [
            "/content/\n"
          ],
          "name": "stdout"
        }
      ]
    },
    {
      "cell_type": "code",
      "metadata": {
        "id": "KyiF2extNsAZ",
        "colab_type": "code",
        "colab": {}
      },
      "source": [
        "dirs = os.listdir(path+'/drive/My Drive/ucmerced/UCMerced_LandUse/Images/')"
      ],
      "execution_count": 0,
      "outputs": []
    },
    {
      "cell_type": "code",
      "metadata": {
        "id": "T3RFKisIOJ50",
        "colab_type": "code",
        "colab": {
          "base_uri": "https://localhost:8080/",
          "height": 71
        },
        "outputId": "09595760-e2e2-492a-9755-31329e5b938e"
      },
      "source": [
        "img_rows = 256\n",
        "img_cols = 256\n",
        "num_class = 21\n",
        "path = os.path.abspath('.cnn.py') #absolute path of program\n",
        "path = re.sub('[a-zA-Z\\s._]+$', '', path) #remove unintended file\n",
        "x_train = []\n",
        "y_train = []\n",
        "x_test = []\n",
        "y_test = []\n",
        "dirs = os.listdir(path+'/drive/My Drive/ucmerced/UCMerced_LandUse/Images/')\n",
        "dirs=dirs[:-1]\n",
        "print(len(dirs))\n",
        "'''\n",
        "\n",
        "'''"
      ],
      "execution_count": 30,
      "outputs": [
        {
          "output_type": "stream",
          "text": [
            "21\n"
          ],
          "name": "stdout"
        },
        {
          "output_type": "execute_result",
          "data": {
            "text/plain": [
              "\"\\nlabel = 0\\nfor i in dirs:\\n\\tn = 0\\n\\tcount = 0\\n\\tfor pic in glob.glob(path+'UCMerced_LandUse/Images/'+i+'/*.tif'):\\n\\t\\tim = Image.open(pic)\\n\\t\\tim = np.array(im)\\n\\t\\tif((im.shape[0]==256) and (im.shape[1] ==256) and count <90): #get only 90 data\\n\\t\\t\\tr = im[:,:,0]\\n\\t\\t\\tg = im[:,:,1]\\n\\t\\t\\tb = im[:,:,2]\\n\\t\\t\\tif(n<5): # 5 data in beginning set as test data\\n\\t\\t\\t\\tx_test.append([r,g,b])\\n\\t\\t\\t\\ty_test.append([label])\\n\\t\\t\\telse: #remaining data set as training data\\n\\t\\t\\t\\tx_train.append([r,g,b])\\n\\t\\t\\t\\ty_train.append([label])\\n\\t\\t\\tn = n + 1\\n\\t\\t\\tcount = count + 1\\n\\t\\t#print(count)\\n\\tlabel = label + 1\\n\""
            ]
          },
          "metadata": {
            "tags": []
          },
          "execution_count": 30
        }
      ]
    },
    {
      "cell_type": "code",
      "metadata": {
        "id": "GaAMcRQoRH4v",
        "colab_type": "code",
        "colab": {}
      },
      "source": [
        "label = 0\n",
        "for i in dirs:\n",
        "\tn = 0\n",
        "\tcount = 0\n",
        "\tfor pic in glob.glob(path+'/drive/My Drive/ucmerced/UCMerced_LandUse/Images/'+i+'/*.tif'):\n",
        "\t\tim = Image.open(pic)\n",
        "\t\tim = np.array(im)\n",
        "\t\tif((im.shape[0]==256) and (im.shape[1] ==256) and count <90): #get only 90 data\n",
        "\t\t\tr = im[:,:,0]\n",
        "\t\t\tg = im[:,:,1]\n",
        "\t\t\tb = im[:,:,2]\n",
        "\t\t\tif(n<5): # 5 data in beginning set as test data\n",
        "\t\t\t\tx_test.append([r,g,b])\n",
        "\t\t\t\ty_test.append([label])\n",
        "\t\t\telse: #remaining data set as training data\n",
        "\t\t\t\tx_train.append([r,g,b])\n",
        "\t\t\t\ty_train.append([label])\n",
        "\t\t\tn = n + 1\n",
        "\t\t\tcount = count + 1\n",
        "\t\t#print(count)\n",
        "\tlabel = label + 1"
      ],
      "execution_count": 0,
      "outputs": []
    },
    {
      "cell_type": "code",
      "metadata": {
        "id": "oG7qmeKOQ0K6",
        "colab_type": "code",
        "colab": {}
      },
      "source": [
        ""
      ],
      "execution_count": 0,
      "outputs": []
    },
    {
      "cell_type": "code",
      "metadata": {
        "id": "LTmBzCghOO8F",
        "colab_type": "code",
        "colab": {}
      },
      "source": [
        "x_trainbck=x_train\n",
        "x_testbck=x_test\n"
      ],
      "execution_count": 0,
      "outputs": []
    },
    {
      "cell_type": "code",
      "metadata": {
        "id": "q5f6NqZkVebf",
        "colab_type": "code",
        "colab": {}
      },
      "source": [
        "x_train=np.array(x_train)\n",
        "x_test=np.array(x_test)"
      ],
      "execution_count": 0,
      "outputs": []
    },
    {
      "cell_type": "code",
      "metadata": {
        "id": "0LFYk6AVOaDn",
        "colab_type": "code",
        "colab": {}
      },
      "source": [
        "x_train = x_train.reshape(x_train.shape[0], img_rows, img_cols, 3)\n",
        "x_test = x_test.reshape(x_test.shape[0], img_rows, img_cols, 3)\n",
        "\n",
        "input_shape = (img_rows, img_cols, 3)\n",
        "\n",
        "x_train = x_train.astype('float32')\n",
        "x_test = x_test.astype('float32')\n",
        "x_train /= 255\n",
        "x_test /= 255\n",
        "y_train = keras.utils.to_categorical(y_train, 21)\n",
        "y_test = keras.utils.to_categorical(y_test, 21)"
      ],
      "execution_count": 0,
      "outputs": []
    },
    {
      "cell_type": "code",
      "metadata": {
        "id": "9V5kD_JTOlZ8",
        "colab_type": "code",
        "colab": {
          "base_uri": "https://localhost:8080/",
          "height": 374
        },
        "outputId": "9695b5ba-34e2-4c7e-cb11-89adcdf13159"
      },
      "source": [
        "print(x_train.shape)\n",
        "print(y_train.shape)\n",
        "print(x_test.shape)\n",
        "print(y_test.shape)\n",
        "print(y_test[0:10])\n",
        "print(y_train)"
      ],
      "execution_count": 36,
      "outputs": [
        {
          "output_type": "stream",
          "text": [
            "(1785, 256, 256, 3)\n",
            "(1785, 21)\n",
            "(105, 256, 256, 3)\n",
            "(105, 21)\n",
            "[[1. 0. 0. 0. 0. 0. 0. 0. 0. 0. 0. 0. 0. 0. 0. 0. 0. 0. 0. 0. 0.]\n",
            " [1. 0. 0. 0. 0. 0. 0. 0. 0. 0. 0. 0. 0. 0. 0. 0. 0. 0. 0. 0. 0.]\n",
            " [1. 0. 0. 0. 0. 0. 0. 0. 0. 0. 0. 0. 0. 0. 0. 0. 0. 0. 0. 0. 0.]\n",
            " [1. 0. 0. 0. 0. 0. 0. 0. 0. 0. 0. 0. 0. 0. 0. 0. 0. 0. 0. 0. 0.]\n",
            " [1. 0. 0. 0. 0. 0. 0. 0. 0. 0. 0. 0. 0. 0. 0. 0. 0. 0. 0. 0. 0.]\n",
            " [0. 1. 0. 0. 0. 0. 0. 0. 0. 0. 0. 0. 0. 0. 0. 0. 0. 0. 0. 0. 0.]\n",
            " [0. 1. 0. 0. 0. 0. 0. 0. 0. 0. 0. 0. 0. 0. 0. 0. 0. 0. 0. 0. 0.]\n",
            " [0. 1. 0. 0. 0. 0. 0. 0. 0. 0. 0. 0. 0. 0. 0. 0. 0. 0. 0. 0. 0.]\n",
            " [0. 1. 0. 0. 0. 0. 0. 0. 0. 0. 0. 0. 0. 0. 0. 0. 0. 0. 0. 0. 0.]\n",
            " [0. 1. 0. 0. 0. 0. 0. 0. 0. 0. 0. 0. 0. 0. 0. 0. 0. 0. 0. 0. 0.]]\n",
            "[[1. 0. 0. ... 0. 0. 0.]\n",
            " [1. 0. 0. ... 0. 0. 0.]\n",
            " [1. 0. 0. ... 0. 0. 0.]\n",
            " ...\n",
            " [0. 0. 0. ... 0. 0. 1.]\n",
            " [0. 0. 0. ... 0. 0. 1.]\n",
            " [0. 0. 0. ... 0. 0. 1.]]\n"
          ],
          "name": "stdout"
        }
      ]
    },
    {
      "cell_type": "code",
      "metadata": {
        "id": "XkVmVoPcOvjC",
        "colab_type": "code",
        "colab": {}
      },
      "source": [
        "model = Sequential()\n",
        "model.add(Conv2D(32, kernel_size=(3, 3),activation='relu',input_shape=input_shape))\n",
        "model.add(MaxPooling2D(pool_size=(2,2)))\n",
        "model.add(Conv2D(32, (3, 3), activation='relu'))\n",
        "model.add(MaxPooling2D(pool_size=(2,2)))\n",
        "model.add(Dropout(0.25))\n",
        "model.add(Flatten())\n",
        "model.add(Dense(128, activation='relu'))\n",
        "model.add(Dropout(0.5))\n",
        "model.add(Dense(21, activation='softmax'))\n",
        "model.compile(loss='categorical_crossentropy',\n",
        "            optimizer='adam',\n",
        "            metrics=['accuracy'])"
      ],
      "execution_count": 0,
      "outputs": []
    },
    {
      "cell_type": "code",
      "metadata": {
        "id": "MOYibkOFO1Ut",
        "colab_type": "code",
        "colab": {
          "base_uri": "https://localhost:8080/",
          "height": 1000
        },
        "outputId": "61d2dcc1-b9b3-4535-dca3-66a207f139b3"
      },
      "source": [
        "model.fit(x_train, y_train, batch_size=50, nb_epoch=100, verbose=1, validation_data=(x_test, y_test))"
      ],
      "execution_count": 38,
      "outputs": [
        {
          "output_type": "stream",
          "text": [
            "WARNING:tensorflow:From /usr/local/lib/python3.6/dist-packages/tensorflow_core/python/ops/math_grad.py:1424: where (from tensorflow.python.ops.array_ops) is deprecated and will be removed in a future version.\n",
            "Instructions for updating:\n",
            "Use tf.where in 2.0, which has the same broadcast rule as np.where\n"
          ],
          "name": "stdout"
        },
        {
          "output_type": "stream",
          "text": [
            "/usr/local/lib/python3.6/dist-packages/ipykernel_launcher.py:1: UserWarning: The `nb_epoch` argument in `fit` has been renamed `epochs`.\n",
            "  \"\"\"Entry point for launching an IPython kernel.\n"
          ],
          "name": "stderr"
        },
        {
          "output_type": "stream",
          "text": [
            "WARNING:tensorflow:From /usr/local/lib/python3.6/dist-packages/keras/backend/tensorflow_backend.py:1033: The name tf.assign_add is deprecated. Please use tf.compat.v1.assign_add instead.\n",
            "\n",
            "WARNING:tensorflow:From /usr/local/lib/python3.6/dist-packages/keras/backend/tensorflow_backend.py:1020: The name tf.assign is deprecated. Please use tf.compat.v1.assign instead.\n",
            "\n",
            "WARNING:tensorflow:From /usr/local/lib/python3.6/dist-packages/keras/backend/tensorflow_backend.py:3005: The name tf.Session is deprecated. Please use tf.compat.v1.Session instead.\n",
            "\n",
            "Train on 1785 samples, validate on 105 samples\n",
            "Epoch 1/100\n",
            "WARNING:tensorflow:From /usr/local/lib/python3.6/dist-packages/keras/backend/tensorflow_backend.py:190: The name tf.get_default_session is deprecated. Please use tf.compat.v1.get_default_session instead.\n",
            "\n",
            "WARNING:tensorflow:From /usr/local/lib/python3.6/dist-packages/keras/backend/tensorflow_backend.py:197: The name tf.ConfigProto is deprecated. Please use tf.compat.v1.ConfigProto instead.\n",
            "\n",
            "WARNING:tensorflow:From /usr/local/lib/python3.6/dist-packages/keras/backend/tensorflow_backend.py:207: The name tf.global_variables is deprecated. Please use tf.compat.v1.global_variables instead.\n",
            "\n",
            "WARNING:tensorflow:From /usr/local/lib/python3.6/dist-packages/keras/backend/tensorflow_backend.py:216: The name tf.is_variable_initialized is deprecated. Please use tf.compat.v1.is_variable_initialized instead.\n",
            "\n",
            "WARNING:tensorflow:From /usr/local/lib/python3.6/dist-packages/keras/backend/tensorflow_backend.py:223: The name tf.variables_initializer is deprecated. Please use tf.compat.v1.variables_initializer instead.\n",
            "\n",
            "1785/1785 [==============================] - 15s 9ms/step - loss: 3.9894 - acc: 0.0471 - val_loss: 2.9504 - val_acc: 0.0476\n",
            "Epoch 2/100\n",
            "1785/1785 [==============================] - 6s 3ms/step - loss: 2.9220 - acc: 0.0941 - val_loss: 2.8115 - val_acc: 0.1429\n",
            "Epoch 3/100\n",
            "1785/1785 [==============================] - 6s 3ms/step - loss: 2.6210 - acc: 0.2207 - val_loss: 2.5581 - val_acc: 0.2857\n",
            "Epoch 4/100\n",
            "1785/1785 [==============================] - 6s 3ms/step - loss: 2.1574 - acc: 0.3653 - val_loss: 2.2924 - val_acc: 0.4095\n",
            "Epoch 5/100\n",
            "1785/1785 [==============================] - 6s 3ms/step - loss: 1.6425 - acc: 0.5356 - val_loss: 1.8634 - val_acc: 0.5524\n",
            "Epoch 6/100\n",
            "1785/1785 [==============================] - 6s 3ms/step - loss: 1.2639 - acc: 0.6263 - val_loss: 2.0218 - val_acc: 0.4476\n",
            "Epoch 7/100\n",
            "1785/1785 [==============================] - 6s 3ms/step - loss: 0.9642 - acc: 0.7176 - val_loss: 2.0859 - val_acc: 0.4381\n",
            "Epoch 8/100\n",
            "1785/1785 [==============================] - 6s 3ms/step - loss: 0.8181 - acc: 0.7703 - val_loss: 1.8081 - val_acc: 0.4952\n",
            "Epoch 9/100\n",
            "1785/1785 [==============================] - 6s 3ms/step - loss: 0.6125 - acc: 0.8303 - val_loss: 2.2599 - val_acc: 0.4286\n",
            "Epoch 10/100\n",
            "1785/1785 [==============================] - 6s 3ms/step - loss: 0.5573 - acc: 0.8426 - val_loss: 2.1722 - val_acc: 0.4762\n",
            "Epoch 11/100\n",
            "1785/1785 [==============================] - 6s 3ms/step - loss: 0.4247 - acc: 0.8756 - val_loss: 2.1655 - val_acc: 0.4952\n",
            "Epoch 12/100\n",
            "1785/1785 [==============================] - 6s 3ms/step - loss: 0.3921 - acc: 0.8908 - val_loss: 2.2188 - val_acc: 0.4762\n",
            "Epoch 13/100\n",
            "1785/1785 [==============================] - 6s 3ms/step - loss: 0.3532 - acc: 0.9070 - val_loss: 2.1768 - val_acc: 0.4952\n",
            "Epoch 14/100\n",
            "1785/1785 [==============================] - 6s 3ms/step - loss: 0.2951 - acc: 0.9137 - val_loss: 2.2925 - val_acc: 0.5429\n",
            "Epoch 15/100\n",
            "1785/1785 [==============================] - 6s 3ms/step - loss: 0.2643 - acc: 0.9221 - val_loss: 2.7537 - val_acc: 0.4667\n",
            "Epoch 16/100\n",
            "1785/1785 [==============================] - 6s 3ms/step - loss: 0.2339 - acc: 0.9328 - val_loss: 2.5702 - val_acc: 0.4857\n",
            "Epoch 17/100\n",
            "1785/1785 [==============================] - 6s 3ms/step - loss: 0.1881 - acc: 0.9457 - val_loss: 2.4736 - val_acc: 0.4857\n",
            "Epoch 18/100\n",
            "1785/1785 [==============================] - 6s 3ms/step - loss: 0.1755 - acc: 0.9479 - val_loss: 2.3659 - val_acc: 0.4952\n",
            "Epoch 19/100\n",
            "1785/1785 [==============================] - 6s 3ms/step - loss: 0.1720 - acc: 0.9473 - val_loss: 2.5898 - val_acc: 0.4952\n",
            "Epoch 20/100\n",
            "1785/1785 [==============================] - 6s 3ms/step - loss: 0.1805 - acc: 0.9462 - val_loss: 2.7392 - val_acc: 0.4476\n",
            "Epoch 21/100\n",
            "1785/1785 [==============================] - 6s 3ms/step - loss: 0.1697 - acc: 0.9541 - val_loss: 2.9724 - val_acc: 0.5048\n",
            "Epoch 22/100\n",
            "1785/1785 [==============================] - 6s 3ms/step - loss: 0.1670 - acc: 0.9507 - val_loss: 3.3534 - val_acc: 0.4381\n",
            "Epoch 23/100\n",
            "1785/1785 [==============================] - 6s 3ms/step - loss: 0.2058 - acc: 0.9384 - val_loss: 2.5267 - val_acc: 0.4381\n",
            "Epoch 24/100\n",
            "1785/1785 [==============================] - 6s 3ms/step - loss: 0.1486 - acc: 0.9585 - val_loss: 3.1558 - val_acc: 0.4095\n",
            "Epoch 25/100\n",
            "1785/1785 [==============================] - 6s 3ms/step - loss: 0.1437 - acc: 0.9625 - val_loss: 2.7076 - val_acc: 0.5238\n",
            "Epoch 26/100\n",
            "1785/1785 [==============================] - 6s 3ms/step - loss: 0.1209 - acc: 0.9658 - val_loss: 2.6528 - val_acc: 0.5143\n",
            "Epoch 27/100\n",
            "1785/1785 [==============================] - 6s 3ms/step - loss: 0.1437 - acc: 0.9574 - val_loss: 3.1749 - val_acc: 0.4190\n",
            "Epoch 28/100\n",
            "1785/1785 [==============================] - 6s 3ms/step - loss: 0.1225 - acc: 0.9630 - val_loss: 3.0124 - val_acc: 0.5429\n",
            "Epoch 29/100\n",
            "1785/1785 [==============================] - 6s 3ms/step - loss: 0.1534 - acc: 0.9569 - val_loss: 2.3951 - val_acc: 0.5143\n",
            "Epoch 30/100\n",
            "1785/1785 [==============================] - 6s 3ms/step - loss: 0.1260 - acc: 0.9619 - val_loss: 3.0165 - val_acc: 0.5333\n",
            "Epoch 31/100\n",
            "1785/1785 [==============================] - 6s 3ms/step - loss: 0.0909 - acc: 0.9703 - val_loss: 3.0593 - val_acc: 0.4381\n",
            "Epoch 32/100\n",
            "1785/1785 [==============================] - 6s 3ms/step - loss: 0.0854 - acc: 0.9737 - val_loss: 3.2734 - val_acc: 0.4762\n",
            "Epoch 33/100\n",
            "1785/1785 [==============================] - 6s 3ms/step - loss: 0.0815 - acc: 0.9725 - val_loss: 3.0950 - val_acc: 0.4952\n",
            "Epoch 34/100\n",
            "1785/1785 [==============================] - 6s 3ms/step - loss: 0.0779 - acc: 0.9754 - val_loss: 2.8460 - val_acc: 0.5143\n",
            "Epoch 35/100\n",
            "1785/1785 [==============================] - 6s 3ms/step - loss: 0.0705 - acc: 0.9793 - val_loss: 3.4154 - val_acc: 0.5048\n",
            "Epoch 36/100\n",
            "1785/1785 [==============================] - 6s 3ms/step - loss: 0.0985 - acc: 0.9714 - val_loss: 3.0218 - val_acc: 0.4857\n",
            "Epoch 37/100\n",
            "1785/1785 [==============================] - 6s 3ms/step - loss: 0.1268 - acc: 0.9625 - val_loss: 3.0725 - val_acc: 0.4952\n",
            "Epoch 38/100\n",
            "1785/1785 [==============================] - 6s 3ms/step - loss: 0.1078 - acc: 0.9765 - val_loss: 3.9437 - val_acc: 0.4381\n",
            "Epoch 39/100\n",
            "1785/1785 [==============================] - 6s 3ms/step - loss: 0.0829 - acc: 0.9748 - val_loss: 3.5142 - val_acc: 0.4571\n",
            "Epoch 40/100\n",
            "1785/1785 [==============================] - 6s 3ms/step - loss: 0.0904 - acc: 0.9787 - val_loss: 3.9190 - val_acc: 0.4667\n",
            "Epoch 41/100\n",
            "1785/1785 [==============================] - 6s 3ms/step - loss: 0.0694 - acc: 0.9793 - val_loss: 3.5688 - val_acc: 0.4476\n",
            "Epoch 42/100\n",
            "1785/1785 [==============================] - 6s 3ms/step - loss: 0.0896 - acc: 0.9737 - val_loss: 3.5545 - val_acc: 0.4667\n",
            "Epoch 43/100\n",
            "1785/1785 [==============================] - 6s 3ms/step - loss: 0.0991 - acc: 0.9653 - val_loss: 3.9416 - val_acc: 0.4286\n",
            "Epoch 44/100\n",
            "1785/1785 [==============================] - 6s 3ms/step - loss: 0.0887 - acc: 0.9765 - val_loss: 4.0960 - val_acc: 0.4762\n",
            "Epoch 45/100\n",
            "1785/1785 [==============================] - 6s 3ms/step - loss: 0.0550 - acc: 0.9871 - val_loss: 3.7555 - val_acc: 0.4952\n",
            "Epoch 46/100\n",
            "1785/1785 [==============================] - 6s 3ms/step - loss: 0.0552 - acc: 0.9832 - val_loss: 3.3283 - val_acc: 0.5429\n",
            "Epoch 47/100\n",
            "1785/1785 [==============================] - 6s 3ms/step - loss: 0.0593 - acc: 0.9810 - val_loss: 3.4542 - val_acc: 0.5048\n",
            "Epoch 48/100\n",
            "1785/1785 [==============================] - 6s 3ms/step - loss: 0.0737 - acc: 0.9782 - val_loss: 3.7549 - val_acc: 0.4857\n",
            "Epoch 49/100\n",
            "1785/1785 [==============================] - 6s 3ms/step - loss: 0.0584 - acc: 0.9821 - val_loss: 4.1856 - val_acc: 0.4857\n",
            "Epoch 50/100\n",
            "1785/1785 [==============================] - 6s 3ms/step - loss: 0.0743 - acc: 0.9793 - val_loss: 3.9220 - val_acc: 0.4762\n",
            "Epoch 51/100\n",
            "1785/1785 [==============================] - 6s 3ms/step - loss: 0.0697 - acc: 0.9804 - val_loss: 3.2058 - val_acc: 0.5143\n",
            "Epoch 52/100\n",
            "1785/1785 [==============================] - 6s 3ms/step - loss: 0.0744 - acc: 0.9765 - val_loss: 3.3737 - val_acc: 0.4571\n",
            "Epoch 53/100\n",
            "1785/1785 [==============================] - 6s 3ms/step - loss: 0.0638 - acc: 0.9804 - val_loss: 3.3047 - val_acc: 0.4952\n",
            "Epoch 54/100\n",
            "1785/1785 [==============================] - 6s 3ms/step - loss: 0.0682 - acc: 0.9782 - val_loss: 3.7005 - val_acc: 0.4190\n",
            "Epoch 55/100\n",
            "1785/1785 [==============================] - 6s 3ms/step - loss: 0.0844 - acc: 0.9770 - val_loss: 4.3666 - val_acc: 0.4286\n",
            "Epoch 56/100\n",
            "1785/1785 [==============================] - 6s 3ms/step - loss: 0.0631 - acc: 0.9826 - val_loss: 3.6471 - val_acc: 0.4571\n",
            "Epoch 57/100\n",
            "1785/1785 [==============================] - 6s 3ms/step - loss: 0.0567 - acc: 0.9860 - val_loss: 3.5745 - val_acc: 0.4762\n",
            "Epoch 58/100\n",
            "1785/1785 [==============================] - 6s 3ms/step - loss: 0.0517 - acc: 0.9849 - val_loss: 3.4715 - val_acc: 0.4762\n",
            "Epoch 59/100\n",
            "1785/1785 [==============================] - 6s 3ms/step - loss: 0.0751 - acc: 0.9798 - val_loss: 3.5141 - val_acc: 0.4762\n",
            "Epoch 60/100\n",
            "1785/1785 [==============================] - 6s 3ms/step - loss: 0.0776 - acc: 0.9798 - val_loss: 3.6238 - val_acc: 0.5048\n",
            "Epoch 61/100\n",
            "1785/1785 [==============================] - 6s 3ms/step - loss: 0.0808 - acc: 0.9826 - val_loss: 3.5366 - val_acc: 0.4571\n",
            "Epoch 62/100\n",
            "1785/1785 [==============================] - 6s 3ms/step - loss: 0.0665 - acc: 0.9798 - val_loss: 3.4941 - val_acc: 0.4762\n",
            "Epoch 63/100\n",
            "1785/1785 [==============================] - 6s 3ms/step - loss: 0.0478 - acc: 0.9849 - val_loss: 3.8277 - val_acc: 0.4381\n",
            "Epoch 64/100\n",
            "1785/1785 [==============================] - 6s 3ms/step - loss: 0.0655 - acc: 0.9815 - val_loss: 3.4137 - val_acc: 0.4571\n",
            "Epoch 65/100\n",
            "1785/1785 [==============================] - 6s 3ms/step - loss: 0.0573 - acc: 0.9838 - val_loss: 3.9006 - val_acc: 0.4381\n",
            "Epoch 66/100\n",
            "1785/1785 [==============================] - 6s 3ms/step - loss: 0.0749 - acc: 0.9793 - val_loss: 3.7472 - val_acc: 0.4381\n",
            "Epoch 67/100\n",
            "1785/1785 [==============================] - 6s 3ms/step - loss: 0.0424 - acc: 0.9894 - val_loss: 4.2597 - val_acc: 0.4381\n",
            "Epoch 68/100\n",
            "1785/1785 [==============================] - 6s 3ms/step - loss: 0.0797 - acc: 0.9804 - val_loss: 3.5658 - val_acc: 0.4190\n",
            "Epoch 69/100\n",
            "1785/1785 [==============================] - 6s 3ms/step - loss: 0.0541 - acc: 0.9843 - val_loss: 3.7503 - val_acc: 0.4476\n",
            "Epoch 70/100\n",
            "1785/1785 [==============================] - 6s 3ms/step - loss: 0.0927 - acc: 0.9742 - val_loss: 3.8563 - val_acc: 0.4762\n",
            "Epoch 71/100\n",
            "1785/1785 [==============================] - 6s 3ms/step - loss: 0.1053 - acc: 0.9714 - val_loss: 3.9616 - val_acc: 0.4476\n",
            "Epoch 72/100\n",
            "1785/1785 [==============================] - 6s 3ms/step - loss: 0.0755 - acc: 0.9810 - val_loss: 4.2369 - val_acc: 0.4667\n",
            "Epoch 73/100\n",
            "1785/1785 [==============================] - 6s 3ms/step - loss: 0.0287 - acc: 0.9910 - val_loss: 4.3986 - val_acc: 0.4000\n",
            "Epoch 74/100\n",
            "1785/1785 [==============================] - 6s 3ms/step - loss: 0.0460 - acc: 0.9854 - val_loss: 4.5301 - val_acc: 0.4571\n",
            "Epoch 75/100\n",
            "1785/1785 [==============================] - 6s 3ms/step - loss: 0.0582 - acc: 0.9838 - val_loss: 4.5350 - val_acc: 0.4095\n",
            "Epoch 76/100\n",
            "1785/1785 [==============================] - 6s 3ms/step - loss: 0.0516 - acc: 0.9860 - val_loss: 4.5504 - val_acc: 0.4476\n",
            "Epoch 77/100\n",
            "1785/1785 [==============================] - 6s 3ms/step - loss: 0.0469 - acc: 0.9888 - val_loss: 4.2945 - val_acc: 0.4667\n",
            "Epoch 78/100\n",
            "1785/1785 [==============================] - 6s 3ms/step - loss: 0.0587 - acc: 0.9849 - val_loss: 4.3039 - val_acc: 0.4476\n",
            "Epoch 79/100\n",
            "1785/1785 [==============================] - 6s 3ms/step - loss: 0.0564 - acc: 0.9849 - val_loss: 4.2095 - val_acc: 0.4476\n",
            "Epoch 80/100\n",
            "1785/1785 [==============================] - 6s 3ms/step - loss: 0.0480 - acc: 0.9854 - val_loss: 4.8022 - val_acc: 0.3905\n",
            "Epoch 81/100\n",
            "1785/1785 [==============================] - 6s 3ms/step - loss: 0.0373 - acc: 0.9877 - val_loss: 4.4172 - val_acc: 0.4381\n",
            "Epoch 82/100\n",
            "1785/1785 [==============================] - 6s 3ms/step - loss: 0.0318 - acc: 0.9910 - val_loss: 4.5515 - val_acc: 0.4190\n",
            "Epoch 83/100\n",
            "1785/1785 [==============================] - 6s 3ms/step - loss: 0.0610 - acc: 0.9826 - val_loss: 4.1349 - val_acc: 0.4571\n",
            "Epoch 84/100\n",
            "1785/1785 [==============================] - 6s 3ms/step - loss: 0.0502 - acc: 0.9860 - val_loss: 4.0182 - val_acc: 0.4286\n",
            "Epoch 85/100\n",
            "1785/1785 [==============================] - 6s 3ms/step - loss: 0.0425 - acc: 0.9871 - val_loss: 4.4189 - val_acc: 0.4381\n",
            "Epoch 86/100\n",
            "1785/1785 [==============================] - 6s 3ms/step - loss: 0.0529 - acc: 0.9849 - val_loss: 4.9427 - val_acc: 0.4000\n",
            "Epoch 87/100\n",
            "1785/1785 [==============================] - 6s 3ms/step - loss: 0.0584 - acc: 0.9866 - val_loss: 3.4325 - val_acc: 0.4571\n",
            "Epoch 88/100\n",
            "1785/1785 [==============================] - 6s 3ms/step - loss: 0.0454 - acc: 0.9860 - val_loss: 3.3997 - val_acc: 0.4571\n",
            "Epoch 89/100\n",
            "1785/1785 [==============================] - 6s 3ms/step - loss: 0.0346 - acc: 0.9916 - val_loss: 3.4792 - val_acc: 0.4571\n",
            "Epoch 90/100\n",
            "1785/1785 [==============================] - 6s 3ms/step - loss: 0.0355 - acc: 0.9882 - val_loss: 3.3979 - val_acc: 0.4286\n",
            "Epoch 91/100\n",
            "1785/1785 [==============================] - 6s 3ms/step - loss: 0.0401 - acc: 0.9882 - val_loss: 4.0692 - val_acc: 0.4476\n",
            "Epoch 92/100\n",
            "1785/1785 [==============================] - 6s 3ms/step - loss: 0.0471 - acc: 0.9849 - val_loss: 3.9189 - val_acc: 0.5048\n",
            "Epoch 93/100\n",
            "1785/1785 [==============================] - 6s 3ms/step - loss: 0.0798 - acc: 0.9748 - val_loss: 4.0786 - val_acc: 0.4095\n",
            "Epoch 94/100\n",
            "1785/1785 [==============================] - 6s 3ms/step - loss: 0.0560 - acc: 0.9877 - val_loss: 4.0383 - val_acc: 0.4190\n",
            "Epoch 95/100\n",
            "1785/1785 [==============================] - 6s 3ms/step - loss: 0.0576 - acc: 0.9843 - val_loss: 3.4151 - val_acc: 0.4571\n",
            "Epoch 96/100\n",
            "1785/1785 [==============================] - 6s 3ms/step - loss: 0.0369 - acc: 0.9866 - val_loss: 3.6164 - val_acc: 0.4857\n",
            "Epoch 97/100\n",
            "1785/1785 [==============================] - 6s 3ms/step - loss: 0.0519 - acc: 0.9866 - val_loss: 3.3217 - val_acc: 0.4571\n",
            "Epoch 98/100\n",
            "1785/1785 [==============================] - 6s 3ms/step - loss: 0.0270 - acc: 0.9882 - val_loss: 3.3038 - val_acc: 0.4762\n",
            "Epoch 99/100\n",
            "1785/1785 [==============================] - 6s 3ms/step - loss: 0.0328 - acc: 0.9927 - val_loss: 4.0254 - val_acc: 0.4286\n",
            "Epoch 100/100\n",
            "1785/1785 [==============================] - 6s 3ms/step - loss: 0.0213 - acc: 0.9922 - val_loss: 3.5660 - val_acc: 0.4762\n"
          ],
          "name": "stdout"
        },
        {
          "output_type": "execute_result",
          "data": {
            "text/plain": [
              "<keras.callbacks.History at 0x7fd98327ce80>"
            ]
          },
          "metadata": {
            "tags": []
          },
          "execution_count": 38
        }
      ]
    },
    {
      "cell_type": "code",
      "metadata": {
        "id": "HJDw_oS3YNZ7",
        "colab_type": "code",
        "colab": {
          "base_uri": "https://localhost:8080/",
          "height": 68
        },
        "outputId": "01aae683-6e82-41bc-fab0-548679990f5e"
      },
      "source": [
        "loss, acc = model.evaluate(x_test, y_test, verbose=0)\n",
        "print('\\nTesting loss: {}, acc: {}\\n'.format(loss, acc))"
      ],
      "execution_count": 40,
      "outputs": [
        {
          "output_type": "stream",
          "text": [
            "\n",
            "Testing loss: 3.565957782382057, acc: 0.47619047846112933\n",
            "\n"
          ],
          "name": "stdout"
        }
      ]
    }
  ]
}