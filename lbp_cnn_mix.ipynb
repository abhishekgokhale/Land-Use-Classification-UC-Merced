{
  "nbformat": 4,
  "nbformat_minor": 0,
  "metadata": {
    "colab": {
      "name": "lbp_cnn_mix(1).ipynb",
      "provenance": [],
      "collapsed_sections": []
    },
    "kernelspec": {
      "name": "python3",
      "display_name": "Python 3"
    },
    "accelerator": "GPU"
  },
  "cells": [
    {
      "cell_type": "code",
      "metadata": {
        "id": "U5-4vtRLMSag",
        "colab_type": "code",
        "colab": {}
      },
      "source": [
        "import numpy as np\n",
        "import matplotlib.pyplot as plt\n",
        "import os\n",
        "import cv2\n",
        "from tqdm import tqdm\n",
        "\n",
        "\n",
        "  # graph it\n",
        "        "
      ],
      "execution_count": 0,
      "outputs": []
    },
    {
      "cell_type": "code",
      "metadata": {
        "id": "MxmUMmm7MXE4",
        "colab_type": "code",
        "colab": {}
      },
      "source": [
        "DATADIR = '/content/drive/My Drive/ucmerced/UCMerced_LandUse/Images/'\n",
        "\n",
        "CATEGORIES = [ 'agricultural',  'airplane',    'baseballdiamond', 'beach',   'buildings',          'chaparral',         'denseresidential',\n",
        "                'forest',        'freeway',     'golfcourse',      'harbor',  'intersection',       'mediumresidential', 'mobilehomepark',\n",
        "                'overpass',      'parkinglot',  'river',           'runway',  'sparseresidential',  'storagetanks',      'tenniscourt' ]\n"
      ],
      "execution_count": 0,
      "outputs": []
    },
    {
      "cell_type": "code",
      "metadata": {
        "id": "8_H86fHPMfSX",
        "colab_type": "code",
        "outputId": "97c8fdea-2ec3-448b-dd27-f341a630ab1f",
        "colab": {
          "base_uri": "https://localhost:8080/",
          "height": 35
        }
      },
      "source": [
        "from google.colab import drive\n",
        "drive.mount('/content/drive')"
      ],
      "execution_count": 5,
      "outputs": [
        {
          "output_type": "stream",
          "text": [
            "Drive already mounted at /content/drive; to attempt to forcibly remount, call drive.mount(\"/content/drive\", force_remount=True).\n"
          ],
          "name": "stdout"
        }
      ]
    },
    {
      "cell_type": "code",
      "metadata": {
        "id": "2URG-NMuMoPl",
        "colab_type": "code",
        "outputId": "ec9a4996-f08a-4f4d-da3f-349de5b6fcfe",
        "colab": {
          "base_uri": "https://localhost:8080/",
          "height": 83
        }
      },
      "source": [
        "from PIL import Image #import Python Image Library\n",
        "import numpy as np\n",
        "import os\n",
        "import glob\n",
        "import re\n",
        "import keras\n",
        "from keras.models import Sequential\n",
        "from keras.layers import Dense, Dropout, Activation, Flatten\n",
        "from keras.layers import Conv2D, MaxPooling2D\n",
        "from keras.utils import np_utils\n",
        "from keras import backend as K"
      ],
      "execution_count": 6,
      "outputs": [
        {
          "output_type": "stream",
          "text": [
            "Using TensorFlow backend.\n"
          ],
          "name": "stderr"
        },
        {
          "output_type": "display_data",
          "data": {
            "text/html": [
              "<p style=\"color: red;\">\n",
              "The default version of TensorFlow in Colab will soon switch to TensorFlow 2.x.<br>\n",
              "We recommend you <a href=\"https://www.tensorflow.org/guide/migrate\" target=\"_blank\">upgrade</a> now \n",
              "or ensure your notebook will continue to use TensorFlow 1.x via the <code>%tensorflow_version 1.x</code> magic:\n",
              "<a href=\"https://colab.research.google.com/notebooks/tensorflow_version.ipynb\" target=\"_blank\">more info</a>.</p>\n"
            ],
            "text/plain": [
              "<IPython.core.display.HTML object>"
            ]
          },
          "metadata": {
            "tags": []
          }
        }
      ]
    },
    {
      "cell_type": "code",
      "metadata": {
        "id": "rFO-OnseNc4d",
        "colab_type": "code",
        "colab": {}
      },
      "source": [
        "path = os.path.abspath('.cnn.py')"
      ],
      "execution_count": 0,
      "outputs": []
    },
    {
      "cell_type": "code",
      "metadata": {
        "id": "DJvCBpm0NjOK",
        "colab_type": "code",
        "colab": {}
      },
      "source": [
        "path = re.sub('[a-zA-Z\\s._]+$', '', path) #remove unintended file"
      ],
      "execution_count": 0,
      "outputs": []
    },
    {
      "cell_type": "code",
      "metadata": {
        "id": "KyiF2extNsAZ",
        "colab_type": "code",
        "colab": {}
      },
      "source": [
        "dirs = os.listdir(path+'/drive/My Drive/ucmerced/UCMerced_LandUse/Images/')"
      ],
      "execution_count": 0,
      "outputs": []
    },
    {
      "cell_type": "code",
      "metadata": {
        "id": "T3RFKisIOJ50",
        "colab_type": "code",
        "outputId": "4abfd3a6-0a80-4e53-9c74-1a4393c9ff44",
        "colab": {
          "base_uri": "https://localhost:8080/",
          "height": 54
        }
      },
      "source": [
        "img_rows = 256\n",
        "img_cols = 256\n",
        "num_class = 21\n",
        "path = os.path.abspath('.cnn.py') #absolute path of program\n",
        "path = re.sub('[a-zA-Z\\s._]+$', '', path) #remove unintended file\n",
        "x_train = []\n",
        "y_train = []\n",
        "x_test = []\n",
        "y_test = []\n",
        "dirs = os.listdir(path+'/drive/My Drive/ucmerced/UCMerced_LandUse/Images/')\n",
        "dirs=dirs[:]\n",
        "print(len(dirs))\n",
        "'''\n",
        "\n",
        "'''"
      ],
      "execution_count": 10,
      "outputs": [
        {
          "output_type": "stream",
          "text": [
            "21\n"
          ],
          "name": "stdout"
        },
        {
          "output_type": "execute_result",
          "data": {
            "text/plain": [
              "'\\n\\n'"
            ]
          },
          "metadata": {
            "tags": []
          },
          "execution_count": 10
        }
      ]
    },
    {
      "cell_type": "code",
      "metadata": {
        "id": "GaAMcRQoRH4v",
        "colab_type": "code",
        "colab": {}
      },
      "source": [
        "label = 0\n",
        "for i in dirs:\n",
        "\tn = 0\n",
        "\tcount = 0\n",
        "\tfor pic in glob.glob(path+'/drive/My Drive/ucmerced/UCMerced_LandUse/Images/'+i+'/*.tif'):\n",
        "\t\tim = Image.open(pic)\n",
        "\t\tim = np.array(im)\n",
        "\t\tif((im.shape[0]==256) and (im.shape[1] ==256) and count <90): #get only 90 data\n",
        "\t\t\tr = im[:,:,0]\n",
        "\t\t\tg = im[:,:,1]\n",
        "\t\t\tb = im[:,:,2]\n",
        "\t\t\t#if(n<5): # 5 data in beginning set as test data\n",
        "\t\t\t#\tx_test.append([r,g,b])\n",
        "\t\t\t#\ty_test.append([label])\n",
        "\t\t\t#else: #remaining data set as training data\n",
        "\t\t\tx_train.append([r,g,b])\n",
        "\t\t\ty_train.append([label])\n",
        "\t\t\tn = n + 1\n",
        "\t\t\tcount = count + 1\n",
        "\t\t#print(count)\n",
        "\tlabel = label + 1"
      ],
      "execution_count": 0,
      "outputs": []
    },
    {
      "cell_type": "code",
      "metadata": {
        "id": "TmOvFJvcuesL",
        "colab_type": "code",
        "colab": {}
      },
      "source": [
        "x_train = np.array(x_train)\n",
        "y_train = np.array(y_train)"
      ],
      "execution_count": 0,
      "outputs": []
    },
    {
      "cell_type": "code",
      "metadata": {
        "id": "rKbwx_04wBz2",
        "colab_type": "code",
        "outputId": "61158058-508c-4b88-b7c3-e533bc32ff23",
        "colab": {
          "base_uri": "https://localhost:8080/",
          "height": 35
        }
      },
      "source": [
        "x_train.shape\n",
        "y_train.shape"
      ],
      "execution_count": 13,
      "outputs": [
        {
          "output_type": "execute_result",
          "data": {
            "text/plain": [
              "(1890, 1)"
            ]
          },
          "metadata": {
            "tags": []
          },
          "execution_count": 13
        }
      ]
    },
    {
      "cell_type": "code",
      "metadata": {
        "id": "mhVTS9kNyGh6",
        "colab_type": "code",
        "colab": {}
      },
      "source": [
        "from sklearn.model_selection import train_test_split\n",
        "X_train, X_test, y_train, y_test = train_test_split(x_train, y_train, test_size=0.2, random_state = 142)"
      ],
      "execution_count": 0,
      "outputs": []
    },
    {
      "cell_type": "code",
      "metadata": {
        "id": "InWKCtI_ygOg",
        "colab_type": "code",
        "colab": {
          "base_uri": "https://localhost:8080/",
          "height": 199
        },
        "outputId": "811dc341-ac17-4018-8e54-cedf551a0b12"
      },
      "source": [
        "y_train[0:10]"
      ],
      "execution_count": 15,
      "outputs": [
        {
          "output_type": "execute_result",
          "data": {
            "text/plain": [
              "array([[17],\n",
              "       [20],\n",
              "       [18],\n",
              "       [16],\n",
              "       [ 8],\n",
              "       [ 4],\n",
              "       [ 5],\n",
              "       [10],\n",
              "       [16],\n",
              "       [16]])"
            ]
          },
          "metadata": {
            "tags": []
          },
          "execution_count": 15
        }
      ]
    },
    {
      "cell_type": "code",
      "metadata": {
        "id": "oG7qmeKOQ0K6",
        "colab_type": "code",
        "colab": {}
      },
      "source": [
        "from skimage import feature\n",
        "import numpy as np\n",
        " \n",
        "class LocalBinaryPatterns:\n",
        "  def __init__(self, numPoints, radius):\n",
        "# store the number of points and radius\n",
        "    self.numPoints = numPoints\n",
        "    self.radius = radius\n",
        "  def describe(self, image, eps=1e-7):\n",
        "\t\t# compute the Local Binary Pattern representation\n",
        "\t\t# of the image, and then use the LBP representation\n",
        "\t\t# to build the histogram of patterns\n",
        "    lbp = feature.local_binary_pattern(image, self.numPoints,\n",
        "    self.radius, method=\"uniform\")\n",
        "    return lbp "
      ],
      "execution_count": 0,
      "outputs": []
    },
    {
      "cell_type": "code",
      "metadata": {
        "id": "dZPEV_5y7moq",
        "colab_type": "code",
        "colab": {}
      },
      "source": [
        "desc = LocalBinaryPatterns(24, 8)"
      ],
      "execution_count": 0,
      "outputs": []
    },
    {
      "cell_type": "code",
      "metadata": {
        "id": "Hu-6Sp1p7pmc",
        "colab_type": "code",
        "colab": {}
      },
      "source": [
        ""
      ],
      "execution_count": 0,
      "outputs": []
    },
    {
      "cell_type": "code",
      "metadata": {
        "id": "LTmBzCghOO8F",
        "colab_type": "code",
        "colab": {}
      },
      "source": [
        "x_trainbck=X_train\n",
        "x_testbck=X_test\n"
      ],
      "execution_count": 0,
      "outputs": []
    },
    {
      "cell_type": "code",
      "metadata": {
        "id": "xr0noowkHDVh",
        "colab_type": "code",
        "colab": {}
      },
      "source": [
        ""
      ],
      "execution_count": 0,
      "outputs": []
    },
    {
      "cell_type": "code",
      "metadata": {
        "id": "q5f6NqZkVebf",
        "colab_type": "code",
        "colab": {}
      },
      "source": [
        "x_train=np.array(X_train)\n",
        "x_test=np.array(X_test)"
      ],
      "execution_count": 0,
      "outputs": []
    },
    {
      "cell_type": "code",
      "metadata": {
        "id": "0LFYk6AVOaDn",
        "colab_type": "code",
        "colab": {}
      },
      "source": [
        "x_train = x_train.reshape(x_train.shape[0], img_rows, img_cols, 3)\n",
        "x_test = x_test.reshape(x_test.shape[0], img_rows, img_cols, 3)\n",
        "\n",
        "input_shape = (img_rows, img_cols, 3)\n",
        "\n",
        "x_train = x_train.astype('float32')\n",
        "x_test = x_test.astype('float32')\n",
        "x_train /= 255\n",
        "x_test /= 255\n",
        "y_train = keras.utils.to_categorical(y_train, 21)\n",
        "y_test = keras.utils.to_categorical(y_test, 21)"
      ],
      "execution_count": 0,
      "outputs": []
    },
    {
      "cell_type": "code",
      "metadata": {
        "id": "wKielptX75qc",
        "colab_type": "code",
        "colab": {}
      },
      "source": [
        "x_train_lbp=[]\n"
      ],
      "execution_count": 0,
      "outputs": []
    },
    {
      "cell_type": "code",
      "metadata": {
        "id": "eTFxGEf67054",
        "colab_type": "code",
        "colab": {}
      },
      "source": [
        "for i in x_train:\n",
        "  gray = cv2.cvtColor(i, cv2.COLOR_BGR2GRAY)\n",
        "  hist = desc.describe(gray)\n",
        "  x_train_lbp.append(hist)"
      ],
      "execution_count": 0,
      "outputs": []
    },
    {
      "cell_type": "code",
      "metadata": {
        "id": "ysvzWJdN9FQF",
        "colab_type": "code",
        "colab": {}
      },
      "source": [
        "x_train_lbp=np.array(x_train_lbp)"
      ],
      "execution_count": 0,
      "outputs": []
    },
    {
      "cell_type": "code",
      "metadata": {
        "id": "AxdUV_ay9Nf5",
        "colab_type": "code",
        "outputId": "193cd803-cf22-45b6-8fbc-56969abd30db",
        "colab": {
          "base_uri": "https://localhost:8080/",
          "height": 35
        }
      },
      "source": [
        "x_train_lbp.shape"
      ],
      "execution_count": 24,
      "outputs": [
        {
          "output_type": "execute_result",
          "data": {
            "text/plain": [
              "(1512, 256, 256)"
            ]
          },
          "metadata": {
            "tags": []
          },
          "execution_count": 24
        }
      ]
    },
    {
      "cell_type": "code",
      "metadata": {
        "id": "_ngUuDaV9ZHR",
        "colab_type": "code",
        "colab": {}
      },
      "source": [
        "x_test_lbp=[]"
      ],
      "execution_count": 0,
      "outputs": []
    },
    {
      "cell_type": "code",
      "metadata": {
        "id": "j-L3uaS49Ujz",
        "colab_type": "code",
        "colab": {}
      },
      "source": [
        "for i in x_test:\n",
        "  gray = cv2.cvtColor(i, cv2.COLOR_BGR2GRAY)\n",
        "  hist = desc.describe(gray)\n",
        "  x_test_lbp.append(hist)"
      ],
      "execution_count": 0,
      "outputs": []
    },
    {
      "cell_type": "code",
      "metadata": {
        "id": "NMUtHgcL9c2p",
        "colab_type": "code",
        "colab": {}
      },
      "source": [
        "x_test_lbp=np.array(x_test_lbp)"
      ],
      "execution_count": 0,
      "outputs": []
    },
    {
      "cell_type": "code",
      "metadata": {
        "id": "fI8VXbVS9gsv",
        "colab_type": "code",
        "outputId": "e04befe1-c14a-487c-97fb-c541716089b5",
        "colab": {
          "base_uri": "https://localhost:8080/",
          "height": 35
        }
      },
      "source": [
        "x_test_lbp.shape"
      ],
      "execution_count": 28,
      "outputs": [
        {
          "output_type": "execute_result",
          "data": {
            "text/plain": [
              "(378, 256, 256)"
            ]
          },
          "metadata": {
            "tags": []
          },
          "execution_count": 28
        }
      ]
    },
    {
      "cell_type": "code",
      "metadata": {
        "id": "_-9FmgnpAulz",
        "colab_type": "code",
        "colab": {}
      },
      "source": [
        "c=[]\n",
        "for i in range(1512):\n",
        "  c.append(np.dstack((x_train[i],x_train_lbp[i])))"
      ],
      "execution_count": 0,
      "outputs": []
    },
    {
      "cell_type": "code",
      "metadata": {
        "id": "8K8jeWubBMqA",
        "colab_type": "code",
        "colab": {
          "base_uri": "https://localhost:8080/",
          "height": 35
        },
        "outputId": "d873a56e-a92d-4c17-a896-612991df15fa"
      },
      "source": [
        "x_train_mix = np.array(c) \n",
        "x_train_mix.shape"
      ],
      "execution_count": 27,
      "outputs": [
        {
          "output_type": "execute_result",
          "data": {
            "text/plain": [
              "(1512, 256, 256, 4)"
            ]
          },
          "metadata": {
            "tags": []
          },
          "execution_count": 27
        }
      ]
    },
    {
      "cell_type": "code",
      "metadata": {
        "id": "X-Lx_j4eBnau",
        "colab_type": "code",
        "colab": {
          "base_uri": "https://localhost:8080/",
          "height": 207
        },
        "outputId": "396ded70-24cc-4551-bd77-323f55d67f80"
      },
      "source": [
        "d=[]\n",
        "for i in range(378):\n",
        "  d.append(np.dstack((x_test[i],x_test_lbp[i])))"
      ],
      "execution_count": 1,
      "outputs": [
        {
          "output_type": "error",
          "ename": "NameError",
          "evalue": "ignored",
          "traceback": [
            "\u001b[0;31m---------------------------------------------------------------------------\u001b[0m",
            "\u001b[0;31mNameError\u001b[0m                                 Traceback (most recent call last)",
            "\u001b[0;32m<ipython-input-1-1bef6cb1e012>\u001b[0m in \u001b[0;36m<module>\u001b[0;34m()\u001b[0m\n\u001b[1;32m      1\u001b[0m \u001b[0md\u001b[0m\u001b[0;34m=\u001b[0m\u001b[0;34m[\u001b[0m\u001b[0;34m]\u001b[0m\u001b[0;34m\u001b[0m\u001b[0;34m\u001b[0m\u001b[0m\n\u001b[1;32m      2\u001b[0m \u001b[0;32mfor\u001b[0m \u001b[0mi\u001b[0m \u001b[0;32min\u001b[0m \u001b[0mrange\u001b[0m\u001b[0;34m(\u001b[0m\u001b[0;36m378\u001b[0m\u001b[0;34m)\u001b[0m\u001b[0;34m:\u001b[0m\u001b[0;34m\u001b[0m\u001b[0;34m\u001b[0m\u001b[0m\n\u001b[0;32m----> 3\u001b[0;31m   \u001b[0md\u001b[0m\u001b[0;34m.\u001b[0m\u001b[0mappend\u001b[0m\u001b[0;34m(\u001b[0m\u001b[0mnp\u001b[0m\u001b[0;34m.\u001b[0m\u001b[0mdstack\u001b[0m\u001b[0;34m(\u001b[0m\u001b[0;34m(\u001b[0m\u001b[0mx_test\u001b[0m\u001b[0;34m[\u001b[0m\u001b[0mi\u001b[0m\u001b[0;34m]\u001b[0m\u001b[0;34m,\u001b[0m\u001b[0mx_test_lbp\u001b[0m\u001b[0;34m[\u001b[0m\u001b[0mi\u001b[0m\u001b[0;34m]\u001b[0m\u001b[0;34m)\u001b[0m\u001b[0;34m)\u001b[0m\u001b[0;34m)\u001b[0m\u001b[0;34m\u001b[0m\u001b[0;34m\u001b[0m\u001b[0m\n\u001b[0m",
            "\u001b[0;31mNameError\u001b[0m: name 'np' is not defined"
          ]
        }
      ]
    },
    {
      "cell_type": "code",
      "metadata": {
        "id": "dA8D7C9sDOkL",
        "colab_type": "code",
        "colab": {}
      },
      "source": [
        "x_test_mix = np.array(d) \n",
        "x_test_mix.shape"
      ],
      "execution_count": 0,
      "outputs": []
    },
    {
      "cell_type": "code",
      "metadata": {
        "id": "tJTwNwoZ9ji9",
        "colab_type": "code",
        "colab": {}
      },
      "source": [
        "import tensorflow as tf\n",
        "from tensorflow.keras.datasets import cifar10\n",
        "from tensorflow.keras.preprocessing.image import ImageDataGenerator\n",
        "from tensorflow.keras.models import Sequential\n",
        "from tensorflow.keras.layers import Dense, Dropout, Activation, Flatten\n",
        "from tensorflow.keras.layers import Conv2D, MaxPooling2D"
      ],
      "execution_count": 0,
      "outputs": []
    },
    {
      "cell_type": "code",
      "metadata": {
        "id": "Hlu1ZInc9myw",
        "colab_type": "code",
        "colab": {}
      },
      "source": [
        "x_train_lbp = x_train_lbp.reshape(x_train_mix.shape[0], img_rows, img_cols,1)\n",
        "x_test_lbp = x_test_lbp.reshape(x_test_mix.shape[0], img_rows, img_cols,1)\n",
        "\n",
        "input_shape = (img_rows, img_cols,1)"
      ],
      "execution_count": 0,
      "outputs": []
    },
    {
      "cell_type": "code",
      "metadata": {
        "id": "XkVmVoPcOvjC",
        "colab_type": "code",
        "outputId": "24aeebdf-8c26-4635-f840-5cf18c161a78",
        "colab": {
          "base_uri": "https://localhost:8080/",
          "height": 92
        }
      },
      "source": [
        "model = Sequential()\n",
        "model.add(Conv2D(32, kernel_size=(3, 3),activation='relu',input_shape=x_train_lbp.shape[1:]))\n",
        "model.add(MaxPooling2D(pool_size=(2,2)))\n",
        "model.add(Conv2D(32, (3, 3), activation='relu'))\n",
        "model.add(MaxPooling2D(pool_size=(2,2)))\n",
        "model.add(Dropout(0.25))\n",
        "model.add(Flatten())\n",
        "model.add(Dense(128, activation='relu'))\n",
        "model.add(Dropout(0.5))\n",
        "model.add(Dense(21, activation='softmax'))\n",
        "model.compile(loss='categorical_crossentropy',\n",
        "            optimizer='adam',\n",
        "            metrics=['accuracy'])"
      ],
      "execution_count": 31,
      "outputs": [
        {
          "output_type": "stream",
          "text": [
            "WARNING:tensorflow:From /usr/local/lib/python3.6/dist-packages/tensorflow_core/python/ops/resource_variable_ops.py:1630: calling BaseResourceVariable.__init__ (from tensorflow.python.ops.resource_variable_ops) with constraint is deprecated and will be removed in a future version.\n",
            "Instructions for updating:\n",
            "If using Keras pass *_constraint arguments to layers.\n"
          ],
          "name": "stdout"
        }
      ]
    },
    {
      "cell_type": "code",
      "metadata": {
        "id": "1DLTNA0q_dDk",
        "colab_type": "code",
        "colab": {}
      },
      "source": [
        ""
      ],
      "execution_count": 0,
      "outputs": []
    },
    {
      "cell_type": "code",
      "metadata": {
        "id": "MOYibkOFO1Ut",
        "colab_type": "code",
        "outputId": "8a1ce857-e643-4dc7-d1c1-7523b2b695ba",
        "colab": {
          "base_uri": "https://localhost:8080/",
          "height": 1000
        }
      },
      "source": [
        "model.fit(x_train_lbp, y_train, batch_size=50, nb_epoch=100, verbose=1, validation_data=(x_test_lbp, y_test))"
      ],
      "execution_count": 32,
      "outputs": [
        {
          "output_type": "stream",
          "text": [
            "WARNING:tensorflow:The `nb_epoch` argument in `fit` has been renamed `epochs`.\n",
            "Train on 1512 samples, validate on 378 samples\n",
            "Epoch 1/100\n",
            "1512/1512 [==============================] - 8s 6ms/sample - loss: 20.1899 - acc: 0.0476 - val_loss: 3.0492 - val_acc: 0.0476\n",
            "Epoch 2/100\n",
            "1512/1512 [==============================] - 3s 2ms/sample - loss: 2.9830 - acc: 0.0833 - val_loss: 2.9792 - val_acc: 0.0794\n",
            "Epoch 3/100\n",
            "1512/1512 [==============================] - 3s 2ms/sample - loss: 2.6789 - acc: 0.1746 - val_loss: 2.9221 - val_acc: 0.0952\n",
            "Epoch 4/100\n",
            "1512/1512 [==============================] - 3s 2ms/sample - loss: 2.0708 - acc: 0.3843 - val_loss: 2.9488 - val_acc: 0.1005\n",
            "Epoch 5/100\n",
            "1512/1512 [==============================] - 3s 2ms/sample - loss: 1.3481 - acc: 0.6104 - val_loss: 3.0648 - val_acc: 0.1429\n",
            "Epoch 6/100\n",
            "1512/1512 [==============================] - 3s 2ms/sample - loss: 0.8884 - acc: 0.7328 - val_loss: 3.2464 - val_acc: 0.1534\n",
            "Epoch 7/100\n",
            "1512/1512 [==============================] - 3s 2ms/sample - loss: 0.6407 - acc: 0.8161 - val_loss: 3.1013 - val_acc: 0.1746\n",
            "Epoch 8/100\n",
            "1512/1512 [==============================] - 3s 2ms/sample - loss: 0.4855 - acc: 0.8618 - val_loss: 3.3667 - val_acc: 0.1640\n",
            "Epoch 9/100\n",
            "1512/1512 [==============================] - 3s 2ms/sample - loss: 0.3468 - acc: 0.9015 - val_loss: 3.2291 - val_acc: 0.1587\n",
            "Epoch 10/100\n",
            "1512/1512 [==============================] - 3s 2ms/sample - loss: 0.2917 - acc: 0.9081 - val_loss: 3.6408 - val_acc: 0.1931\n",
            "Epoch 11/100\n",
            "1512/1512 [==============================] - 3s 2ms/sample - loss: 0.2637 - acc: 0.9220 - val_loss: 3.5780 - val_acc: 0.1799\n",
            "Epoch 12/100\n",
            "1512/1512 [==============================] - 3s 2ms/sample - loss: 0.1888 - acc: 0.9444 - val_loss: 3.8188 - val_acc: 0.1799\n",
            "Epoch 13/100\n",
            "1512/1512 [==============================] - 3s 2ms/sample - loss: 0.1885 - acc: 0.9471 - val_loss: 3.6249 - val_acc: 0.1720\n",
            "Epoch 14/100\n",
            "1512/1512 [==============================] - 3s 2ms/sample - loss: 0.1635 - acc: 0.9491 - val_loss: 3.3718 - val_acc: 0.1799\n",
            "Epoch 15/100\n",
            "1512/1512 [==============================] - 3s 2ms/sample - loss: 0.1597 - acc: 0.9537 - val_loss: 3.8552 - val_acc: 0.2063\n",
            "Epoch 16/100\n",
            "1512/1512 [==============================] - 3s 2ms/sample - loss: 0.1429 - acc: 0.9550 - val_loss: 3.8292 - val_acc: 0.1190\n",
            "Epoch 17/100\n",
            "1512/1512 [==============================] - 3s 2ms/sample - loss: 0.1222 - acc: 0.9663 - val_loss: 4.2630 - val_acc: 0.1693\n",
            "Epoch 18/100\n",
            "1512/1512 [==============================] - 3s 2ms/sample - loss: 0.1242 - acc: 0.9656 - val_loss: 3.5247 - val_acc: 0.1720\n",
            "Epoch 19/100\n",
            "1512/1512 [==============================] - 3s 2ms/sample - loss: 0.1076 - acc: 0.9643 - val_loss: 3.6954 - val_acc: 0.2011\n",
            "Epoch 20/100\n",
            "1512/1512 [==============================] - 3s 2ms/sample - loss: 0.1165 - acc: 0.9636 - val_loss: 4.0251 - val_acc: 0.2063\n",
            "Epoch 21/100\n",
            "1512/1512 [==============================] - 3s 2ms/sample - loss: 0.1248 - acc: 0.9630 - val_loss: 3.6795 - val_acc: 0.2196\n",
            "Epoch 22/100\n",
            "1512/1512 [==============================] - 3s 2ms/sample - loss: 0.1151 - acc: 0.9696 - val_loss: 4.2065 - val_acc: 0.1984\n",
            "Epoch 23/100\n",
            "1512/1512 [==============================] - 3s 2ms/sample - loss: 0.1342 - acc: 0.9676 - val_loss: 4.0913 - val_acc: 0.1799\n",
            "Epoch 24/100\n",
            "1512/1512 [==============================] - 3s 2ms/sample - loss: 0.1023 - acc: 0.9755 - val_loss: 3.9294 - val_acc: 0.1481\n",
            "Epoch 25/100\n",
            "1512/1512 [==============================] - 3s 2ms/sample - loss: 0.0788 - acc: 0.9755 - val_loss: 4.8651 - val_acc: 0.1534\n",
            "Epoch 26/100\n",
            "1512/1512 [==============================] - 3s 2ms/sample - loss: 0.0864 - acc: 0.9788 - val_loss: 4.5980 - val_acc: 0.1878\n",
            "Epoch 27/100\n",
            "1512/1512 [==============================] - 3s 2ms/sample - loss: 0.0706 - acc: 0.9848 - val_loss: 4.1812 - val_acc: 0.2143\n",
            "Epoch 28/100\n",
            "1512/1512 [==============================] - 3s 2ms/sample - loss: 0.0648 - acc: 0.9775 - val_loss: 4.3011 - val_acc: 0.1931\n",
            "Epoch 29/100\n",
            "1512/1512 [==============================] - 3s 2ms/sample - loss: 0.0629 - acc: 0.9841 - val_loss: 4.1436 - val_acc: 0.1958\n",
            "Epoch 30/100\n",
            "1512/1512 [==============================] - 3s 2ms/sample - loss: 0.1008 - acc: 0.9676 - val_loss: 3.6430 - val_acc: 0.1667\n",
            "Epoch 31/100\n",
            "1512/1512 [==============================] - 3s 2ms/sample - loss: 0.0817 - acc: 0.9815 - val_loss: 4.5298 - val_acc: 0.1905\n",
            "Epoch 32/100\n",
            "1512/1512 [==============================] - 3s 2ms/sample - loss: 0.0539 - acc: 0.9841 - val_loss: 4.6375 - val_acc: 0.2011\n",
            "Epoch 33/100\n",
            "1512/1512 [==============================] - 3s 2ms/sample - loss: 0.0776 - acc: 0.9775 - val_loss: 4.4108 - val_acc: 0.1587\n",
            "Epoch 34/100\n",
            "1512/1512 [==============================] - 3s 2ms/sample - loss: 0.0813 - acc: 0.9762 - val_loss: 3.8555 - val_acc: 0.1561\n",
            "Epoch 35/100\n",
            "1512/1512 [==============================] - 3s 2ms/sample - loss: 0.0595 - acc: 0.9815 - val_loss: 4.7204 - val_acc: 0.2169\n",
            "Epoch 36/100\n",
            "1512/1512 [==============================] - 3s 2ms/sample - loss: 0.0594 - acc: 0.9841 - val_loss: 5.0025 - val_acc: 0.1772\n",
            "Epoch 37/100\n",
            "1512/1512 [==============================] - 3s 2ms/sample - loss: 0.0625 - acc: 0.9828 - val_loss: 5.0339 - val_acc: 0.1720\n",
            "Epoch 38/100\n",
            "1512/1512 [==============================] - 3s 2ms/sample - loss: 0.0676 - acc: 0.9835 - val_loss: 4.6543 - val_acc: 0.1825\n",
            "Epoch 39/100\n",
            "1512/1512 [==============================] - 3s 2ms/sample - loss: 0.0402 - acc: 0.9881 - val_loss: 5.1262 - val_acc: 0.1905\n",
            "Epoch 40/100\n",
            "1512/1512 [==============================] - 3s 2ms/sample - loss: 0.0717 - acc: 0.9841 - val_loss: 4.4002 - val_acc: 0.2275\n",
            "Epoch 41/100\n",
            "1512/1512 [==============================] - 3s 2ms/sample - loss: 0.0391 - acc: 0.9907 - val_loss: 5.3429 - val_acc: 0.1931\n",
            "Epoch 42/100\n",
            "1512/1512 [==============================] - 3s 2ms/sample - loss: 0.0323 - acc: 0.9914 - val_loss: 5.2773 - val_acc: 0.1958\n",
            "Epoch 43/100\n",
            "1512/1512 [==============================] - 3s 2ms/sample - loss: 0.0390 - acc: 0.9874 - val_loss: 5.0859 - val_acc: 0.1825\n",
            "Epoch 44/100\n",
            "1512/1512 [==============================] - 3s 2ms/sample - loss: 0.0480 - acc: 0.9841 - val_loss: 5.0241 - val_acc: 0.1905\n",
            "Epoch 45/100\n",
            "1512/1512 [==============================] - 3s 2ms/sample - loss: 0.0515 - acc: 0.9901 - val_loss: 4.5819 - val_acc: 0.2037\n",
            "Epoch 46/100\n",
            "1512/1512 [==============================] - 3s 2ms/sample - loss: 0.0387 - acc: 0.9888 - val_loss: 5.3154 - val_acc: 0.1825\n",
            "Epoch 47/100\n",
            "1512/1512 [==============================] - 3s 2ms/sample - loss: 0.0500 - acc: 0.9874 - val_loss: 4.3905 - val_acc: 0.1984\n",
            "Epoch 48/100\n",
            "1512/1512 [==============================] - 3s 2ms/sample - loss: 0.0532 - acc: 0.9874 - val_loss: 4.7783 - val_acc: 0.1402\n",
            "Epoch 49/100\n",
            "1512/1512 [==============================] - 3s 2ms/sample - loss: 0.0460 - acc: 0.9874 - val_loss: 6.0890 - val_acc: 0.1614\n",
            "Epoch 50/100\n",
            "1512/1512 [==============================] - 3s 2ms/sample - loss: 0.0920 - acc: 0.9788 - val_loss: 5.4604 - val_acc: 0.1561\n",
            "Epoch 51/100\n",
            "1512/1512 [==============================] - 3s 2ms/sample - loss: 0.0529 - acc: 0.9914 - val_loss: 5.2018 - val_acc: 0.1349\n",
            "Epoch 52/100\n",
            "1512/1512 [==============================] - 3s 2ms/sample - loss: 0.0737 - acc: 0.9841 - val_loss: 5.4594 - val_acc: 0.1667\n",
            "Epoch 53/100\n",
            "1512/1512 [==============================] - 3s 2ms/sample - loss: 0.0484 - acc: 0.9861 - val_loss: 5.5690 - val_acc: 0.1825\n",
            "Epoch 54/100\n",
            "1512/1512 [==============================] - 3s 2ms/sample - loss: 0.0479 - acc: 0.9874 - val_loss: 5.5745 - val_acc: 0.1614\n",
            "Epoch 55/100\n",
            "1512/1512 [==============================] - 3s 2ms/sample - loss: 0.0770 - acc: 0.9815 - val_loss: 4.7252 - val_acc: 0.1296\n",
            "Epoch 56/100\n",
            "1512/1512 [==============================] - 3s 2ms/sample - loss: 0.0468 - acc: 0.9874 - val_loss: 6.8842 - val_acc: 0.1614\n",
            "Epoch 57/100\n",
            "1512/1512 [==============================] - 3s 2ms/sample - loss: 0.0745 - acc: 0.9868 - val_loss: 5.2617 - val_acc: 0.1455\n",
            "Epoch 58/100\n",
            "1512/1512 [==============================] - 3s 2ms/sample - loss: 0.0788 - acc: 0.9821 - val_loss: 6.4859 - val_acc: 0.1640\n",
            "Epoch 59/100\n",
            "1512/1512 [==============================] - 3s 2ms/sample - loss: 0.0653 - acc: 0.9788 - val_loss: 5.0497 - val_acc: 0.1508\n",
            "Epoch 60/100\n",
            "1512/1512 [==============================] - 3s 2ms/sample - loss: 0.0325 - acc: 0.9907 - val_loss: 6.4935 - val_acc: 0.1746\n",
            "Epoch 61/100\n",
            "1512/1512 [==============================] - 3s 2ms/sample - loss: 0.0666 - acc: 0.9802 - val_loss: 6.0841 - val_acc: 0.1429\n",
            "Epoch 62/100\n",
            "1512/1512 [==============================] - 3s 2ms/sample - loss: 0.0690 - acc: 0.9848 - val_loss: 6.1479 - val_acc: 0.1534\n",
            "Epoch 63/100\n",
            "1512/1512 [==============================] - 3s 2ms/sample - loss: 0.0918 - acc: 0.9815 - val_loss: 7.3719 - val_acc: 0.1429\n",
            "Epoch 64/100\n",
            "1512/1512 [==============================] - 3s 2ms/sample - loss: 0.0617 - acc: 0.9848 - val_loss: 8.1316 - val_acc: 0.1481\n",
            "Epoch 65/100\n",
            "1512/1512 [==============================] - 3s 2ms/sample - loss: 0.0665 - acc: 0.9815 - val_loss: 5.1037 - val_acc: 0.1534\n",
            "Epoch 66/100\n",
            "1512/1512 [==============================] - 3s 2ms/sample - loss: 0.0476 - acc: 0.9854 - val_loss: 7.0941 - val_acc: 0.1561\n",
            "Epoch 67/100\n",
            "1512/1512 [==============================] - 3s 2ms/sample - loss: 0.0709 - acc: 0.9821 - val_loss: 6.2938 - val_acc: 0.1376\n",
            "Epoch 68/100\n",
            "1512/1512 [==============================] - 3s 2ms/sample - loss: 0.0461 - acc: 0.9854 - val_loss: 5.6092 - val_acc: 0.1455\n",
            "Epoch 69/100\n",
            "1512/1512 [==============================] - 3s 2ms/sample - loss: 0.0801 - acc: 0.9795 - val_loss: 5.2953 - val_acc: 0.1825\n",
            "Epoch 70/100\n",
            "1512/1512 [==============================] - 3s 2ms/sample - loss: 0.0665 - acc: 0.9802 - val_loss: 4.7200 - val_acc: 0.1693\n",
            "Epoch 71/100\n",
            "1512/1512 [==============================] - 3s 2ms/sample - loss: 0.0566 - acc: 0.9808 - val_loss: 5.4960 - val_acc: 0.1481\n",
            "Epoch 72/100\n",
            "1512/1512 [==============================] - 3s 2ms/sample - loss: 0.0318 - acc: 0.9901 - val_loss: 6.8906 - val_acc: 0.1349\n",
            "Epoch 73/100\n",
            "1512/1512 [==============================] - 3s 2ms/sample - loss: 0.0672 - acc: 0.9821 - val_loss: 5.3864 - val_acc: 0.1323\n",
            "Epoch 74/100\n",
            "1512/1512 [==============================] - 3s 2ms/sample - loss: 0.0755 - acc: 0.9861 - val_loss: 5.7903 - val_acc: 0.1508\n",
            "Epoch 75/100\n",
            "1512/1512 [==============================] - 3s 2ms/sample - loss: 0.0512 - acc: 0.9888 - val_loss: 5.6273 - val_acc: 0.1746\n",
            "Epoch 76/100\n",
            "1512/1512 [==============================] - 3s 2ms/sample - loss: 0.0292 - acc: 0.9921 - val_loss: 6.3666 - val_acc: 0.1640\n",
            "Epoch 77/100\n",
            "1512/1512 [==============================] - 3s 2ms/sample - loss: 0.0557 - acc: 0.9841 - val_loss: 4.8680 - val_acc: 0.1508\n",
            "Epoch 78/100\n",
            "1512/1512 [==============================] - 3s 2ms/sample - loss: 0.0473 - acc: 0.9901 - val_loss: 7.0470 - val_acc: 0.1429\n",
            "Epoch 79/100\n",
            "1512/1512 [==============================] - 3s 2ms/sample - loss: 0.0339 - acc: 0.9894 - val_loss: 5.6344 - val_acc: 0.1772\n",
            "Epoch 80/100\n",
            "1512/1512 [==============================] - 3s 2ms/sample - loss: 0.0257 - acc: 0.9901 - val_loss: 6.3229 - val_acc: 0.1746\n",
            "Epoch 81/100\n",
            "1512/1512 [==============================] - 3s 2ms/sample - loss: 0.0177 - acc: 0.9940 - val_loss: 7.8661 - val_acc: 0.1799\n",
            "Epoch 82/100\n",
            "1512/1512 [==============================] - 3s 2ms/sample - loss: 0.0184 - acc: 0.9940 - val_loss: 6.8260 - val_acc: 0.1878\n",
            "Epoch 83/100\n",
            "1512/1512 [==============================] - 3s 2ms/sample - loss: 0.0415 - acc: 0.9901 - val_loss: 7.1737 - val_acc: 0.1746\n",
            "Epoch 84/100\n",
            "1512/1512 [==============================] - 3s 2ms/sample - loss: 0.0137 - acc: 0.9954 - val_loss: 6.9437 - val_acc: 0.1667\n",
            "Epoch 85/100\n",
            "1512/1512 [==============================] - 3s 2ms/sample - loss: 0.0380 - acc: 0.9934 - val_loss: 5.4920 - val_acc: 0.1720\n",
            "Epoch 86/100\n",
            "1512/1512 [==============================] - 3s 2ms/sample - loss: 0.0291 - acc: 0.9881 - val_loss: 5.5437 - val_acc: 0.1984\n",
            "Epoch 87/100\n",
            "1512/1512 [==============================] - 3s 2ms/sample - loss: 0.0452 - acc: 0.9888 - val_loss: 4.9052 - val_acc: 0.1772\n",
            "Epoch 88/100\n",
            "1512/1512 [==============================] - 3s 2ms/sample - loss: 0.0397 - acc: 0.9921 - val_loss: 5.5253 - val_acc: 0.1825\n",
            "Epoch 89/100\n",
            "1512/1512 [==============================] - 3s 2ms/sample - loss: 0.0511 - acc: 0.9901 - val_loss: 5.0679 - val_acc: 0.1931\n",
            "Epoch 90/100\n",
            "1512/1512 [==============================] - 3s 2ms/sample - loss: 0.0411 - acc: 0.9907 - val_loss: 7.3574 - val_acc: 0.1825\n",
            "Epoch 91/100\n",
            "1512/1512 [==============================] - 3s 2ms/sample - loss: 0.0371 - acc: 0.9868 - val_loss: 6.7012 - val_acc: 0.1772\n",
            "Epoch 92/100\n",
            "1512/1512 [==============================] - 3s 2ms/sample - loss: 0.0308 - acc: 0.9914 - val_loss: 6.4064 - val_acc: 0.1799\n",
            "Epoch 93/100\n",
            "1512/1512 [==============================] - 3s 2ms/sample - loss: 0.0372 - acc: 0.9907 - val_loss: 6.3663 - val_acc: 0.1772\n",
            "Epoch 94/100\n",
            "1512/1512 [==============================] - 3s 2ms/sample - loss: 0.0461 - acc: 0.9901 - val_loss: 6.7503 - val_acc: 0.1349\n",
            "Epoch 95/100\n",
            "1512/1512 [==============================] - 3s 2ms/sample - loss: 0.0298 - acc: 0.9940 - val_loss: 6.3237 - val_acc: 0.1376\n",
            "Epoch 96/100\n",
            "1512/1512 [==============================] - 3s 2ms/sample - loss: 0.0267 - acc: 0.9927 - val_loss: 6.4844 - val_acc: 0.1349\n",
            "Epoch 97/100\n",
            "1512/1512 [==============================] - 3s 2ms/sample - loss: 0.0558 - acc: 0.9888 - val_loss: 7.0741 - val_acc: 0.1429\n",
            "Epoch 98/100\n",
            "1512/1512 [==============================] - 3s 2ms/sample - loss: 0.0511 - acc: 0.9828 - val_loss: 5.9979 - val_acc: 0.1772\n",
            "Epoch 99/100\n",
            "1512/1512 [==============================] - 3s 2ms/sample - loss: 0.0233 - acc: 0.9921 - val_loss: 6.1840 - val_acc: 0.1667\n",
            "Epoch 100/100\n",
            "1512/1512 [==============================] - 3s 2ms/sample - loss: 0.0256 - acc: 0.9927 - val_loss: 7.3106 - val_acc: 0.1455\n"
          ],
          "name": "stdout"
        },
        {
          "output_type": "execute_result",
          "data": {
            "text/plain": [
              "<tensorflow.python.keras.callbacks.History at 0x7f622ed50cc0>"
            ]
          },
          "metadata": {
            "tags": []
          },
          "execution_count": 32
        }
      ]
    },
    {
      "cell_type": "code",
      "metadata": {
        "id": "HJDw_oS3YNZ7",
        "colab_type": "code",
        "outputId": "74dc55b4-c96e-4687-fdfd-416f22d83e12",
        "colab": {
          "base_uri": "https://localhost:8080/",
          "height": 72
        }
      },
      "source": [
        "loss, acc = model.evaluate(x_test_lbp, y_test, verbose=0)\n",
        "print('\\nTesting loss: {}, acc: {}\\n'.format(loss, acc))"
      ],
      "execution_count": 34,
      "outputs": [
        {
          "output_type": "stream",
          "text": [
            "\n",
            "Testing loss: 7.3105861673910155, acc: 0.14550264179706573\n",
            "\n"
          ],
          "name": "stdout"
        }
      ]
    },
    {
      "cell_type": "code",
      "metadata": {
        "id": "H4Wp4lVO13fU",
        "colab_type": "code",
        "colab": {}
      },
      "source": [
        "DATADIR = '/content/drive/My Drive/ucmerced/UCMerced_LandUse/Images/'\n",
        "\n",
        "CATEGORIES = [ 'agricultural',  'airplane',    'baseballdiamond', 'beach',   'buildings',          'chaparral',         'denseresidential',\n",
        "                'forest',        'freeway',     'golfcourse',      'harbor',  'intersection',       'mediumresidential', 'mobilehomepark',\n",
        "                'overpass',      'parkinglot',  'river',           'runway',  'sparseresidential',  'storagetanks',      'tenniscourt' ]\n"
      ],
      "execution_count": 0,
      "outputs": []
    },
    {
      "cell_type": "code",
      "metadata": {
        "id": "FaMcFz1N15yn",
        "colab_type": "code",
        "colab": {}
      },
      "source": [
        "from keras.models import Sequential\n",
        "from keras.layers import Conv2D, MaxPooling2D\n",
        "from keras.layers import Activation, Flatten, Dense, Dropout\n",
        "from keras.preprocessing.image import ImageDataGenerator\n",
        "import time\n",
        "IMG_SIZE =256 # Replace with the size of your images\n",
        "NB_CHANNELS =3 # 3 for RGB images or 1 for grayscale images\n",
        "BATCH_SIZE = 32# Typical values are 8, 16 or 32\n",
        "NB_TRAIN_IMG = 1680# Replace with the total number training images\n",
        "NB_VALID_IMG = 420# Replace with the total number validation images"
      ],
      "execution_count": 0,
      "outputs": []
    },
    {
      "cell_type": "code",
      "metadata": {
        "id": "cDJMY4XSB3uu",
        "colab_type": "code",
        "outputId": "86a74489-84ec-4c5b-bc10-81015bd74230",
        "colab": {
          "base_uri": "https://localhost:8080/",
          "height": 51
        }
      },
      "source": [
        "train_datagen = ImageDataGenerator(\n",
        "    rotation_range = 40,                  \n",
        "    width_shift_range = 0.2,                  \n",
        "    height_shift_range = 0.2,                  \n",
        "    rescale = 1./255,                  \n",
        "    shear_range = 0.2,                  \n",
        "    zoom_range = 0.2,                     \n",
        "    horizontal_flip = True)\n",
        "validation_datagen = ImageDataGenerator(rescale = 1./255)\n",
        "train_generator = train_datagen.flow_from_directory(\n",
        "    path+'/drive/My Drive/ucmerced/UCMerced_LandUse/output/train',\n",
        "    target_size=(IMG_SIZE,IMG_SIZE),\n",
        "    class_mode='categorical',\n",
        "    batch_size = BATCH_SIZE)\n",
        "validation_generator = validation_datagen.flow_from_directory(\n",
        "    path+'/drive/My Drive/ucmerced/UCMerced_LandUse/output/val',\n",
        "    target_size=(IMG_SIZE,IMG_SIZE),\n",
        "    class_mode='categorical',\n",
        "    batch_size = BATCH_SIZE)"
      ],
      "execution_count": 0,
      "outputs": [
        {
          "output_type": "stream",
          "text": [
            "Found 1680 images belonging to 21 classes.\n",
            "Found 420 images belonging to 21 classes.\n"
          ],
          "name": "stdout"
        }
      ]
    },
    {
      "cell_type": "code",
      "metadata": {
        "id": "zAcex7lAB86v",
        "colab_type": "code",
        "outputId": "77125335-c8c1-416e-e7a4-1fdb152aafde",
        "colab": {
          "base_uri": "https://localhost:8080/",
          "height": 34
        }
      },
      "source": [
        "print(len(train_generator))"
      ],
      "execution_count": 0,
      "outputs": [
        {
          "output_type": "stream",
          "text": [
            "53\n"
          ],
          "name": "stdout"
        }
      ]
    },
    {
      "cell_type": "code",
      "metadata": {
        "id": "C_Sjr5FIEijv",
        "colab_type": "code",
        "colab": {}
      },
      "source": [
        "x_train_final=[]"
      ],
      "execution_count": 0,
      "outputs": []
    },
    {
      "cell_type": "code",
      "metadata": {
        "id": "jbH3MbDIFebB",
        "colab_type": "code",
        "colab": {}
      },
      "source": [
        "for i in x_train:\n",
        "  x_train_final.append(i)"
      ],
      "execution_count": 0,
      "outputs": []
    },
    {
      "cell_type": "code",
      "metadata": {
        "id": "1MokCNBXFnbK",
        "colab_type": "code",
        "outputId": "4ab0beb5-4ba4-4205-fc1d-4e59d88cb74c",
        "colab": {
          "base_uri": "https://localhost:8080/",
          "height": 34
        }
      },
      "source": [
        "print(len(x_train))"
      ],
      "execution_count": 0,
      "outputs": [
        {
          "output_type": "stream",
          "text": [
            "1785\n"
          ],
          "name": "stdout"
        }
      ]
    },
    {
      "cell_type": "code",
      "metadata": {
        "id": "MLASrRhxFxBv",
        "colab_type": "code",
        "outputId": "5ead0073-f344-45c8-8ee5-d13e8206381d",
        "colab": {
          "base_uri": "https://localhost:8080/",
          "height": 215
        }
      },
      "source": [
        "for i in range(1785):\n",
        "  l=[]\n",
        "  l=x_train_final[i]\n",
        "  l.append(x_train_lbp[i])\n",
        "  x_train_final[i]=l"
      ],
      "execution_count": 0,
      "outputs": [
        {
          "output_type": "error",
          "ename": "AttributeError",
          "evalue": "ignored",
          "traceback": [
            "\u001b[0;31m---------------------------------------------------------------------------\u001b[0m",
            "\u001b[0;31mAttributeError\u001b[0m                            Traceback (most recent call last)",
            "\u001b[0;32m<ipython-input-47-1d1e85c14ad0>\u001b[0m in \u001b[0;36m<module>\u001b[0;34m()\u001b[0m\n\u001b[1;32m      2\u001b[0m   \u001b[0ml\u001b[0m\u001b[0;34m=\u001b[0m\u001b[0;34m[\u001b[0m\u001b[0;34m]\u001b[0m\u001b[0;34m\u001b[0m\u001b[0;34m\u001b[0m\u001b[0m\n\u001b[1;32m      3\u001b[0m   \u001b[0ml\u001b[0m\u001b[0;34m=\u001b[0m\u001b[0mx_train_final\u001b[0m\u001b[0;34m[\u001b[0m\u001b[0mi\u001b[0m\u001b[0;34m]\u001b[0m\u001b[0;34m\u001b[0m\u001b[0;34m\u001b[0m\u001b[0m\n\u001b[0;32m----> 4\u001b[0;31m   \u001b[0ml\u001b[0m\u001b[0;34m.\u001b[0m\u001b[0mappend\u001b[0m\u001b[0;34m(\u001b[0m\u001b[0mx_train_lbp\u001b[0m\u001b[0;34m[\u001b[0m\u001b[0mi\u001b[0m\u001b[0;34m]\u001b[0m\u001b[0;34m)\u001b[0m\u001b[0;34m\u001b[0m\u001b[0;34m\u001b[0m\u001b[0m\n\u001b[0m\u001b[1;32m      5\u001b[0m   \u001b[0mx_train_final\u001b[0m\u001b[0;34m[\u001b[0m\u001b[0mi\u001b[0m\u001b[0;34m]\u001b[0m\u001b[0;34m=\u001b[0m\u001b[0ml\u001b[0m\u001b[0;34m\u001b[0m\u001b[0;34m\u001b[0m\u001b[0m\n",
            "\u001b[0;31mAttributeError\u001b[0m: 'numpy.ndarray' object has no attribute 'append'"
          ]
        }
      ]
    },
    {
      "cell_type": "code",
      "metadata": {
        "id": "kDOBxlAqHEuv",
        "colab_type": "code",
        "colab": {}
      },
      "source": [
        "x_trainbck1=x_trainbck"
      ],
      "execution_count": 0,
      "outputs": []
    },
    {
      "cell_type": "code",
      "metadata": {
        "id": "WYXTFXdnHGDf",
        "colab_type": "code",
        "colab": {}
      },
      "source": [
        "x_trainbck1.append(x_train_lbp)"
      ],
      "execution_count": 0,
      "outputs": []
    },
    {
      "cell_type": "code",
      "metadata": {
        "id": "Dq_5YmQHHRbv",
        "colab_type": "code",
        "colab": {}
      },
      "source": [
        "x_trainbck11=np.array(x_trainbck1)"
      ],
      "execution_count": 0,
      "outputs": []
    },
    {
      "cell_type": "code",
      "metadata": {
        "id": "hA-LhCtnHVm1",
        "colab_type": "code",
        "outputId": "2f01600a-dd0a-4695-f0d4-2e241fec3ce5",
        "colab": {
          "base_uri": "https://localhost:8080/",
          "height": 34
        }
      },
      "source": [
        "x_trainbck11.shape"
      ],
      "execution_count": 0,
      "outputs": [
        {
          "output_type": "execute_result",
          "data": {
            "text/plain": [
              "(1786,)"
            ]
          },
          "metadata": {
            "tags": []
          },
          "execution_count": 60
        }
      ]
    },
    {
      "cell_type": "code",
      "metadata": {
        "id": "RU4xm0a_IJgw",
        "colab_type": "code",
        "colab": {}
      },
      "source": [
        "xtrain=x_train"
      ],
      "execution_count": 0,
      "outputs": []
    },
    {
      "cell_type": "code",
      "metadata": {
        "id": "TiCzbuWUIbEs",
        "colab_type": "code",
        "colab": {}
      },
      "source": [
        "xtrainlbp=x_train_lbp"
      ],
      "execution_count": 0,
      "outputs": []
    },
    {
      "cell_type": "code",
      "metadata": {
        "id": "gQgh2oMVISEX",
        "colab_type": "code",
        "outputId": "9b65066b-6a65-4a1b-f2d5-ce3e4107a52b",
        "colab": {
          "base_uri": "https://localhost:8080/",
          "height": 235
        }
      },
      "source": [
        "for i in range(1785):\n",
        "  np.concatenate((xtrain[i] , xtrainlbp[i]))"
      ],
      "execution_count": 0,
      "outputs": [
        {
          "output_type": "error",
          "ename": "ValueError",
          "evalue": "ignored",
          "traceback": [
            "\u001b[0;31m---------------------------------------------------------------------------\u001b[0m",
            "\u001b[0;31mValueError\u001b[0m                                Traceback (most recent call last)",
            "\u001b[0;32m<ipython-input-64-255b5f16148e>\u001b[0m in \u001b[0;36m<module>\u001b[0;34m()\u001b[0m\n\u001b[1;32m      1\u001b[0m \u001b[0;32mfor\u001b[0m \u001b[0mi\u001b[0m \u001b[0;32min\u001b[0m \u001b[0mrange\u001b[0m\u001b[0;34m(\u001b[0m\u001b[0;36m1785\u001b[0m\u001b[0;34m)\u001b[0m\u001b[0;34m:\u001b[0m\u001b[0;34m\u001b[0m\u001b[0;34m\u001b[0m\u001b[0m\n\u001b[0;32m----> 2\u001b[0;31m   \u001b[0mnp\u001b[0m\u001b[0;34m.\u001b[0m\u001b[0mconcatenate\u001b[0m\u001b[0;34m(\u001b[0m\u001b[0;34m(\u001b[0m\u001b[0mxtrain\u001b[0m\u001b[0;34m[\u001b[0m\u001b[0mi\u001b[0m\u001b[0;34m]\u001b[0m\u001b[0;34m,\u001b[0m \u001b[0mxtrainlbp\u001b[0m\u001b[0;34m[\u001b[0m\u001b[0mi\u001b[0m\u001b[0;34m]\u001b[0m\u001b[0;34m)\u001b[0m\u001b[0;34m)\u001b[0m\u001b[0;34m\u001b[0m\u001b[0;34m\u001b[0m\u001b[0m\n\u001b[0m",
            "\u001b[0;32m<__array_function__ internals>\u001b[0m in \u001b[0;36mconcatenate\u001b[0;34m(*args, **kwargs)\u001b[0m\n",
            "\u001b[0;31mValueError\u001b[0m: all the input arrays must have same number of dimensions, but the array at index 0 has 3 dimension(s) and the array at index 1 has 2 dimension(s)"
          ]
        }
      ]
    },
    {
      "cell_type": "code",
      "metadata": {
        "id": "bTXRMLNgMIW2",
        "colab_type": "code",
        "colab": {}
      },
      "source": [
        "a=[]"
      ],
      "execution_count": 0,
      "outputs": []
    },
    {
      "cell_type": "code",
      "metadata": {
        "id": "yGivVNMAL4PK",
        "colab_type": "code",
        "outputId": "c37fa0da-efdf-4781-e321-892d0bd07165",
        "colab": {
          "base_uri": "https://localhost:8080/",
          "height": 34
        }
      },
      "source": [
        "np.dstack((x_train[0], x_train_lbp[0]))"
      ],
      "execution_count": 0,
      "outputs": [
        {
          "output_type": "execute_result",
          "data": {
            "text/plain": [
              "(256, 256, 4)"
            ]
          },
          "metadata": {
            "tags": []
          },
          "execution_count": 73
        }
      ]
    },
    {
      "cell_type": "code",
      "metadata": {
        "id": "CeyterrgNyRS",
        "colab_type": "code",
        "outputId": "084858cf-76ce-4545-a023-130664be1c05",
        "colab": {
          "base_uri": "https://localhost:8080/",
          "height": 34
        }
      },
      "source": [
        "xtrain.shape"
      ],
      "execution_count": 0,
      "outputs": [
        {
          "output_type": "execute_result",
          "data": {
            "text/plain": [
              "(1785, 256, 256, 3)"
            ]
          },
          "metadata": {
            "tags": []
          },
          "execution_count": 74
        }
      ]
    },
    {
      "cell_type": "code",
      "metadata": {
        "id": "9mppLqjoNzgI",
        "colab_type": "code",
        "colab": {}
      },
      "source": [
        "x_train=xtrain"
      ],
      "execution_count": 0,
      "outputs": []
    },
    {
      "cell_type": "code",
      "metadata": {
        "id": "SCjiwtvLN1ou",
        "colab_type": "code",
        "outputId": "878b3a3f-b019-48b0-8bca-fd35d7da3b7a",
        "colab": {
          "base_uri": "https://localhost:8080/",
          "height": 181
        }
      },
      "source": [
        "for i in range(1785):\n",
        "  np.dstack((x_train[i], x_train_lbp[i]))"
      ],
      "execution_count": 0,
      "outputs": [
        {
          "output_type": "error",
          "ename": "ValueError",
          "evalue": "ignored",
          "traceback": [
            "\u001b[0;31m---------------------------------------------------------------------------\u001b[0m",
            "\u001b[0;31mValueError\u001b[0m                                Traceback (most recent call last)",
            "\u001b[0;32m<ipython-input-78-1d30637734c4>\u001b[0m in \u001b[0;36m<module>\u001b[0;34m()\u001b[0m\n\u001b[1;32m      1\u001b[0m \u001b[0;32mfor\u001b[0m \u001b[0mi\u001b[0m \u001b[0;32min\u001b[0m \u001b[0mrange\u001b[0m\u001b[0;34m(\u001b[0m\u001b[0;36m1785\u001b[0m\u001b[0;34m)\u001b[0m\u001b[0;34m:\u001b[0m\u001b[0;34m\u001b[0m\u001b[0;34m\u001b[0m\u001b[0m\n\u001b[0;32m----> 2\u001b[0;31m   \u001b[0mx_train\u001b[0m\u001b[0;34m[\u001b[0m\u001b[0mi\u001b[0m\u001b[0;34m]\u001b[0m\u001b[0;34m=\u001b[0m\u001b[0mnp\u001b[0m\u001b[0;34m.\u001b[0m\u001b[0mdstack\u001b[0m\u001b[0;34m(\u001b[0m\u001b[0;34m(\u001b[0m\u001b[0mx_train\u001b[0m\u001b[0;34m[\u001b[0m\u001b[0mi\u001b[0m\u001b[0;34m]\u001b[0m\u001b[0;34m,\u001b[0m \u001b[0mx_train_lbp\u001b[0m\u001b[0;34m[\u001b[0m\u001b[0mi\u001b[0m\u001b[0;34m]\u001b[0m\u001b[0;34m)\u001b[0m\u001b[0;34m)\u001b[0m\u001b[0;34m\u001b[0m\u001b[0;34m\u001b[0m\u001b[0m\n\u001b[0m",
            "\u001b[0;31mValueError\u001b[0m: could not broadcast input array from shape (256,256,4) into shape (256,256,3)"
          ]
        }
      ]
    },
    {
      "cell_type": "code",
      "metadata": {
        "id": "JgJ1FUC7OYk_",
        "colab_type": "code",
        "outputId": "61e7a873-bb5e-42b7-c1ae-e4ee158287f6",
        "colab": {
          "base_uri": "https://localhost:8080/",
          "height": 1000
        }
      },
      "source": [
        "for i in x_train:\n",
        "  print(x_train.shape)"
      ],
      "execution_count": 0,
      "outputs": [
        {
          "output_type": "stream",
          "text": [
            "(1785, 256, 256, 3)\n",
            "(1785, 256, 256, 3)\n",
            "(1785, 256, 256, 3)\n",
            "(1785, 256, 256, 3)\n",
            "(1785, 256, 256, 3)\n",
            "(1785, 256, 256, 3)\n",
            "(1785, 256, 256, 3)\n",
            "(1785, 256, 256, 3)\n",
            "(1785, 256, 256, 3)\n",
            "(1785, 256, 256, 3)\n",
            "(1785, 256, 256, 3)\n",
            "(1785, 256, 256, 3)\n",
            "(1785, 256, 256, 3)\n",
            "(1785, 256, 256, 3)\n",
            "(1785, 256, 256, 3)\n",
            "(1785, 256, 256, 3)\n",
            "(1785, 256, 256, 3)\n",
            "(1785, 256, 256, 3)\n",
            "(1785, 256, 256, 3)\n",
            "(1785, 256, 256, 3)\n",
            "(1785, 256, 256, 3)\n",
            "(1785, 256, 256, 3)\n",
            "(1785, 256, 256, 3)\n",
            "(1785, 256, 256, 3)\n",
            "(1785, 256, 256, 3)\n",
            "(1785, 256, 256, 3)\n",
            "(1785, 256, 256, 3)\n",
            "(1785, 256, 256, 3)\n",
            "(1785, 256, 256, 3)\n",
            "(1785, 256, 256, 3)\n",
            "(1785, 256, 256, 3)\n",
            "(1785, 256, 256, 3)\n",
            "(1785, 256, 256, 3)\n",
            "(1785, 256, 256, 3)\n",
            "(1785, 256, 256, 3)\n",
            "(1785, 256, 256, 3)\n",
            "(1785, 256, 256, 3)\n",
            "(1785, 256, 256, 3)\n",
            "(1785, 256, 256, 3)\n",
            "(1785, 256, 256, 3)\n",
            "(1785, 256, 256, 3)\n",
            "(1785, 256, 256, 3)\n",
            "(1785, 256, 256, 3)\n",
            "(1785, 256, 256, 3)\n",
            "(1785, 256, 256, 3)\n",
            "(1785, 256, 256, 3)\n",
            "(1785, 256, 256, 3)\n",
            "(1785, 256, 256, 3)\n",
            "(1785, 256, 256, 3)\n",
            "(1785, 256, 256, 3)\n",
            "(1785, 256, 256, 3)\n",
            "(1785, 256, 256, 3)\n",
            "(1785, 256, 256, 3)\n",
            "(1785, 256, 256, 3)\n",
            "(1785, 256, 256, 3)\n",
            "(1785, 256, 256, 3)\n",
            "(1785, 256, 256, 3)\n",
            "(1785, 256, 256, 3)\n",
            "(1785, 256, 256, 3)\n",
            "(1785, 256, 256, 3)\n",
            "(1785, 256, 256, 3)\n",
            "(1785, 256, 256, 3)\n",
            "(1785, 256, 256, 3)\n",
            "(1785, 256, 256, 3)\n",
            "(1785, 256, 256, 3)\n",
            "(1785, 256, 256, 3)\n",
            "(1785, 256, 256, 3)\n",
            "(1785, 256, 256, 3)\n",
            "(1785, 256, 256, 3)\n",
            "(1785, 256, 256, 3)\n",
            "(1785, 256, 256, 3)\n",
            "(1785, 256, 256, 3)\n",
            "(1785, 256, 256, 3)\n",
            "(1785, 256, 256, 3)\n",
            "(1785, 256, 256, 3)\n",
            "(1785, 256, 256, 3)\n",
            "(1785, 256, 256, 3)\n",
            "(1785, 256, 256, 3)\n",
            "(1785, 256, 256, 3)\n",
            "(1785, 256, 256, 3)\n",
            "(1785, 256, 256, 3)\n",
            "(1785, 256, 256, 3)\n",
            "(1785, 256, 256, 3)\n",
            "(1785, 256, 256, 3)\n",
            "(1785, 256, 256, 3)\n",
            "(1785, 256, 256, 3)\n",
            "(1785, 256, 256, 3)\n",
            "(1785, 256, 256, 3)\n",
            "(1785, 256, 256, 3)\n",
            "(1785, 256, 256, 3)\n",
            "(1785, 256, 256, 3)\n",
            "(1785, 256, 256, 3)\n",
            "(1785, 256, 256, 3)\n",
            "(1785, 256, 256, 3)\n",
            "(1785, 256, 256, 3)\n",
            "(1785, 256, 256, 3)\n",
            "(1785, 256, 256, 3)\n",
            "(1785, 256, 256, 3)\n",
            "(1785, 256, 256, 3)\n",
            "(1785, 256, 256, 3)\n",
            "(1785, 256, 256, 3)\n",
            "(1785, 256, 256, 3)\n",
            "(1785, 256, 256, 3)\n",
            "(1785, 256, 256, 3)\n",
            "(1785, 256, 256, 3)\n",
            "(1785, 256, 256, 3)\n",
            "(1785, 256, 256, 3)\n",
            "(1785, 256, 256, 3)\n",
            "(1785, 256, 256, 3)\n",
            "(1785, 256, 256, 3)\n",
            "(1785, 256, 256, 3)\n",
            "(1785, 256, 256, 3)\n",
            "(1785, 256, 256, 3)\n",
            "(1785, 256, 256, 3)\n",
            "(1785, 256, 256, 3)\n",
            "(1785, 256, 256, 3)\n",
            "(1785, 256, 256, 3)\n",
            "(1785, 256, 256, 3)\n",
            "(1785, 256, 256, 3)\n",
            "(1785, 256, 256, 3)\n",
            "(1785, 256, 256, 3)\n",
            "(1785, 256, 256, 3)\n",
            "(1785, 256, 256, 3)\n",
            "(1785, 256, 256, 3)\n",
            "(1785, 256, 256, 3)\n",
            "(1785, 256, 256, 3)\n",
            "(1785, 256, 256, 3)\n",
            "(1785, 256, 256, 3)\n",
            "(1785, 256, 256, 3)\n",
            "(1785, 256, 256, 3)\n",
            "(1785, 256, 256, 3)\n",
            "(1785, 256, 256, 3)\n",
            "(1785, 256, 256, 3)\n",
            "(1785, 256, 256, 3)\n",
            "(1785, 256, 256, 3)\n",
            "(1785, 256, 256, 3)\n",
            "(1785, 256, 256, 3)\n",
            "(1785, 256, 256, 3)\n",
            "(1785, 256, 256, 3)\n",
            "(1785, 256, 256, 3)\n",
            "(1785, 256, 256, 3)\n",
            "(1785, 256, 256, 3)\n",
            "(1785, 256, 256, 3)\n",
            "(1785, 256, 256, 3)\n",
            "(1785, 256, 256, 3)\n",
            "(1785, 256, 256, 3)\n",
            "(1785, 256, 256, 3)\n",
            "(1785, 256, 256, 3)\n",
            "(1785, 256, 256, 3)\n",
            "(1785, 256, 256, 3)\n",
            "(1785, 256, 256, 3)\n",
            "(1785, 256, 256, 3)\n",
            "(1785, 256, 256, 3)\n",
            "(1785, 256, 256, 3)\n",
            "(1785, 256, 256, 3)\n",
            "(1785, 256, 256, 3)\n",
            "(1785, 256, 256, 3)\n",
            "(1785, 256, 256, 3)\n",
            "(1785, 256, 256, 3)\n",
            "(1785, 256, 256, 3)\n",
            "(1785, 256, 256, 3)\n",
            "(1785, 256, 256, 3)\n",
            "(1785, 256, 256, 3)\n",
            "(1785, 256, 256, 3)\n",
            "(1785, 256, 256, 3)\n",
            "(1785, 256, 256, 3)\n",
            "(1785, 256, 256, 3)\n",
            "(1785, 256, 256, 3)\n",
            "(1785, 256, 256, 3)\n",
            "(1785, 256, 256, 3)\n",
            "(1785, 256, 256, 3)\n",
            "(1785, 256, 256, 3)\n",
            "(1785, 256, 256, 3)\n",
            "(1785, 256, 256, 3)\n",
            "(1785, 256, 256, 3)\n",
            "(1785, 256, 256, 3)\n",
            "(1785, 256, 256, 3)\n",
            "(1785, 256, 256, 3)\n",
            "(1785, 256, 256, 3)\n",
            "(1785, 256, 256, 3)\n",
            "(1785, 256, 256, 3)\n",
            "(1785, 256, 256, 3)\n",
            "(1785, 256, 256, 3)\n",
            "(1785, 256, 256, 3)\n",
            "(1785, 256, 256, 3)\n",
            "(1785, 256, 256, 3)\n",
            "(1785, 256, 256, 3)\n",
            "(1785, 256, 256, 3)\n",
            "(1785, 256, 256, 3)\n",
            "(1785, 256, 256, 3)\n",
            "(1785, 256, 256, 3)\n",
            "(1785, 256, 256, 3)\n",
            "(1785, 256, 256, 3)\n",
            "(1785, 256, 256, 3)\n",
            "(1785, 256, 256, 3)\n",
            "(1785, 256, 256, 3)\n",
            "(1785, 256, 256, 3)\n",
            "(1785, 256, 256, 3)\n",
            "(1785, 256, 256, 3)\n",
            "(1785, 256, 256, 3)\n",
            "(1785, 256, 256, 3)\n",
            "(1785, 256, 256, 3)\n",
            "(1785, 256, 256, 3)\n",
            "(1785, 256, 256, 3)\n",
            "(1785, 256, 256, 3)\n",
            "(1785, 256, 256, 3)\n",
            "(1785, 256, 256, 3)\n",
            "(1785, 256, 256, 3)\n",
            "(1785, 256, 256, 3)\n",
            "(1785, 256, 256, 3)\n",
            "(1785, 256, 256, 3)\n",
            "(1785, 256, 256, 3)\n",
            "(1785, 256, 256, 3)\n",
            "(1785, 256, 256, 3)\n",
            "(1785, 256, 256, 3)\n",
            "(1785, 256, 256, 3)\n",
            "(1785, 256, 256, 3)\n",
            "(1785, 256, 256, 3)\n",
            "(1785, 256, 256, 3)\n",
            "(1785, 256, 256, 3)\n",
            "(1785, 256, 256, 3)\n",
            "(1785, 256, 256, 3)\n",
            "(1785, 256, 256, 3)\n",
            "(1785, 256, 256, 3)\n",
            "(1785, 256, 256, 3)\n",
            "(1785, 256, 256, 3)\n",
            "(1785, 256, 256, 3)\n",
            "(1785, 256, 256, 3)\n",
            "(1785, 256, 256, 3)\n",
            "(1785, 256, 256, 3)\n",
            "(1785, 256, 256, 3)\n",
            "(1785, 256, 256, 3)\n",
            "(1785, 256, 256, 3)\n",
            "(1785, 256, 256, 3)\n",
            "(1785, 256, 256, 3)\n",
            "(1785, 256, 256, 3)\n",
            "(1785, 256, 256, 3)\n",
            "(1785, 256, 256, 3)\n",
            "(1785, 256, 256, 3)\n",
            "(1785, 256, 256, 3)\n",
            "(1785, 256, 256, 3)\n",
            "(1785, 256, 256, 3)\n",
            "(1785, 256, 256, 3)\n",
            "(1785, 256, 256, 3)\n",
            "(1785, 256, 256, 3)\n",
            "(1785, 256, 256, 3)\n",
            "(1785, 256, 256, 3)\n",
            "(1785, 256, 256, 3)\n",
            "(1785, 256, 256, 3)\n",
            "(1785, 256, 256, 3)\n",
            "(1785, 256, 256, 3)\n",
            "(1785, 256, 256, 3)\n",
            "(1785, 256, 256, 3)\n",
            "(1785, 256, 256, 3)\n",
            "(1785, 256, 256, 3)\n",
            "(1785, 256, 256, 3)\n",
            "(1785, 256, 256, 3)\n",
            "(1785, 256, 256, 3)\n",
            "(1785, 256, 256, 3)\n",
            "(1785, 256, 256, 3)\n",
            "(1785, 256, 256, 3)\n",
            "(1785, 256, 256, 3)\n",
            "(1785, 256, 256, 3)\n",
            "(1785, 256, 256, 3)\n",
            "(1785, 256, 256, 3)\n",
            "(1785, 256, 256, 3)\n",
            "(1785, 256, 256, 3)\n",
            "(1785, 256, 256, 3)\n",
            "(1785, 256, 256, 3)\n",
            "(1785, 256, 256, 3)\n",
            "(1785, 256, 256, 3)\n",
            "(1785, 256, 256, 3)\n",
            "(1785, 256, 256, 3)\n",
            "(1785, 256, 256, 3)\n",
            "(1785, 256, 256, 3)\n",
            "(1785, 256, 256, 3)\n",
            "(1785, 256, 256, 3)\n",
            "(1785, 256, 256, 3)\n",
            "(1785, 256, 256, 3)\n",
            "(1785, 256, 256, 3)\n",
            "(1785, 256, 256, 3)\n",
            "(1785, 256, 256, 3)\n",
            "(1785, 256, 256, 3)\n",
            "(1785, 256, 256, 3)\n",
            "(1785, 256, 256, 3)\n",
            "(1785, 256, 256, 3)\n",
            "(1785, 256, 256, 3)\n",
            "(1785, 256, 256, 3)\n",
            "(1785, 256, 256, 3)\n",
            "(1785, 256, 256, 3)\n",
            "(1785, 256, 256, 3)\n",
            "(1785, 256, 256, 3)\n",
            "(1785, 256, 256, 3)\n",
            "(1785, 256, 256, 3)\n",
            "(1785, 256, 256, 3)\n",
            "(1785, 256, 256, 3)\n",
            "(1785, 256, 256, 3)\n",
            "(1785, 256, 256, 3)\n",
            "(1785, 256, 256, 3)\n",
            "(1785, 256, 256, 3)\n",
            "(1785, 256, 256, 3)\n",
            "(1785, 256, 256, 3)\n",
            "(1785, 256, 256, 3)\n",
            "(1785, 256, 256, 3)\n",
            "(1785, 256, 256, 3)\n",
            "(1785, 256, 256, 3)\n",
            "(1785, 256, 256, 3)\n",
            "(1785, 256, 256, 3)\n",
            "(1785, 256, 256, 3)\n",
            "(1785, 256, 256, 3)\n",
            "(1785, 256, 256, 3)\n",
            "(1785, 256, 256, 3)\n",
            "(1785, 256, 256, 3)\n",
            "(1785, 256, 256, 3)\n",
            "(1785, 256, 256, 3)\n",
            "(1785, 256, 256, 3)\n",
            "(1785, 256, 256, 3)\n",
            "(1785, 256, 256, 3)\n",
            "(1785, 256, 256, 3)\n",
            "(1785, 256, 256, 3)\n",
            "(1785, 256, 256, 3)\n",
            "(1785, 256, 256, 3)\n",
            "(1785, 256, 256, 3)\n",
            "(1785, 256, 256, 3)\n",
            "(1785, 256, 256, 3)\n",
            "(1785, 256, 256, 3)\n",
            "(1785, 256, 256, 3)\n",
            "(1785, 256, 256, 3)\n",
            "(1785, 256, 256, 3)\n",
            "(1785, 256, 256, 3)\n",
            "(1785, 256, 256, 3)\n",
            "(1785, 256, 256, 3)\n",
            "(1785, 256, 256, 3)\n",
            "(1785, 256, 256, 3)\n",
            "(1785, 256, 256, 3)\n",
            "(1785, 256, 256, 3)\n",
            "(1785, 256, 256, 3)\n",
            "(1785, 256, 256, 3)\n",
            "(1785, 256, 256, 3)\n",
            "(1785, 256, 256, 3)\n",
            "(1785, 256, 256, 3)\n",
            "(1785, 256, 256, 3)\n",
            "(1785, 256, 256, 3)\n",
            "(1785, 256, 256, 3)\n",
            "(1785, 256, 256, 3)\n",
            "(1785, 256, 256, 3)\n",
            "(1785, 256, 256, 3)\n",
            "(1785, 256, 256, 3)\n",
            "(1785, 256, 256, 3)\n",
            "(1785, 256, 256, 3)\n",
            "(1785, 256, 256, 3)\n",
            "(1785, 256, 256, 3)\n",
            "(1785, 256, 256, 3)\n",
            "(1785, 256, 256, 3)\n",
            "(1785, 256, 256, 3)\n",
            "(1785, 256, 256, 3)\n",
            "(1785, 256, 256, 3)\n",
            "(1785, 256, 256, 3)\n",
            "(1785, 256, 256, 3)\n",
            "(1785, 256, 256, 3)\n",
            "(1785, 256, 256, 3)\n",
            "(1785, 256, 256, 3)\n",
            "(1785, 256, 256, 3)\n",
            "(1785, 256, 256, 3)\n",
            "(1785, 256, 256, 3)\n",
            "(1785, 256, 256, 3)\n",
            "(1785, 256, 256, 3)\n",
            "(1785, 256, 256, 3)\n",
            "(1785, 256, 256, 3)\n",
            "(1785, 256, 256, 3)\n",
            "(1785, 256, 256, 3)\n",
            "(1785, 256, 256, 3)\n",
            "(1785, 256, 256, 3)\n",
            "(1785, 256, 256, 3)\n",
            "(1785, 256, 256, 3)\n",
            "(1785, 256, 256, 3)\n",
            "(1785, 256, 256, 3)\n",
            "(1785, 256, 256, 3)\n",
            "(1785, 256, 256, 3)\n",
            "(1785, 256, 256, 3)\n",
            "(1785, 256, 256, 3)\n",
            "(1785, 256, 256, 3)\n",
            "(1785, 256, 256, 3)\n",
            "(1785, 256, 256, 3)\n",
            "(1785, 256, 256, 3)\n",
            "(1785, 256, 256, 3)\n",
            "(1785, 256, 256, 3)\n",
            "(1785, 256, 256, 3)\n",
            "(1785, 256, 256, 3)\n",
            "(1785, 256, 256, 3)\n",
            "(1785, 256, 256, 3)\n",
            "(1785, 256, 256, 3)\n",
            "(1785, 256, 256, 3)\n",
            "(1785, 256, 256, 3)\n",
            "(1785, 256, 256, 3)\n",
            "(1785, 256, 256, 3)\n",
            "(1785, 256, 256, 3)\n",
            "(1785, 256, 256, 3)\n",
            "(1785, 256, 256, 3)\n",
            "(1785, 256, 256, 3)\n",
            "(1785, 256, 256, 3)\n",
            "(1785, 256, 256, 3)\n",
            "(1785, 256, 256, 3)\n",
            "(1785, 256, 256, 3)\n",
            "(1785, 256, 256, 3)\n",
            "(1785, 256, 256, 3)\n",
            "(1785, 256, 256, 3)\n",
            "(1785, 256, 256, 3)\n",
            "(1785, 256, 256, 3)\n",
            "(1785, 256, 256, 3)\n",
            "(1785, 256, 256, 3)\n",
            "(1785, 256, 256, 3)\n",
            "(1785, 256, 256, 3)\n",
            "(1785, 256, 256, 3)\n",
            "(1785, 256, 256, 3)\n",
            "(1785, 256, 256, 3)\n",
            "(1785, 256, 256, 3)\n",
            "(1785, 256, 256, 3)\n",
            "(1785, 256, 256, 3)\n",
            "(1785, 256, 256, 3)\n",
            "(1785, 256, 256, 3)\n",
            "(1785, 256, 256, 3)\n",
            "(1785, 256, 256, 3)\n",
            "(1785, 256, 256, 3)\n",
            "(1785, 256, 256, 3)\n",
            "(1785, 256, 256, 3)\n",
            "(1785, 256, 256, 3)\n",
            "(1785, 256, 256, 3)\n",
            "(1785, 256, 256, 3)\n",
            "(1785, 256, 256, 3)\n",
            "(1785, 256, 256, 3)\n",
            "(1785, 256, 256, 3)\n",
            "(1785, 256, 256, 3)\n",
            "(1785, 256, 256, 3)\n",
            "(1785, 256, 256, 3)\n",
            "(1785, 256, 256, 3)\n",
            "(1785, 256, 256, 3)\n",
            "(1785, 256, 256, 3)\n",
            "(1785, 256, 256, 3)\n",
            "(1785, 256, 256, 3)\n",
            "(1785, 256, 256, 3)\n",
            "(1785, 256, 256, 3)\n",
            "(1785, 256, 256, 3)\n",
            "(1785, 256, 256, 3)\n",
            "(1785, 256, 256, 3)\n",
            "(1785, 256, 256, 3)\n",
            "(1785, 256, 256, 3)\n",
            "(1785, 256, 256, 3)\n",
            "(1785, 256, 256, 3)\n",
            "(1785, 256, 256, 3)\n",
            "(1785, 256, 256, 3)\n",
            "(1785, 256, 256, 3)\n",
            "(1785, 256, 256, 3)\n",
            "(1785, 256, 256, 3)\n",
            "(1785, 256, 256, 3)\n",
            "(1785, 256, 256, 3)\n",
            "(1785, 256, 256, 3)\n",
            "(1785, 256, 256, 3)\n",
            "(1785, 256, 256, 3)\n",
            "(1785, 256, 256, 3)\n",
            "(1785, 256, 256, 3)\n",
            "(1785, 256, 256, 3)\n",
            "(1785, 256, 256, 3)\n",
            "(1785, 256, 256, 3)\n",
            "(1785, 256, 256, 3)\n",
            "(1785, 256, 256, 3)\n",
            "(1785, 256, 256, 3)\n",
            "(1785, 256, 256, 3)\n",
            "(1785, 256, 256, 3)\n",
            "(1785, 256, 256, 3)\n",
            "(1785, 256, 256, 3)\n",
            "(1785, 256, 256, 3)\n",
            "(1785, 256, 256, 3)\n",
            "(1785, 256, 256, 3)\n",
            "(1785, 256, 256, 3)\n",
            "(1785, 256, 256, 3)\n",
            "(1785, 256, 256, 3)\n",
            "(1785, 256, 256, 3)\n",
            "(1785, 256, 256, 3)\n",
            "(1785, 256, 256, 3)\n",
            "(1785, 256, 256, 3)\n",
            "(1785, 256, 256, 3)\n",
            "(1785, 256, 256, 3)\n",
            "(1785, 256, 256, 3)\n",
            "(1785, 256, 256, 3)\n",
            "(1785, 256, 256, 3)\n",
            "(1785, 256, 256, 3)\n",
            "(1785, 256, 256, 3)\n",
            "(1785, 256, 256, 3)\n",
            "(1785, 256, 256, 3)\n",
            "(1785, 256, 256, 3)\n",
            "(1785, 256, 256, 3)\n",
            "(1785, 256, 256, 3)\n",
            "(1785, 256, 256, 3)\n",
            "(1785, 256, 256, 3)\n",
            "(1785, 256, 256, 3)\n",
            "(1785, 256, 256, 3)\n",
            "(1785, 256, 256, 3)\n",
            "(1785, 256, 256, 3)\n",
            "(1785, 256, 256, 3)\n",
            "(1785, 256, 256, 3)\n",
            "(1785, 256, 256, 3)\n",
            "(1785, 256, 256, 3)\n",
            "(1785, 256, 256, 3)\n",
            "(1785, 256, 256, 3)\n",
            "(1785, 256, 256, 3)\n",
            "(1785, 256, 256, 3)\n",
            "(1785, 256, 256, 3)\n",
            "(1785, 256, 256, 3)\n",
            "(1785, 256, 256, 3)\n",
            "(1785, 256, 256, 3)\n",
            "(1785, 256, 256, 3)\n",
            "(1785, 256, 256, 3)\n",
            "(1785, 256, 256, 3)\n",
            "(1785, 256, 256, 3)\n",
            "(1785, 256, 256, 3)\n",
            "(1785, 256, 256, 3)\n",
            "(1785, 256, 256, 3)\n",
            "(1785, 256, 256, 3)\n",
            "(1785, 256, 256, 3)\n",
            "(1785, 256, 256, 3)\n",
            "(1785, 256, 256, 3)\n",
            "(1785, 256, 256, 3)\n",
            "(1785, 256, 256, 3)\n",
            "(1785, 256, 256, 3)\n",
            "(1785, 256, 256, 3)\n",
            "(1785, 256, 256, 3)\n",
            "(1785, 256, 256, 3)\n",
            "(1785, 256, 256, 3)\n",
            "(1785, 256, 256, 3)\n",
            "(1785, 256, 256, 3)\n",
            "(1785, 256, 256, 3)\n",
            "(1785, 256, 256, 3)\n",
            "(1785, 256, 256, 3)\n",
            "(1785, 256, 256, 3)\n",
            "(1785, 256, 256, 3)\n",
            "(1785, 256, 256, 3)\n",
            "(1785, 256, 256, 3)\n",
            "(1785, 256, 256, 3)\n",
            "(1785, 256, 256, 3)\n",
            "(1785, 256, 256, 3)\n",
            "(1785, 256, 256, 3)\n",
            "(1785, 256, 256, 3)\n",
            "(1785, 256, 256, 3)\n",
            "(1785, 256, 256, 3)\n",
            "(1785, 256, 256, 3)\n",
            "(1785, 256, 256, 3)\n",
            "(1785, 256, 256, 3)\n",
            "(1785, 256, 256, 3)\n",
            "(1785, 256, 256, 3)\n",
            "(1785, 256, 256, 3)\n",
            "(1785, 256, 256, 3)\n",
            "(1785, 256, 256, 3)\n",
            "(1785, 256, 256, 3)\n",
            "(1785, 256, 256, 3)\n",
            "(1785, 256, 256, 3)\n",
            "(1785, 256, 256, 3)\n",
            "(1785, 256, 256, 3)\n",
            "(1785, 256, 256, 3)\n",
            "(1785, 256, 256, 3)\n",
            "(1785, 256, 256, 3)\n",
            "(1785, 256, 256, 3)\n",
            "(1785, 256, 256, 3)\n",
            "(1785, 256, 256, 3)\n",
            "(1785, 256, 256, 3)\n",
            "(1785, 256, 256, 3)\n",
            "(1785, 256, 256, 3)\n",
            "(1785, 256, 256, 3)\n",
            "(1785, 256, 256, 3)\n",
            "(1785, 256, 256, 3)\n",
            "(1785, 256, 256, 3)\n",
            "(1785, 256, 256, 3)\n",
            "(1785, 256, 256, 3)\n",
            "(1785, 256, 256, 3)\n",
            "(1785, 256, 256, 3)\n",
            "(1785, 256, 256, 3)\n",
            "(1785, 256, 256, 3)\n",
            "(1785, 256, 256, 3)\n",
            "(1785, 256, 256, 3)\n",
            "(1785, 256, 256, 3)\n",
            "(1785, 256, 256, 3)\n",
            "(1785, 256, 256, 3)\n",
            "(1785, 256, 256, 3)\n",
            "(1785, 256, 256, 3)\n",
            "(1785, 256, 256, 3)\n",
            "(1785, 256, 256, 3)\n",
            "(1785, 256, 256, 3)\n",
            "(1785, 256, 256, 3)\n",
            "(1785, 256, 256, 3)\n",
            "(1785, 256, 256, 3)\n",
            "(1785, 256, 256, 3)\n",
            "(1785, 256, 256, 3)\n",
            "(1785, 256, 256, 3)\n",
            "(1785, 256, 256, 3)\n",
            "(1785, 256, 256, 3)\n",
            "(1785, 256, 256, 3)\n",
            "(1785, 256, 256, 3)\n",
            "(1785, 256, 256, 3)\n",
            "(1785, 256, 256, 3)\n",
            "(1785, 256, 256, 3)\n",
            "(1785, 256, 256, 3)\n",
            "(1785, 256, 256, 3)\n",
            "(1785, 256, 256, 3)\n",
            "(1785, 256, 256, 3)\n",
            "(1785, 256, 256, 3)\n",
            "(1785, 256, 256, 3)\n",
            "(1785, 256, 256, 3)\n",
            "(1785, 256, 256, 3)\n",
            "(1785, 256, 256, 3)\n",
            "(1785, 256, 256, 3)\n",
            "(1785, 256, 256, 3)\n",
            "(1785, 256, 256, 3)\n",
            "(1785, 256, 256, 3)\n",
            "(1785, 256, 256, 3)\n",
            "(1785, 256, 256, 3)\n",
            "(1785, 256, 256, 3)\n",
            "(1785, 256, 256, 3)\n",
            "(1785, 256, 256, 3)\n",
            "(1785, 256, 256, 3)\n",
            "(1785, 256, 256, 3)\n",
            "(1785, 256, 256, 3)\n",
            "(1785, 256, 256, 3)\n",
            "(1785, 256, 256, 3)\n",
            "(1785, 256, 256, 3)\n",
            "(1785, 256, 256, 3)\n",
            "(1785, 256, 256, 3)\n",
            "(1785, 256, 256, 3)\n",
            "(1785, 256, 256, 3)\n",
            "(1785, 256, 256, 3)\n",
            "(1785, 256, 256, 3)\n",
            "(1785, 256, 256, 3)\n",
            "(1785, 256, 256, 3)\n",
            "(1785, 256, 256, 3)\n",
            "(1785, 256, 256, 3)\n",
            "(1785, 256, 256, 3)\n",
            "(1785, 256, 256, 3)\n",
            "(1785, 256, 256, 3)\n",
            "(1785, 256, 256, 3)\n",
            "(1785, 256, 256, 3)\n",
            "(1785, 256, 256, 3)\n",
            "(1785, 256, 256, 3)\n",
            "(1785, 256, 256, 3)\n",
            "(1785, 256, 256, 3)\n",
            "(1785, 256, 256, 3)\n",
            "(1785, 256, 256, 3)\n",
            "(1785, 256, 256, 3)\n",
            "(1785, 256, 256, 3)\n",
            "(1785, 256, 256, 3)\n",
            "(1785, 256, 256, 3)\n",
            "(1785, 256, 256, 3)\n",
            "(1785, 256, 256, 3)\n",
            "(1785, 256, 256, 3)\n",
            "(1785, 256, 256, 3)\n",
            "(1785, 256, 256, 3)\n",
            "(1785, 256, 256, 3)\n",
            "(1785, 256, 256, 3)\n",
            "(1785, 256, 256, 3)\n",
            "(1785, 256, 256, 3)\n",
            "(1785, 256, 256, 3)\n",
            "(1785, 256, 256, 3)\n",
            "(1785, 256, 256, 3)\n",
            "(1785, 256, 256, 3)\n",
            "(1785, 256, 256, 3)\n",
            "(1785, 256, 256, 3)\n",
            "(1785, 256, 256, 3)\n",
            "(1785, 256, 256, 3)\n",
            "(1785, 256, 256, 3)\n",
            "(1785, 256, 256, 3)\n",
            "(1785, 256, 256, 3)\n",
            "(1785, 256, 256, 3)\n",
            "(1785, 256, 256, 3)\n",
            "(1785, 256, 256, 3)\n",
            "(1785, 256, 256, 3)\n",
            "(1785, 256, 256, 3)\n",
            "(1785, 256, 256, 3)\n",
            "(1785, 256, 256, 3)\n",
            "(1785, 256, 256, 3)\n",
            "(1785, 256, 256, 3)\n",
            "(1785, 256, 256, 3)\n",
            "(1785, 256, 256, 3)\n",
            "(1785, 256, 256, 3)\n",
            "(1785, 256, 256, 3)\n",
            "(1785, 256, 256, 3)\n",
            "(1785, 256, 256, 3)\n",
            "(1785, 256, 256, 3)\n",
            "(1785, 256, 256, 3)\n",
            "(1785, 256, 256, 3)\n",
            "(1785, 256, 256, 3)\n",
            "(1785, 256, 256, 3)\n",
            "(1785, 256, 256, 3)\n",
            "(1785, 256, 256, 3)\n",
            "(1785, 256, 256, 3)\n",
            "(1785, 256, 256, 3)\n",
            "(1785, 256, 256, 3)\n",
            "(1785, 256, 256, 3)\n",
            "(1785, 256, 256, 3)\n",
            "(1785, 256, 256, 3)\n",
            "(1785, 256, 256, 3)\n",
            "(1785, 256, 256, 3)\n",
            "(1785, 256, 256, 3)\n",
            "(1785, 256, 256, 3)\n",
            "(1785, 256, 256, 3)\n",
            "(1785, 256, 256, 3)\n",
            "(1785, 256, 256, 3)\n",
            "(1785, 256, 256, 3)\n",
            "(1785, 256, 256, 3)\n",
            "(1785, 256, 256, 3)\n",
            "(1785, 256, 256, 3)\n",
            "(1785, 256, 256, 3)\n",
            "(1785, 256, 256, 3)\n",
            "(1785, 256, 256, 3)\n",
            "(1785, 256, 256, 3)\n",
            "(1785, 256, 256, 3)\n",
            "(1785, 256, 256, 3)\n",
            "(1785, 256, 256, 3)\n",
            "(1785, 256, 256, 3)\n",
            "(1785, 256, 256, 3)\n",
            "(1785, 256, 256, 3)\n",
            "(1785, 256, 256, 3)\n",
            "(1785, 256, 256, 3)\n",
            "(1785, 256, 256, 3)\n",
            "(1785, 256, 256, 3)\n",
            "(1785, 256, 256, 3)\n",
            "(1785, 256, 256, 3)\n",
            "(1785, 256, 256, 3)\n",
            "(1785, 256, 256, 3)\n",
            "(1785, 256, 256, 3)\n",
            "(1785, 256, 256, 3)\n",
            "(1785, 256, 256, 3)\n",
            "(1785, 256, 256, 3)\n",
            "(1785, 256, 256, 3)\n",
            "(1785, 256, 256, 3)\n",
            "(1785, 256, 256, 3)\n",
            "(1785, 256, 256, 3)\n",
            "(1785, 256, 256, 3)\n",
            "(1785, 256, 256, 3)\n",
            "(1785, 256, 256, 3)\n",
            "(1785, 256, 256, 3)\n",
            "(1785, 256, 256, 3)\n",
            "(1785, 256, 256, 3)\n",
            "(1785, 256, 256, 3)\n",
            "(1785, 256, 256, 3)\n",
            "(1785, 256, 256, 3)\n",
            "(1785, 256, 256, 3)\n",
            "(1785, 256, 256, 3)\n",
            "(1785, 256, 256, 3)\n",
            "(1785, 256, 256, 3)\n",
            "(1785, 256, 256, 3)\n",
            "(1785, 256, 256, 3)\n",
            "(1785, 256, 256, 3)\n",
            "(1785, 256, 256, 3)\n",
            "(1785, 256, 256, 3)\n",
            "(1785, 256, 256, 3)\n",
            "(1785, 256, 256, 3)\n",
            "(1785, 256, 256, 3)\n",
            "(1785, 256, 256, 3)\n",
            "(1785, 256, 256, 3)\n",
            "(1785, 256, 256, 3)\n",
            "(1785, 256, 256, 3)\n",
            "(1785, 256, 256, 3)\n",
            "(1785, 256, 256, 3)\n",
            "(1785, 256, 256, 3)\n",
            "(1785, 256, 256, 3)\n",
            "(1785, 256, 256, 3)\n",
            "(1785, 256, 256, 3)\n",
            "(1785, 256, 256, 3)\n",
            "(1785, 256, 256, 3)\n",
            "(1785, 256, 256, 3)\n",
            "(1785, 256, 256, 3)\n",
            "(1785, 256, 256, 3)\n",
            "(1785, 256, 256, 3)\n",
            "(1785, 256, 256, 3)\n",
            "(1785, 256, 256, 3)\n",
            "(1785, 256, 256, 3)\n",
            "(1785, 256, 256, 3)\n",
            "(1785, 256, 256, 3)\n",
            "(1785, 256, 256, 3)\n",
            "(1785, 256, 256, 3)\n",
            "(1785, 256, 256, 3)\n",
            "(1785, 256, 256, 3)\n",
            "(1785, 256, 256, 3)\n",
            "(1785, 256, 256, 3)\n",
            "(1785, 256, 256, 3)\n",
            "(1785, 256, 256, 3)\n",
            "(1785, 256, 256, 3)\n",
            "(1785, 256, 256, 3)\n",
            "(1785, 256, 256, 3)\n",
            "(1785, 256, 256, 3)\n",
            "(1785, 256, 256, 3)\n",
            "(1785, 256, 256, 3)\n",
            "(1785, 256, 256, 3)\n",
            "(1785, 256, 256, 3)\n",
            "(1785, 256, 256, 3)\n",
            "(1785, 256, 256, 3)\n",
            "(1785, 256, 256, 3)\n",
            "(1785, 256, 256, 3)\n",
            "(1785, 256, 256, 3)\n",
            "(1785, 256, 256, 3)\n",
            "(1785, 256, 256, 3)\n",
            "(1785, 256, 256, 3)\n",
            "(1785, 256, 256, 3)\n",
            "(1785, 256, 256, 3)\n",
            "(1785, 256, 256, 3)\n",
            "(1785, 256, 256, 3)\n",
            "(1785, 256, 256, 3)\n",
            "(1785, 256, 256, 3)\n",
            "(1785, 256, 256, 3)\n",
            "(1785, 256, 256, 3)\n",
            "(1785, 256, 256, 3)\n",
            "(1785, 256, 256, 3)\n",
            "(1785, 256, 256, 3)\n",
            "(1785, 256, 256, 3)\n",
            "(1785, 256, 256, 3)\n",
            "(1785, 256, 256, 3)\n",
            "(1785, 256, 256, 3)\n",
            "(1785, 256, 256, 3)\n",
            "(1785, 256, 256, 3)\n",
            "(1785, 256, 256, 3)\n",
            "(1785, 256, 256, 3)\n",
            "(1785, 256, 256, 3)\n",
            "(1785, 256, 256, 3)\n",
            "(1785, 256, 256, 3)\n",
            "(1785, 256, 256, 3)\n",
            "(1785, 256, 256, 3)\n",
            "(1785, 256, 256, 3)\n",
            "(1785, 256, 256, 3)\n",
            "(1785, 256, 256, 3)\n",
            "(1785, 256, 256, 3)\n",
            "(1785, 256, 256, 3)\n",
            "(1785, 256, 256, 3)\n",
            "(1785, 256, 256, 3)\n",
            "(1785, 256, 256, 3)\n",
            "(1785, 256, 256, 3)\n",
            "(1785, 256, 256, 3)\n",
            "(1785, 256, 256, 3)\n",
            "(1785, 256, 256, 3)\n",
            "(1785, 256, 256, 3)\n",
            "(1785, 256, 256, 3)\n",
            "(1785, 256, 256, 3)\n",
            "(1785, 256, 256, 3)\n",
            "(1785, 256, 256, 3)\n",
            "(1785, 256, 256, 3)\n",
            "(1785, 256, 256, 3)\n",
            "(1785, 256, 256, 3)\n",
            "(1785, 256, 256, 3)\n",
            "(1785, 256, 256, 3)\n",
            "(1785, 256, 256, 3)\n",
            "(1785, 256, 256, 3)\n",
            "(1785, 256, 256, 3)\n",
            "(1785, 256, 256, 3)\n",
            "(1785, 256, 256, 3)\n",
            "(1785, 256, 256, 3)\n",
            "(1785, 256, 256, 3)\n",
            "(1785, 256, 256, 3)\n",
            "(1785, 256, 256, 3)\n",
            "(1785, 256, 256, 3)\n",
            "(1785, 256, 256, 3)\n",
            "(1785, 256, 256, 3)\n",
            "(1785, 256, 256, 3)\n",
            "(1785, 256, 256, 3)\n",
            "(1785, 256, 256, 3)\n",
            "(1785, 256, 256, 3)\n",
            "(1785, 256, 256, 3)\n",
            "(1785, 256, 256, 3)\n",
            "(1785, 256, 256, 3)\n",
            "(1785, 256, 256, 3)\n",
            "(1785, 256, 256, 3)\n",
            "(1785, 256, 256, 3)\n",
            "(1785, 256, 256, 3)\n",
            "(1785, 256, 256, 3)\n",
            "(1785, 256, 256, 3)\n",
            "(1785, 256, 256, 3)\n",
            "(1785, 256, 256, 3)\n",
            "(1785, 256, 256, 3)\n",
            "(1785, 256, 256, 3)\n",
            "(1785, 256, 256, 3)\n",
            "(1785, 256, 256, 3)\n",
            "(1785, 256, 256, 3)\n",
            "(1785, 256, 256, 3)\n",
            "(1785, 256, 256, 3)\n",
            "(1785, 256, 256, 3)\n",
            "(1785, 256, 256, 3)\n",
            "(1785, 256, 256, 3)\n",
            "(1785, 256, 256, 3)\n",
            "(1785, 256, 256, 3)\n",
            "(1785, 256, 256, 3)\n",
            "(1785, 256, 256, 3)\n",
            "(1785, 256, 256, 3)\n",
            "(1785, 256, 256, 3)\n",
            "(1785, 256, 256, 3)\n",
            "(1785, 256, 256, 3)\n",
            "(1785, 256, 256, 3)\n",
            "(1785, 256, 256, 3)\n",
            "(1785, 256, 256, 3)\n",
            "(1785, 256, 256, 3)\n",
            "(1785, 256, 256, 3)\n",
            "(1785, 256, 256, 3)\n",
            "(1785, 256, 256, 3)\n",
            "(1785, 256, 256, 3)\n",
            "(1785, 256, 256, 3)\n",
            "(1785, 256, 256, 3)\n",
            "(1785, 256, 256, 3)\n",
            "(1785, 256, 256, 3)\n",
            "(1785, 256, 256, 3)\n",
            "(1785, 256, 256, 3)\n",
            "(1785, 256, 256, 3)\n",
            "(1785, 256, 256, 3)\n",
            "(1785, 256, 256, 3)\n",
            "(1785, 256, 256, 3)\n",
            "(1785, 256, 256, 3)\n",
            "(1785, 256, 256, 3)\n",
            "(1785, 256, 256, 3)\n",
            "(1785, 256, 256, 3)\n",
            "(1785, 256, 256, 3)\n",
            "(1785, 256, 256, 3)\n",
            "(1785, 256, 256, 3)\n",
            "(1785, 256, 256, 3)\n",
            "(1785, 256, 256, 3)\n",
            "(1785, 256, 256, 3)\n",
            "(1785, 256, 256, 3)\n",
            "(1785, 256, 256, 3)\n",
            "(1785, 256, 256, 3)\n",
            "(1785, 256, 256, 3)\n",
            "(1785, 256, 256, 3)\n",
            "(1785, 256, 256, 3)\n",
            "(1785, 256, 256, 3)\n",
            "(1785, 256, 256, 3)\n",
            "(1785, 256, 256, 3)\n",
            "(1785, 256, 256, 3)\n",
            "(1785, 256, 256, 3)\n",
            "(1785, 256, 256, 3)\n",
            "(1785, 256, 256, 3)\n",
            "(1785, 256, 256, 3)\n",
            "(1785, 256, 256, 3)\n",
            "(1785, 256, 256, 3)\n",
            "(1785, 256, 256, 3)\n",
            "(1785, 256, 256, 3)\n",
            "(1785, 256, 256, 3)\n",
            "(1785, 256, 256, 3)\n",
            "(1785, 256, 256, 3)\n",
            "(1785, 256, 256, 3)\n",
            "(1785, 256, 256, 3)\n",
            "(1785, 256, 256, 3)\n",
            "(1785, 256, 256, 3)\n",
            "(1785, 256, 256, 3)\n",
            "(1785, 256, 256, 3)\n",
            "(1785, 256, 256, 3)\n",
            "(1785, 256, 256, 3)\n",
            "(1785, 256, 256, 3)\n",
            "(1785, 256, 256, 3)\n",
            "(1785, 256, 256, 3)\n",
            "(1785, 256, 256, 3)\n",
            "(1785, 256, 256, 3)\n",
            "(1785, 256, 256, 3)\n",
            "(1785, 256, 256, 3)\n",
            "(1785, 256, 256, 3)\n",
            "(1785, 256, 256, 3)\n",
            "(1785, 256, 256, 3)\n",
            "(1785, 256, 256, 3)\n",
            "(1785, 256, 256, 3)\n",
            "(1785, 256, 256, 3)\n",
            "(1785, 256, 256, 3)\n",
            "(1785, 256, 256, 3)\n",
            "(1785, 256, 256, 3)\n",
            "(1785, 256, 256, 3)\n",
            "(1785, 256, 256, 3)\n",
            "(1785, 256, 256, 3)\n",
            "(1785, 256, 256, 3)\n",
            "(1785, 256, 256, 3)\n",
            "(1785, 256, 256, 3)\n",
            "(1785, 256, 256, 3)\n",
            "(1785, 256, 256, 3)\n",
            "(1785, 256, 256, 3)\n",
            "(1785, 256, 256, 3)\n",
            "(1785, 256, 256, 3)\n",
            "(1785, 256, 256, 3)\n",
            "(1785, 256, 256, 3)\n",
            "(1785, 256, 256, 3)\n",
            "(1785, 256, 256, 3)\n",
            "(1785, 256, 256, 3)\n",
            "(1785, 256, 256, 3)\n",
            "(1785, 256, 256, 3)\n",
            "(1785, 256, 256, 3)\n",
            "(1785, 256, 256, 3)\n",
            "(1785, 256, 256, 3)\n",
            "(1785, 256, 256, 3)\n",
            "(1785, 256, 256, 3)\n",
            "(1785, 256, 256, 3)\n",
            "(1785, 256, 256, 3)\n",
            "(1785, 256, 256, 3)\n",
            "(1785, 256, 256, 3)\n",
            "(1785, 256, 256, 3)\n",
            "(1785, 256, 256, 3)\n",
            "(1785, 256, 256, 3)\n",
            "(1785, 256, 256, 3)\n",
            "(1785, 256, 256, 3)\n",
            "(1785, 256, 256, 3)\n",
            "(1785, 256, 256, 3)\n",
            "(1785, 256, 256, 3)\n",
            "(1785, 256, 256, 3)\n",
            "(1785, 256, 256, 3)\n",
            "(1785, 256, 256, 3)\n",
            "(1785, 256, 256, 3)\n",
            "(1785, 256, 256, 3)\n",
            "(1785, 256, 256, 3)\n",
            "(1785, 256, 256, 3)\n",
            "(1785, 256, 256, 3)\n",
            "(1785, 256, 256, 3)\n",
            "(1785, 256, 256, 3)\n",
            "(1785, 256, 256, 3)\n",
            "(1785, 256, 256, 3)\n",
            "(1785, 256, 256, 3)\n",
            "(1785, 256, 256, 3)\n",
            "(1785, 256, 256, 3)\n",
            "(1785, 256, 256, 3)\n",
            "(1785, 256, 256, 3)\n",
            "(1785, 256, 256, 3)\n",
            "(1785, 256, 256, 3)\n",
            "(1785, 256, 256, 3)\n",
            "(1785, 256, 256, 3)\n",
            "(1785, 256, 256, 3)\n",
            "(1785, 256, 256, 3)\n",
            "(1785, 256, 256, 3)\n",
            "(1785, 256, 256, 3)\n",
            "(1785, 256, 256, 3)\n",
            "(1785, 256, 256, 3)\n",
            "(1785, 256, 256, 3)\n",
            "(1785, 256, 256, 3)\n",
            "(1785, 256, 256, 3)\n",
            "(1785, 256, 256, 3)\n",
            "(1785, 256, 256, 3)\n",
            "(1785, 256, 256, 3)\n",
            "(1785, 256, 256, 3)\n",
            "(1785, 256, 256, 3)\n",
            "(1785, 256, 256, 3)\n",
            "(1785, 256, 256, 3)\n",
            "(1785, 256, 256, 3)\n",
            "(1785, 256, 256, 3)\n",
            "(1785, 256, 256, 3)\n",
            "(1785, 256, 256, 3)\n",
            "(1785, 256, 256, 3)\n",
            "(1785, 256, 256, 3)\n",
            "(1785, 256, 256, 3)\n",
            "(1785, 256, 256, 3)\n",
            "(1785, 256, 256, 3)\n",
            "(1785, 256, 256, 3)\n",
            "(1785, 256, 256, 3)\n",
            "(1785, 256, 256, 3)\n",
            "(1785, 256, 256, 3)\n",
            "(1785, 256, 256, 3)\n",
            "(1785, 256, 256, 3)\n",
            "(1785, 256, 256, 3)\n",
            "(1785, 256, 256, 3)\n",
            "(1785, 256, 256, 3)\n",
            "(1785, 256, 256, 3)\n",
            "(1785, 256, 256, 3)\n",
            "(1785, 256, 256, 3)\n",
            "(1785, 256, 256, 3)\n",
            "(1785, 256, 256, 3)\n",
            "(1785, 256, 256, 3)\n",
            "(1785, 256, 256, 3)\n",
            "(1785, 256, 256, 3)\n",
            "(1785, 256, 256, 3)\n",
            "(1785, 256, 256, 3)\n",
            "(1785, 256, 256, 3)\n",
            "(1785, 256, 256, 3)\n",
            "(1785, 256, 256, 3)\n",
            "(1785, 256, 256, 3)\n",
            "(1785, 256, 256, 3)\n",
            "(1785, 256, 256, 3)\n",
            "(1785, 256, 256, 3)\n",
            "(1785, 256, 256, 3)\n",
            "(1785, 256, 256, 3)\n",
            "(1785, 256, 256, 3)\n",
            "(1785, 256, 256, 3)\n",
            "(1785, 256, 256, 3)\n",
            "(1785, 256, 256, 3)\n",
            "(1785, 256, 256, 3)\n",
            "(1785, 256, 256, 3)\n",
            "(1785, 256, 256, 3)\n",
            "(1785, 256, 256, 3)\n",
            "(1785, 256, 256, 3)\n",
            "(1785, 256, 256, 3)\n",
            "(1785, 256, 256, 3)\n",
            "(1785, 256, 256, 3)\n",
            "(1785, 256, 256, 3)\n",
            "(1785, 256, 256, 3)\n",
            "(1785, 256, 256, 3)\n",
            "(1785, 256, 256, 3)\n",
            "(1785, 256, 256, 3)\n",
            "(1785, 256, 256, 3)\n",
            "(1785, 256, 256, 3)\n",
            "(1785, 256, 256, 3)\n",
            "(1785, 256, 256, 3)\n",
            "(1785, 256, 256, 3)\n",
            "(1785, 256, 256, 3)\n",
            "(1785, 256, 256, 3)\n",
            "(1785, 256, 256, 3)\n",
            "(1785, 256, 256, 3)\n",
            "(1785, 256, 256, 3)\n",
            "(1785, 256, 256, 3)\n",
            "(1785, 256, 256, 3)\n",
            "(1785, 256, 256, 3)\n",
            "(1785, 256, 256, 3)\n",
            "(1785, 256, 256, 3)\n",
            "(1785, 256, 256, 3)\n",
            "(1785, 256, 256, 3)\n",
            "(1785, 256, 256, 3)\n",
            "(1785, 256, 256, 3)\n",
            "(1785, 256, 256, 3)\n",
            "(1785, 256, 256, 3)\n",
            "(1785, 256, 256, 3)\n",
            "(1785, 256, 256, 3)\n",
            "(1785, 256, 256, 3)\n",
            "(1785, 256, 256, 3)\n",
            "(1785, 256, 256, 3)\n",
            "(1785, 256, 256, 3)\n",
            "(1785, 256, 256, 3)\n",
            "(1785, 256, 256, 3)\n",
            "(1785, 256, 256, 3)\n",
            "(1785, 256, 256, 3)\n",
            "(1785, 256, 256, 3)\n",
            "(1785, 256, 256, 3)\n",
            "(1785, 256, 256, 3)\n",
            "(1785, 256, 256, 3)\n",
            "(1785, 256, 256, 3)\n",
            "(1785, 256, 256, 3)\n",
            "(1785, 256, 256, 3)\n",
            "(1785, 256, 256, 3)\n",
            "(1785, 256, 256, 3)\n",
            "(1785, 256, 256, 3)\n",
            "(1785, 256, 256, 3)\n",
            "(1785, 256, 256, 3)\n",
            "(1785, 256, 256, 3)\n",
            "(1785, 256, 256, 3)\n",
            "(1785, 256, 256, 3)\n",
            "(1785, 256, 256, 3)\n",
            "(1785, 256, 256, 3)\n",
            "(1785, 256, 256, 3)\n",
            "(1785, 256, 256, 3)\n",
            "(1785, 256, 256, 3)\n",
            "(1785, 256, 256, 3)\n",
            "(1785, 256, 256, 3)\n",
            "(1785, 256, 256, 3)\n",
            "(1785, 256, 256, 3)\n",
            "(1785, 256, 256, 3)\n",
            "(1785, 256, 256, 3)\n",
            "(1785, 256, 256, 3)\n",
            "(1785, 256, 256, 3)\n",
            "(1785, 256, 256, 3)\n",
            "(1785, 256, 256, 3)\n",
            "(1785, 256, 256, 3)\n",
            "(1785, 256, 256, 3)\n",
            "(1785, 256, 256, 3)\n",
            "(1785, 256, 256, 3)\n",
            "(1785, 256, 256, 3)\n",
            "(1785, 256, 256, 3)\n",
            "(1785, 256, 256, 3)\n",
            "(1785, 256, 256, 3)\n",
            "(1785, 256, 256, 3)\n",
            "(1785, 256, 256, 3)\n",
            "(1785, 256, 256, 3)\n",
            "(1785, 256, 256, 3)\n",
            "(1785, 256, 256, 3)\n",
            "(1785, 256, 256, 3)\n",
            "(1785, 256, 256, 3)\n",
            "(1785, 256, 256, 3)\n",
            "(1785, 256, 256, 3)\n",
            "(1785, 256, 256, 3)\n",
            "(1785, 256, 256, 3)\n",
            "(1785, 256, 256, 3)\n",
            "(1785, 256, 256, 3)\n",
            "(1785, 256, 256, 3)\n",
            "(1785, 256, 256, 3)\n",
            "(1785, 256, 256, 3)\n",
            "(1785, 256, 256, 3)\n",
            "(1785, 256, 256, 3)\n",
            "(1785, 256, 256, 3)\n",
            "(1785, 256, 256, 3)\n",
            "(1785, 256, 256, 3)\n",
            "(1785, 256, 256, 3)\n",
            "(1785, 256, 256, 3)\n",
            "(1785, 256, 256, 3)\n",
            "(1785, 256, 256, 3)\n",
            "(1785, 256, 256, 3)\n",
            "(1785, 256, 256, 3)\n",
            "(1785, 256, 256, 3)\n",
            "(1785, 256, 256, 3)\n",
            "(1785, 256, 256, 3)\n",
            "(1785, 256, 256, 3)\n",
            "(1785, 256, 256, 3)\n",
            "(1785, 256, 256, 3)\n",
            "(1785, 256, 256, 3)\n",
            "(1785, 256, 256, 3)\n",
            "(1785, 256, 256, 3)\n",
            "(1785, 256, 256, 3)\n",
            "(1785, 256, 256, 3)\n",
            "(1785, 256, 256, 3)\n",
            "(1785, 256, 256, 3)\n",
            "(1785, 256, 256, 3)\n",
            "(1785, 256, 256, 3)\n",
            "(1785, 256, 256, 3)\n",
            "(1785, 256, 256, 3)\n",
            "(1785, 256, 256, 3)\n",
            "(1785, 256, 256, 3)\n",
            "(1785, 256, 256, 3)\n",
            "(1785, 256, 256, 3)\n",
            "(1785, 256, 256, 3)\n",
            "(1785, 256, 256, 3)\n",
            "(1785, 256, 256, 3)\n",
            "(1785, 256, 256, 3)\n",
            "(1785, 256, 256, 3)\n",
            "(1785, 256, 256, 3)\n",
            "(1785, 256, 256, 3)\n",
            "(1785, 256, 256, 3)\n",
            "(1785, 256, 256, 3)\n",
            "(1785, 256, 256, 3)\n",
            "(1785, 256, 256, 3)\n",
            "(1785, 256, 256, 3)\n",
            "(1785, 256, 256, 3)\n",
            "(1785, 256, 256, 3)\n",
            "(1785, 256, 256, 3)\n",
            "(1785, 256, 256, 3)\n",
            "(1785, 256, 256, 3)\n",
            "(1785, 256, 256, 3)\n",
            "(1785, 256, 256, 3)\n",
            "(1785, 256, 256, 3)\n",
            "(1785, 256, 256, 3)\n",
            "(1785, 256, 256, 3)\n",
            "(1785, 256, 256, 3)\n",
            "(1785, 256, 256, 3)\n",
            "(1785, 256, 256, 3)\n",
            "(1785, 256, 256, 3)\n",
            "(1785, 256, 256, 3)\n",
            "(1785, 256, 256, 3)\n",
            "(1785, 256, 256, 3)\n",
            "(1785, 256, 256, 3)\n",
            "(1785, 256, 256, 3)\n",
            "(1785, 256, 256, 3)\n",
            "(1785, 256, 256, 3)\n",
            "(1785, 256, 256, 3)\n",
            "(1785, 256, 256, 3)\n",
            "(1785, 256, 256, 3)\n",
            "(1785, 256, 256, 3)\n",
            "(1785, 256, 256, 3)\n",
            "(1785, 256, 256, 3)\n",
            "(1785, 256, 256, 3)\n",
            "(1785, 256, 256, 3)\n",
            "(1785, 256, 256, 3)\n",
            "(1785, 256, 256, 3)\n",
            "(1785, 256, 256, 3)\n",
            "(1785, 256, 256, 3)\n",
            "(1785, 256, 256, 3)\n",
            "(1785, 256, 256, 3)\n",
            "(1785, 256, 256, 3)\n",
            "(1785, 256, 256, 3)\n",
            "(1785, 256, 256, 3)\n",
            "(1785, 256, 256, 3)\n",
            "(1785, 256, 256, 3)\n",
            "(1785, 256, 256, 3)\n",
            "(1785, 256, 256, 3)\n",
            "(1785, 256, 256, 3)\n",
            "(1785, 256, 256, 3)\n",
            "(1785, 256, 256, 3)\n",
            "(1785, 256, 256, 3)\n",
            "(1785, 256, 256, 3)\n",
            "(1785, 256, 256, 3)\n",
            "(1785, 256, 256, 3)\n",
            "(1785, 256, 256, 3)\n",
            "(1785, 256, 256, 3)\n",
            "(1785, 256, 256, 3)\n",
            "(1785, 256, 256, 3)\n",
            "(1785, 256, 256, 3)\n",
            "(1785, 256, 256, 3)\n",
            "(1785, 256, 256, 3)\n",
            "(1785, 256, 256, 3)\n",
            "(1785, 256, 256, 3)\n",
            "(1785, 256, 256, 3)\n",
            "(1785, 256, 256, 3)\n",
            "(1785, 256, 256, 3)\n",
            "(1785, 256, 256, 3)\n",
            "(1785, 256, 256, 3)\n",
            "(1785, 256, 256, 3)\n",
            "(1785, 256, 256, 3)\n",
            "(1785, 256, 256, 3)\n",
            "(1785, 256, 256, 3)\n",
            "(1785, 256, 256, 3)\n",
            "(1785, 256, 256, 3)\n",
            "(1785, 256, 256, 3)\n",
            "(1785, 256, 256, 3)\n",
            "(1785, 256, 256, 3)\n",
            "(1785, 256, 256, 3)\n",
            "(1785, 256, 256, 3)\n",
            "(1785, 256, 256, 3)\n",
            "(1785, 256, 256, 3)\n",
            "(1785, 256, 256, 3)\n",
            "(1785, 256, 256, 3)\n",
            "(1785, 256, 256, 3)\n",
            "(1785, 256, 256, 3)\n",
            "(1785, 256, 256, 3)\n",
            "(1785, 256, 256, 3)\n",
            "(1785, 256, 256, 3)\n",
            "(1785, 256, 256, 3)\n",
            "(1785, 256, 256, 3)\n",
            "(1785, 256, 256, 3)\n",
            "(1785, 256, 256, 3)\n",
            "(1785, 256, 256, 3)\n",
            "(1785, 256, 256, 3)\n",
            "(1785, 256, 256, 3)\n",
            "(1785, 256, 256, 3)\n",
            "(1785, 256, 256, 3)\n",
            "(1785, 256, 256, 3)\n",
            "(1785, 256, 256, 3)\n",
            "(1785, 256, 256, 3)\n",
            "(1785, 256, 256, 3)\n",
            "(1785, 256, 256, 3)\n",
            "(1785, 256, 256, 3)\n",
            "(1785, 256, 256, 3)\n",
            "(1785, 256, 256, 3)\n",
            "(1785, 256, 256, 3)\n",
            "(1785, 256, 256, 3)\n",
            "(1785, 256, 256, 3)\n",
            "(1785, 256, 256, 3)\n",
            "(1785, 256, 256, 3)\n",
            "(1785, 256, 256, 3)\n",
            "(1785, 256, 256, 3)\n",
            "(1785, 256, 256, 3)\n",
            "(1785, 256, 256, 3)\n",
            "(1785, 256, 256, 3)\n",
            "(1785, 256, 256, 3)\n",
            "(1785, 256, 256, 3)\n",
            "(1785, 256, 256, 3)\n",
            "(1785, 256, 256, 3)\n",
            "(1785, 256, 256, 3)\n",
            "(1785, 256, 256, 3)\n",
            "(1785, 256, 256, 3)\n",
            "(1785, 256, 256, 3)\n",
            "(1785, 256, 256, 3)\n",
            "(1785, 256, 256, 3)\n",
            "(1785, 256, 256, 3)\n",
            "(1785, 256, 256, 3)\n",
            "(1785, 256, 256, 3)\n",
            "(1785, 256, 256, 3)\n",
            "(1785, 256, 256, 3)\n",
            "(1785, 256, 256, 3)\n",
            "(1785, 256, 256, 3)\n",
            "(1785, 256, 256, 3)\n",
            "(1785, 256, 256, 3)\n",
            "(1785, 256, 256, 3)\n",
            "(1785, 256, 256, 3)\n",
            "(1785, 256, 256, 3)\n",
            "(1785, 256, 256, 3)\n",
            "(1785, 256, 256, 3)\n",
            "(1785, 256, 256, 3)\n",
            "(1785, 256, 256, 3)\n",
            "(1785, 256, 256, 3)\n",
            "(1785, 256, 256, 3)\n",
            "(1785, 256, 256, 3)\n",
            "(1785, 256, 256, 3)\n",
            "(1785, 256, 256, 3)\n",
            "(1785, 256, 256, 3)\n",
            "(1785, 256, 256, 3)\n",
            "(1785, 256, 256, 3)\n",
            "(1785, 256, 256, 3)\n",
            "(1785, 256, 256, 3)\n",
            "(1785, 256, 256, 3)\n",
            "(1785, 256, 256, 3)\n",
            "(1785, 256, 256, 3)\n",
            "(1785, 256, 256, 3)\n",
            "(1785, 256, 256, 3)\n",
            "(1785, 256, 256, 3)\n",
            "(1785, 256, 256, 3)\n",
            "(1785, 256, 256, 3)\n",
            "(1785, 256, 256, 3)\n",
            "(1785, 256, 256, 3)\n",
            "(1785, 256, 256, 3)\n",
            "(1785, 256, 256, 3)\n",
            "(1785, 256, 256, 3)\n",
            "(1785, 256, 256, 3)\n",
            "(1785, 256, 256, 3)\n",
            "(1785, 256, 256, 3)\n",
            "(1785, 256, 256, 3)\n",
            "(1785, 256, 256, 3)\n",
            "(1785, 256, 256, 3)\n",
            "(1785, 256, 256, 3)\n",
            "(1785, 256, 256, 3)\n",
            "(1785, 256, 256, 3)\n",
            "(1785, 256, 256, 3)\n",
            "(1785, 256, 256, 3)\n",
            "(1785, 256, 256, 3)\n",
            "(1785, 256, 256, 3)\n",
            "(1785, 256, 256, 3)\n",
            "(1785, 256, 256, 3)\n",
            "(1785, 256, 256, 3)\n",
            "(1785, 256, 256, 3)\n",
            "(1785, 256, 256, 3)\n",
            "(1785, 256, 256, 3)\n",
            "(1785, 256, 256, 3)\n",
            "(1785, 256, 256, 3)\n",
            "(1785, 256, 256, 3)\n",
            "(1785, 256, 256, 3)\n",
            "(1785, 256, 256, 3)\n",
            "(1785, 256, 256, 3)\n",
            "(1785, 256, 256, 3)\n",
            "(1785, 256, 256, 3)\n",
            "(1785, 256, 256, 3)\n",
            "(1785, 256, 256, 3)\n",
            "(1785, 256, 256, 3)\n",
            "(1785, 256, 256, 3)\n",
            "(1785, 256, 256, 3)\n",
            "(1785, 256, 256, 3)\n",
            "(1785, 256, 256, 3)\n",
            "(1785, 256, 256, 3)\n",
            "(1785, 256, 256, 3)\n",
            "(1785, 256, 256, 3)\n",
            "(1785, 256, 256, 3)\n",
            "(1785, 256, 256, 3)\n",
            "(1785, 256, 256, 3)\n",
            "(1785, 256, 256, 3)\n",
            "(1785, 256, 256, 3)\n",
            "(1785, 256, 256, 3)\n",
            "(1785, 256, 256, 3)\n",
            "(1785, 256, 256, 3)\n",
            "(1785, 256, 256, 3)\n",
            "(1785, 256, 256, 3)\n",
            "(1785, 256, 256, 3)\n",
            "(1785, 256, 256, 3)\n",
            "(1785, 256, 256, 3)\n",
            "(1785, 256, 256, 3)\n",
            "(1785, 256, 256, 3)\n",
            "(1785, 256, 256, 3)\n",
            "(1785, 256, 256, 3)\n",
            "(1785, 256, 256, 3)\n",
            "(1785, 256, 256, 3)\n",
            "(1785, 256, 256, 3)\n",
            "(1785, 256, 256, 3)\n",
            "(1785, 256, 256, 3)\n",
            "(1785, 256, 256, 3)\n",
            "(1785, 256, 256, 3)\n",
            "(1785, 256, 256, 3)\n",
            "(1785, 256, 256, 3)\n",
            "(1785, 256, 256, 3)\n",
            "(1785, 256, 256, 3)\n",
            "(1785, 256, 256, 3)\n",
            "(1785, 256, 256, 3)\n",
            "(1785, 256, 256, 3)\n",
            "(1785, 256, 256, 3)\n",
            "(1785, 256, 256, 3)\n",
            "(1785, 256, 256, 3)\n",
            "(1785, 256, 256, 3)\n",
            "(1785, 256, 256, 3)\n",
            "(1785, 256, 256, 3)\n",
            "(1785, 256, 256, 3)\n",
            "(1785, 256, 256, 3)\n",
            "(1785, 256, 256, 3)\n",
            "(1785, 256, 256, 3)\n",
            "(1785, 256, 256, 3)\n",
            "(1785, 256, 256, 3)\n",
            "(1785, 256, 256, 3)\n",
            "(1785, 256, 256, 3)\n",
            "(1785, 256, 256, 3)\n",
            "(1785, 256, 256, 3)\n",
            "(1785, 256, 256, 3)\n",
            "(1785, 256, 256, 3)\n",
            "(1785, 256, 256, 3)\n",
            "(1785, 256, 256, 3)\n",
            "(1785, 256, 256, 3)\n",
            "(1785, 256, 256, 3)\n",
            "(1785, 256, 256, 3)\n",
            "(1785, 256, 256, 3)\n",
            "(1785, 256, 256, 3)\n",
            "(1785, 256, 256, 3)\n",
            "(1785, 256, 256, 3)\n",
            "(1785, 256, 256, 3)\n",
            "(1785, 256, 256, 3)\n",
            "(1785, 256, 256, 3)\n",
            "(1785, 256, 256, 3)\n",
            "(1785, 256, 256, 3)\n",
            "(1785, 256, 256, 3)\n",
            "(1785, 256, 256, 3)\n",
            "(1785, 256, 256, 3)\n",
            "(1785, 256, 256, 3)\n",
            "(1785, 256, 256, 3)\n",
            "(1785, 256, 256, 3)\n",
            "(1785, 256, 256, 3)\n",
            "(1785, 256, 256, 3)\n",
            "(1785, 256, 256, 3)\n",
            "(1785, 256, 256, 3)\n",
            "(1785, 256, 256, 3)\n",
            "(1785, 256, 256, 3)\n",
            "(1785, 256, 256, 3)\n",
            "(1785, 256, 256, 3)\n",
            "(1785, 256, 256, 3)\n",
            "(1785, 256, 256, 3)\n",
            "(1785, 256, 256, 3)\n",
            "(1785, 256, 256, 3)\n",
            "(1785, 256, 256, 3)\n",
            "(1785, 256, 256, 3)\n",
            "(1785, 256, 256, 3)\n",
            "(1785, 256, 256, 3)\n",
            "(1785, 256, 256, 3)\n",
            "(1785, 256, 256, 3)\n",
            "(1785, 256, 256, 3)\n",
            "(1785, 256, 256, 3)\n",
            "(1785, 256, 256, 3)\n",
            "(1785, 256, 256, 3)\n",
            "(1785, 256, 256, 3)\n",
            "(1785, 256, 256, 3)\n",
            "(1785, 256, 256, 3)\n",
            "(1785, 256, 256, 3)\n",
            "(1785, 256, 256, 3)\n",
            "(1785, 256, 256, 3)\n",
            "(1785, 256, 256, 3)\n",
            "(1785, 256, 256, 3)\n",
            "(1785, 256, 256, 3)\n",
            "(1785, 256, 256, 3)\n",
            "(1785, 256, 256, 3)\n",
            "(1785, 256, 256, 3)\n",
            "(1785, 256, 256, 3)\n",
            "(1785, 256, 256, 3)\n",
            "(1785, 256, 256, 3)\n",
            "(1785, 256, 256, 3)\n",
            "(1785, 256, 256, 3)\n",
            "(1785, 256, 256, 3)\n",
            "(1785, 256, 256, 3)\n",
            "(1785, 256, 256, 3)\n",
            "(1785, 256, 256, 3)\n",
            "(1785, 256, 256, 3)\n",
            "(1785, 256, 256, 3)\n",
            "(1785, 256, 256, 3)\n",
            "(1785, 256, 256, 3)\n",
            "(1785, 256, 256, 3)\n",
            "(1785, 256, 256, 3)\n",
            "(1785, 256, 256, 3)\n",
            "(1785, 256, 256, 3)\n",
            "(1785, 256, 256, 3)\n",
            "(1785, 256, 256, 3)\n",
            "(1785, 256, 256, 3)\n",
            "(1785, 256, 256, 3)\n",
            "(1785, 256, 256, 3)\n",
            "(1785, 256, 256, 3)\n",
            "(1785, 256, 256, 3)\n",
            "(1785, 256, 256, 3)\n",
            "(1785, 256, 256, 3)\n",
            "(1785, 256, 256, 3)\n",
            "(1785, 256, 256, 3)\n",
            "(1785, 256, 256, 3)\n",
            "(1785, 256, 256, 3)\n",
            "(1785, 256, 256, 3)\n",
            "(1785, 256, 256, 3)\n",
            "(1785, 256, 256, 3)\n",
            "(1785, 256, 256, 3)\n",
            "(1785, 256, 256, 3)\n",
            "(1785, 256, 256, 3)\n",
            "(1785, 256, 256, 3)\n",
            "(1785, 256, 256, 3)\n",
            "(1785, 256, 256, 3)\n",
            "(1785, 256, 256, 3)\n",
            "(1785, 256, 256, 3)\n",
            "(1785, 256, 256, 3)\n",
            "(1785, 256, 256, 3)\n",
            "(1785, 256, 256, 3)\n",
            "(1785, 256, 256, 3)\n",
            "(1785, 256, 256, 3)\n",
            "(1785, 256, 256, 3)\n",
            "(1785, 256, 256, 3)\n",
            "(1785, 256, 256, 3)\n",
            "(1785, 256, 256, 3)\n",
            "(1785, 256, 256, 3)\n",
            "(1785, 256, 256, 3)\n",
            "(1785, 256, 256, 3)\n",
            "(1785, 256, 256, 3)\n",
            "(1785, 256, 256, 3)\n",
            "(1785, 256, 256, 3)\n",
            "(1785, 256, 256, 3)\n",
            "(1785, 256, 256, 3)\n",
            "(1785, 256, 256, 3)\n",
            "(1785, 256, 256, 3)\n",
            "(1785, 256, 256, 3)\n",
            "(1785, 256, 256, 3)\n",
            "(1785, 256, 256, 3)\n",
            "(1785, 256, 256, 3)\n",
            "(1785, 256, 256, 3)\n",
            "(1785, 256, 256, 3)\n",
            "(1785, 256, 256, 3)\n",
            "(1785, 256, 256, 3)\n",
            "(1785, 256, 256, 3)\n",
            "(1785, 256, 256, 3)\n",
            "(1785, 256, 256, 3)\n",
            "(1785, 256, 256, 3)\n",
            "(1785, 256, 256, 3)\n",
            "(1785, 256, 256, 3)\n",
            "(1785, 256, 256, 3)\n",
            "(1785, 256, 256, 3)\n",
            "(1785, 256, 256, 3)\n",
            "(1785, 256, 256, 3)\n",
            "(1785, 256, 256, 3)\n",
            "(1785, 256, 256, 3)\n",
            "(1785, 256, 256, 3)\n",
            "(1785, 256, 256, 3)\n",
            "(1785, 256, 256, 3)\n",
            "(1785, 256, 256, 3)\n",
            "(1785, 256, 256, 3)\n",
            "(1785, 256, 256, 3)\n",
            "(1785, 256, 256, 3)\n",
            "(1785, 256, 256, 3)\n",
            "(1785, 256, 256, 3)\n",
            "(1785, 256, 256, 3)\n",
            "(1785, 256, 256, 3)\n",
            "(1785, 256, 256, 3)\n",
            "(1785, 256, 256, 3)\n",
            "(1785, 256, 256, 3)\n",
            "(1785, 256, 256, 3)\n",
            "(1785, 256, 256, 3)\n",
            "(1785, 256, 256, 3)\n",
            "(1785, 256, 256, 3)\n",
            "(1785, 256, 256, 3)\n",
            "(1785, 256, 256, 3)\n",
            "(1785, 256, 256, 3)\n",
            "(1785, 256, 256, 3)\n",
            "(1785, 256, 256, 3)\n",
            "(1785, 256, 256, 3)\n",
            "(1785, 256, 256, 3)\n",
            "(1785, 256, 256, 3)\n",
            "(1785, 256, 256, 3)\n",
            "(1785, 256, 256, 3)\n",
            "(1785, 256, 256, 3)\n",
            "(1785, 256, 256, 3)\n",
            "(1785, 256, 256, 3)\n",
            "(1785, 256, 256, 3)\n",
            "(1785, 256, 256, 3)\n",
            "(1785, 256, 256, 3)\n",
            "(1785, 256, 256, 3)\n",
            "(1785, 256, 256, 3)\n",
            "(1785, 256, 256, 3)\n",
            "(1785, 256, 256, 3)\n",
            "(1785, 256, 256, 3)\n",
            "(1785, 256, 256, 3)\n",
            "(1785, 256, 256, 3)\n",
            "(1785, 256, 256, 3)\n",
            "(1785, 256, 256, 3)\n",
            "(1785, 256, 256, 3)\n",
            "(1785, 256, 256, 3)\n",
            "(1785, 256, 256, 3)\n",
            "(1785, 256, 256, 3)\n",
            "(1785, 256, 256, 3)\n",
            "(1785, 256, 256, 3)\n",
            "(1785, 256, 256, 3)\n",
            "(1785, 256, 256, 3)\n",
            "(1785, 256, 256, 3)\n",
            "(1785, 256, 256, 3)\n",
            "(1785, 256, 256, 3)\n",
            "(1785, 256, 256, 3)\n",
            "(1785, 256, 256, 3)\n",
            "(1785, 256, 256, 3)\n",
            "(1785, 256, 256, 3)\n",
            "(1785, 256, 256, 3)\n",
            "(1785, 256, 256, 3)\n",
            "(1785, 256, 256, 3)\n",
            "(1785, 256, 256, 3)\n",
            "(1785, 256, 256, 3)\n",
            "(1785, 256, 256, 3)\n",
            "(1785, 256, 256, 3)\n",
            "(1785, 256, 256, 3)\n",
            "(1785, 256, 256, 3)\n",
            "(1785, 256, 256, 3)\n",
            "(1785, 256, 256, 3)\n",
            "(1785, 256, 256, 3)\n",
            "(1785, 256, 256, 3)\n",
            "(1785, 256, 256, 3)\n",
            "(1785, 256, 256, 3)\n",
            "(1785, 256, 256, 3)\n",
            "(1785, 256, 256, 3)\n",
            "(1785, 256, 256, 3)\n",
            "(1785, 256, 256, 3)\n",
            "(1785, 256, 256, 3)\n",
            "(1785, 256, 256, 3)\n",
            "(1785, 256, 256, 3)\n",
            "(1785, 256, 256, 3)\n",
            "(1785, 256, 256, 3)\n",
            "(1785, 256, 256, 3)\n",
            "(1785, 256, 256, 3)\n",
            "(1785, 256, 256, 3)\n",
            "(1785, 256, 256, 3)\n",
            "(1785, 256, 256, 3)\n",
            "(1785, 256, 256, 3)\n",
            "(1785, 256, 256, 3)\n",
            "(1785, 256, 256, 3)\n",
            "(1785, 256, 256, 3)\n",
            "(1785, 256, 256, 3)\n",
            "(1785, 256, 256, 3)\n",
            "(1785, 256, 256, 3)\n",
            "(1785, 256, 256, 3)\n",
            "(1785, 256, 256, 3)\n",
            "(1785, 256, 256, 3)\n",
            "(1785, 256, 256, 3)\n",
            "(1785, 256, 256, 3)\n",
            "(1785, 256, 256, 3)\n",
            "(1785, 256, 256, 3)\n",
            "(1785, 256, 256, 3)\n",
            "(1785, 256, 256, 3)\n",
            "(1785, 256, 256, 3)\n",
            "(1785, 256, 256, 3)\n",
            "(1785, 256, 256, 3)\n",
            "(1785, 256, 256, 3)\n",
            "(1785, 256, 256, 3)\n",
            "(1785, 256, 256, 3)\n",
            "(1785, 256, 256, 3)\n",
            "(1785, 256, 256, 3)\n",
            "(1785, 256, 256, 3)\n",
            "(1785, 256, 256, 3)\n",
            "(1785, 256, 256, 3)\n",
            "(1785, 256, 256, 3)\n",
            "(1785, 256, 256, 3)\n",
            "(1785, 256, 256, 3)\n",
            "(1785, 256, 256, 3)\n",
            "(1785, 256, 256, 3)\n",
            "(1785, 256, 256, 3)\n",
            "(1785, 256, 256, 3)\n",
            "(1785, 256, 256, 3)\n",
            "(1785, 256, 256, 3)\n",
            "(1785, 256, 256, 3)\n",
            "(1785, 256, 256, 3)\n",
            "(1785, 256, 256, 3)\n",
            "(1785, 256, 256, 3)\n",
            "(1785, 256, 256, 3)\n",
            "(1785, 256, 256, 3)\n",
            "(1785, 256, 256, 3)\n",
            "(1785, 256, 256, 3)\n",
            "(1785, 256, 256, 3)\n",
            "(1785, 256, 256, 3)\n",
            "(1785, 256, 256, 3)\n",
            "(1785, 256, 256, 3)\n",
            "(1785, 256, 256, 3)\n",
            "(1785, 256, 256, 3)\n",
            "(1785, 256, 256, 3)\n",
            "(1785, 256, 256, 3)\n",
            "(1785, 256, 256, 3)\n",
            "(1785, 256, 256, 3)\n",
            "(1785, 256, 256, 3)\n",
            "(1785, 256, 256, 3)\n",
            "(1785, 256, 256, 3)\n",
            "(1785, 256, 256, 3)\n",
            "(1785, 256, 256, 3)\n",
            "(1785, 256, 256, 3)\n",
            "(1785, 256, 256, 3)\n",
            "(1785, 256, 256, 3)\n",
            "(1785, 256, 256, 3)\n",
            "(1785, 256, 256, 3)\n",
            "(1785, 256, 256, 3)\n",
            "(1785, 256, 256, 3)\n",
            "(1785, 256, 256, 3)\n",
            "(1785, 256, 256, 3)\n",
            "(1785, 256, 256, 3)\n",
            "(1785, 256, 256, 3)\n",
            "(1785, 256, 256, 3)\n",
            "(1785, 256, 256, 3)\n",
            "(1785, 256, 256, 3)\n",
            "(1785, 256, 256, 3)\n",
            "(1785, 256, 256, 3)\n",
            "(1785, 256, 256, 3)\n",
            "(1785, 256, 256, 3)\n",
            "(1785, 256, 256, 3)\n",
            "(1785, 256, 256, 3)\n",
            "(1785, 256, 256, 3)\n",
            "(1785, 256, 256, 3)\n",
            "(1785, 256, 256, 3)\n",
            "(1785, 256, 256, 3)\n",
            "(1785, 256, 256, 3)\n",
            "(1785, 256, 256, 3)\n",
            "(1785, 256, 256, 3)\n",
            "(1785, 256, 256, 3)\n",
            "(1785, 256, 256, 3)\n",
            "(1785, 256, 256, 3)\n",
            "(1785, 256, 256, 3)\n",
            "(1785, 256, 256, 3)\n",
            "(1785, 256, 256, 3)\n",
            "(1785, 256, 256, 3)\n",
            "(1785, 256, 256, 3)\n",
            "(1785, 256, 256, 3)\n",
            "(1785, 256, 256, 3)\n",
            "(1785, 256, 256, 3)\n",
            "(1785, 256, 256, 3)\n",
            "(1785, 256, 256, 3)\n",
            "(1785, 256, 256, 3)\n"
          ],
          "name": "stdout"
        }
      ]
    },
    {
      "cell_type": "code",
      "metadata": {
        "id": "KsWI6aTaO1eE",
        "colab_type": "code",
        "colab": {}
      },
      "source": [
        "xtrain1=xtrain"
      ],
      "execution_count": 0,
      "outputs": []
    },
    {
      "cell_type": "code",
      "metadata": {
        "id": "048f6l1bO3dn",
        "colab_type": "code",
        "outputId": "a5d205e9-acf0-459b-e516-e13f29ba323a",
        "colab": {
          "base_uri": "https://localhost:8080/",
          "height": 34
        }
      },
      "source": [
        "xtrain1.shape"
      ],
      "execution_count": 0,
      "outputs": [
        {
          "output_type": "execute_result",
          "data": {
            "text/plain": [
              "(1785, 256, 256, 3)"
            ]
          },
          "metadata": {
            "tags": []
          },
          "execution_count": 83
        }
      ]
    },
    {
      "cell_type": "code",
      "metadata": {
        "id": "2weh0mEqO4sW",
        "colab_type": "code",
        "colab": {}
      },
      "source": [
        ""
      ],
      "execution_count": 0,
      "outputs": []
    },
    {
      "cell_type": "code",
      "metadata": {
        "id": "NpR-gtRmMRqE",
        "colab_type": "code",
        "outputId": "d41ed333-1de4-473f-c963-ff3af4f80f84",
        "colab": {
          "base_uri": "https://localhost:8080/",
          "height": 34
        }
      },
      "source": [
        "xtrain1.shape"
      ],
      "execution_count": 0,
      "outputs": [
        {
          "output_type": "execute_result",
          "data": {
            "text/plain": [
              "(1785, 256, 256, 3)"
            ]
          },
          "metadata": {
            "tags": []
          },
          "execution_count": 86
        }
      ]
    },
    {
      "cell_type": "code",
      "metadata": {
        "id": "LlgPRDHyO61X",
        "colab_type": "code",
        "outputId": "c98acc14-840c-400d-d5a9-9292a6a9a966",
        "colab": {
          "base_uri": "https://localhost:8080/",
          "height": 34
        }
      },
      "source": [
        "np.dstack((xtrain1[0],xtrainlbp[0])).shape"
      ],
      "execution_count": 0,
      "outputs": [
        {
          "output_type": "execute_result",
          "data": {
            "text/plain": [
              "(256, 256, 4)"
            ]
          },
          "metadata": {
            "tags": []
          },
          "execution_count": 89
        }
      ]
    },
    {
      "cell_type": "code",
      "metadata": {
        "id": "XpqkLxPLPmR3",
        "colab_type": "code",
        "colab": {}
      },
      "source": [
        "c=np.dstack((xtrain1[0],xtrainlbp[0]))"
      ],
      "execution_count": 0,
      "outputs": []
    },
    {
      "cell_type": "code",
      "metadata": {
        "id": "FN35G6hoPrIr",
        "colab_type": "code",
        "outputId": "f05c5a1a-b924-4f3d-8791-86217ed4b200",
        "colab": {
          "base_uri": "https://localhost:8080/",
          "height": 34
        }
      },
      "source": [
        "c.shape"
      ],
      "execution_count": 0,
      "outputs": [
        {
          "output_type": "execute_result",
          "data": {
            "text/plain": [
              "(256, 256, 4)"
            ]
          },
          "metadata": {
            "tags": []
          },
          "execution_count": 91
        }
      ]
    },
    {
      "cell_type": "code",
      "metadata": {
        "id": "F2oaTHAEPuMN",
        "colab_type": "code",
        "outputId": "1a34b7e7-5aed-486d-a869-053cdd64bf2f",
        "colab": {
          "base_uri": "https://localhost:8080/",
          "height": 850
        }
      },
      "source": [
        "print(c)"
      ],
      "execution_count": 0,
      "outputs": [
        {
          "output_type": "stream",
          "text": [
            "[[[2.70588249e-01 2.43137255e-01 2.15686277e-01 2.50000000e+01]\n",
            "  [1.45098045e-01 6.27451017e-02 1.17647061e-02 6.00000000e+00]\n",
            "  [0.00000000e+00 0.00000000e+00 3.92156886e-03 8.00000000e+00]\n",
            "  ...\n",
            "  [7.84313772e-03 3.92156877e-02 1.68627456e-01 2.50000000e+01]\n",
            "  [3.72549027e-01 4.70588237e-01 5.60784340e-01 2.50000000e+01]\n",
            "  [5.92156887e-01 5.68627477e-01 5.41176498e-01 2.50000000e+01]]\n",
            "\n",
            " [[3.56862754e-01 3.29411775e-01 2.39215687e-01 2.50000000e+01]\n",
            "  [1.25490203e-01 3.13725509e-02 0.00000000e+00 6.00000000e+00]\n",
            "  [0.00000000e+00 0.00000000e+00 0.00000000e+00 2.40000000e+01]\n",
            "  ...\n",
            "  [3.92156886e-03 3.92156886e-03 1.17647061e-02 8.00000000e+00]\n",
            "  [3.13725509e-02 1.05882354e-01 2.86274523e-01 2.50000000e+01]\n",
            "  [4.90196079e-01 5.64705908e-01 6.31372571e-01 1.00000000e+00]]\n",
            "\n",
            " [[3.25490206e-01 2.27450982e-01 1.09803922e-01 7.00000000e+00]\n",
            "  [4.31372561e-02 7.84313772e-03 3.92156886e-03 8.00000000e+00]\n",
            "  [0.00000000e+00 3.92156886e-03 1.96078438e-02 8.00000000e+00]\n",
            "  ...\n",
            "  [1.96078438e-02 7.84313772e-03 3.92156886e-03 9.00000000e+00]\n",
            "  [2.74509806e-02 7.45098069e-02 1.76470593e-01 2.50000000e+01]\n",
            "  [4.31372553e-01 5.84313750e-01 5.64705908e-01 0.00000000e+00]]\n",
            "\n",
            " ...\n",
            "\n",
            " [[2.19607845e-01 4.43137258e-01 6.23529434e-01 2.50000000e+01]\n",
            "  [6.98039234e-01 7.33333349e-01 7.17647076e-01 0.00000000e+00]\n",
            "  [7.05882370e-01 7.25490212e-01 7.49019623e-01 1.00000000e+00]\n",
            "  ...\n",
            "  [3.84313732e-01 3.88235301e-01 4.07843143e-01 2.50000000e+01]\n",
            "  [4.82352942e-01 5.37254930e-01 5.72549045e-01 0.00000000e+00]\n",
            "  [5.80392182e-01 5.84313750e-01 5.72549045e-01 0.00000000e+00]]\n",
            "\n",
            " [[1.76470593e-01 2.78431386e-01 3.25490206e-01 7.00000000e+00]\n",
            "  [3.56862754e-01 4.39215690e-01 5.41176498e-01 2.50000000e+01]\n",
            "  [6.31372571e-01 6.94117665e-01 7.21568644e-01 0.00000000e+00]\n",
            "  ...\n",
            "  [4.00000006e-01 3.76470596e-01 3.68627459e-01 2.50000000e+01]\n",
            "  [3.92156869e-01 4.11764711e-01 4.27450985e-01 3.00000000e+00]\n",
            "  [4.47058827e-01 4.74509805e-01 5.29411793e-01 1.00000000e+00]]\n",
            "\n",
            " [[2.27450982e-01 1.88235298e-01 1.60784319e-01 7.00000000e+00]\n",
            "  [1.56862751e-01 1.84313729e-01 2.19607845e-01 7.00000000e+00]\n",
            "  [2.62745112e-01 3.33333343e-01 4.31372553e-01 7.00000000e+00]\n",
            "  ...\n",
            "  [3.84313732e-01 3.56862754e-01 3.56862754e-01 2.50000000e+01]\n",
            "  [3.92156869e-01 3.96078438e-01 4.00000006e-01 2.50000000e+01]\n",
            "  [3.84313732e-01 3.45098048e-01 3.49019617e-01 2.50000000e+01]]]\n"
          ],
          "name": "stdout"
        }
      ]
    },
    {
      "cell_type": "code",
      "metadata": {
        "id": "8_ZD8fHvQAGx",
        "colab_type": "code",
        "outputId": "f6019013-d9f4-48d7-fd2e-bce0f1f67e35",
        "colab": {
          "base_uri": "https://localhost:8080/",
          "height": 34
        }
      },
      "source": [
        "xtrain1[0].shape"
      ],
      "execution_count": 0,
      "outputs": [
        {
          "output_type": "execute_result",
          "data": {
            "text/plain": [
              "(256, 256, 3)"
            ]
          },
          "metadata": {
            "tags": []
          },
          "execution_count": 93
        }
      ]
    },
    {
      "cell_type": "code",
      "metadata": {
        "id": "PC_aPqfxQD_Z",
        "colab_type": "code",
        "colab": {}
      },
      "source": [
        "c=[]"
      ],
      "execution_count": 0,
      "outputs": []
    },
    {
      "cell_type": "code",
      "metadata": {
        "id": "WHKTADsRQIv_",
        "colab_type": "code",
        "colab": {}
      },
      "source": [
        "for i in range(1785):\n",
        "  c.append(np.dstack((x_train[i],x_train_lbp[i])))"
      ],
      "execution_count": 0,
      "outputs": []
    },
    {
      "cell_type": "code",
      "metadata": {
        "id": "FgTooJQIQT-2",
        "colab_type": "code",
        "colab": {}
      },
      "source": [
        "d=np.array(c)"
      ],
      "execution_count": 0,
      "outputs": []
    },
    {
      "cell_type": "code",
      "metadata": {
        "id": "I_xuC-R0QVxV",
        "colab_type": "code",
        "outputId": "fe47938e-4dc4-4227-ff9c-fed1ea01647a",
        "colab": {
          "base_uri": "https://localhost:8080/",
          "height": 34
        }
      },
      "source": [
        "d.shape"
      ],
      "execution_count": 0,
      "outputs": [
        {
          "output_type": "execute_result",
          "data": {
            "text/plain": [
              "(1785, 256, 256, 4)"
            ]
          },
          "metadata": {
            "tags": []
          },
          "execution_count": 28
        }
      ]
    },
    {
      "cell_type": "code",
      "metadata": {
        "id": "AlAW3Hbq-lVm",
        "colab_type": "code",
        "colab": {}
      },
      "source": [
        "x_train_mix=d"
      ],
      "execution_count": 0,
      "outputs": []
    },
    {
      "cell_type": "code",
      "metadata": {
        "id": "aVUOkiWH-nYT",
        "colab_type": "code",
        "colab": {}
      },
      "source": [
        "h=[]"
      ],
      "execution_count": 0,
      "outputs": []
    },
    {
      "cell_type": "code",
      "metadata": {
        "id": "KUdLrd8h-qkx",
        "colab_type": "code",
        "colab": {}
      },
      "source": [
        "for i in range(105):\n",
        "  h.append(np.dstack((x_test[i],x_test_lbp[i])))"
      ],
      "execution_count": 0,
      "outputs": []
    },
    {
      "cell_type": "code",
      "metadata": {
        "id": "AOrNH6TD--QF",
        "colab_type": "code",
        "colab": {}
      },
      "source": [
        "x_test_mix=np.array(h)"
      ],
      "execution_count": 0,
      "outputs": []
    },
    {
      "cell_type": "code",
      "metadata": {
        "id": "vBZe9G2J_Aon",
        "colab_type": "code",
        "outputId": "1cd801be-525b-4034-faa9-26d7f86b070a",
        "colab": {
          "base_uri": "https://localhost:8080/",
          "height": 34
        }
      },
      "source": [
        "x_test_mix.shape"
      ],
      "execution_count": 0,
      "outputs": [
        {
          "output_type": "execute_result",
          "data": {
            "text/plain": [
              "(105, 256, 256, 4)"
            ]
          },
          "metadata": {
            "tags": []
          },
          "execution_count": 38
        }
      ]
    },
    {
      "cell_type": "code",
      "metadata": {
        "id": "Q5CnVfam_ClK",
        "colab_type": "code",
        "colab": {}
      },
      "source": [
        "x_train_mix = x_train_mix.reshape(x_train_mix.shape[0], img_rows, img_cols,4)\n",
        "x_test_mix = x_test_mix.reshape(x_test_mix.shape[0], img_rows, img_cols,4)\n",
        "\n",
        "input_shape = (img_rows, img_cols,4)"
      ],
      "execution_count": 0,
      "outputs": []
    },
    {
      "cell_type": "code",
      "metadata": {
        "id": "JW7wHalZ_fZH",
        "colab_type": "code",
        "outputId": "9b2bb9a9-bad8-47b2-dc68-4386d45c0a4c",
        "colab": {
          "base_uri": "https://localhost:8080/",
          "height": 88
        }
      },
      "source": [
        "model = Sequential()\n",
        "model.add(Conv2D(32, kernel_size=(3, 3),activation='relu',input_shape=x_train_mix.shape[1:]))\n",
        "model.add(MaxPooling2D(pool_size=(2,2)))\n",
        "model.add(Conv2D(32, (3, 3), activation='relu'))\n",
        "model.add(MaxPooling2D(pool_size=(2,2)))\n",
        "model.add(Dropout(0.25))\n",
        "model.add(Flatten())\n",
        "model.add(Dense(128, activation='relu'))\n",
        "model.add(Dropout(0.5))\n",
        "model.add(Dense(21, activation='softmax'))\n",
        "model.compile(loss='categorical_crossentropy',\n",
        "            optimizer='adam',\n",
        "            metrics=['accuracy'])"
      ],
      "execution_count": 0,
      "outputs": [
        {
          "output_type": "stream",
          "text": [
            "WARNING:tensorflow:From /usr/local/lib/python3.6/dist-packages/tensorflow_core/python/ops/resource_variable_ops.py:1630: calling BaseResourceVariable.__init__ (from tensorflow.python.ops.resource_variable_ops) with constraint is deprecated and will be removed in a future version.\n",
            "Instructions for updating:\n",
            "If using Keras pass *_constraint arguments to layers.\n"
          ],
          "name": "stdout"
        }
      ]
    },
    {
      "cell_type": "code",
      "metadata": {
        "id": "rHxVgPm2_kFA",
        "colab_type": "code",
        "outputId": "c5d35b31-46f8-41c0-8e94-225b65ba98bb",
        "colab": {
          "base_uri": "https://localhost:8080/",
          "height": 1000
        }
      },
      "source": [
        "model.fit(x_train_mix, y_train, batch_size=50, nb_epoch=100, verbose=1, validation_data=(x_test_mix, y_test))"
      ],
      "execution_count": 0,
      "outputs": [
        {
          "output_type": "stream",
          "text": [
            "WARNING:tensorflow:The `nb_epoch` argument in `fit` has been renamed `epochs`.\n",
            "Train on 1785 samples, validate on 105 samples\n",
            "Epoch 1/100\n",
            "1785/1785 [==============================] - 18s 10ms/sample - loss: 25.5352 - acc: 0.0420 - val_loss: 3.0445 - val_acc: 0.0476\n",
            "Epoch 2/100\n",
            "1785/1785 [==============================] - 10s 6ms/sample - loss: 3.0467 - acc: 0.0420 - val_loss: 3.0445 - val_acc: 0.0476\n",
            "Epoch 3/100\n",
            "1785/1785 [==============================] - 9s 5ms/sample - loss: 3.0447 - acc: 0.0431 - val_loss: 3.0445 - val_acc: 0.0476\n",
            "Epoch 4/100\n",
            "1785/1785 [==============================] - 9s 5ms/sample - loss: 3.0447 - acc: 0.0437 - val_loss: 3.0445 - val_acc: 0.0476\n",
            "Epoch 5/100\n",
            "1785/1785 [==============================] - 8s 5ms/sample - loss: 3.0447 - acc: 0.0459 - val_loss: 3.0445 - val_acc: 0.0476\n",
            "Epoch 6/100\n",
            "1785/1785 [==============================] - 9s 5ms/sample - loss: 3.0447 - acc: 0.0437 - val_loss: 3.0445 - val_acc: 0.0476\n",
            "Epoch 7/100\n",
            "1785/1785 [==============================] - 9s 5ms/sample - loss: 3.0447 - acc: 0.0459 - val_loss: 3.0445 - val_acc: 0.0476\n",
            "Epoch 8/100\n",
            "1785/1785 [==============================] - 8s 5ms/sample - loss: 3.0447 - acc: 0.0381 - val_loss: 3.0445 - val_acc: 0.0476\n",
            "Epoch 9/100\n",
            "1785/1785 [==============================] - 9s 5ms/sample - loss: 3.0447 - acc: 0.0476 - val_loss: 3.0445 - val_acc: 0.0476\n",
            "Epoch 10/100\n",
            "1785/1785 [==============================] - 9s 5ms/sample - loss: 3.0447 - acc: 0.0415 - val_loss: 3.0445 - val_acc: 0.0476\n",
            "Epoch 11/100\n",
            "1785/1785 [==============================] - 8s 5ms/sample - loss: 3.0447 - acc: 0.0392 - val_loss: 3.0445 - val_acc: 0.0476\n",
            "Epoch 12/100\n",
            "1785/1785 [==============================] - 8s 5ms/sample - loss: 3.0448 - acc: 0.0443 - val_loss: 3.0445 - val_acc: 0.0476\n",
            "Epoch 13/100\n",
            "1785/1785 [==============================] - 8s 5ms/sample - loss: 3.0447 - acc: 0.0476 - val_loss: 3.0445 - val_acc: 0.0476\n",
            "Epoch 14/100\n",
            "1785/1785 [==============================] - 9s 5ms/sample - loss: 3.0447 - acc: 0.0392 - val_loss: 3.0445 - val_acc: 0.0476\n",
            "Epoch 15/100\n",
            "1785/1785 [==============================] - 10s 6ms/sample - loss: 3.0447 - acc: 0.0476 - val_loss: 3.0445 - val_acc: 0.0476\n",
            "Epoch 16/100\n",
            "1785/1785 [==============================] - 8s 5ms/sample - loss: 3.0447 - acc: 0.0476 - val_loss: 3.0445 - val_acc: 0.0476\n",
            "Epoch 17/100\n",
            "1785/1785 [==============================] - 11s 6ms/sample - loss: 3.0447 - acc: 0.0392 - val_loss: 3.0445 - val_acc: 0.0476\n",
            "Epoch 18/100\n",
            "1785/1785 [==============================] - 11s 6ms/sample - loss: 3.0447 - acc: 0.0353 - val_loss: 3.0445 - val_acc: 0.0476\n",
            "Epoch 19/100\n",
            "1785/1785 [==============================] - 11s 6ms/sample - loss: 3.0447 - acc: 0.0359 - val_loss: 3.0445 - val_acc: 0.0476\n",
            "Epoch 20/100\n",
            "1785/1785 [==============================] - 12s 6ms/sample - loss: 3.0447 - acc: 0.0443 - val_loss: 3.0445 - val_acc: 0.0476\n",
            "Epoch 21/100\n",
            "1785/1785 [==============================] - 12s 6ms/sample - loss: 3.0447 - acc: 0.0459 - val_loss: 3.0445 - val_acc: 0.0476\n",
            "Epoch 22/100\n",
            "1785/1785 [==============================] - 11s 6ms/sample - loss: 3.0447 - acc: 0.0359 - val_loss: 3.0445 - val_acc: 0.0476\n",
            "Epoch 23/100\n",
            "1785/1785 [==============================] - 11s 6ms/sample - loss: 3.0448 - acc: 0.0353 - val_loss: 3.0445 - val_acc: 0.0476\n",
            "Epoch 24/100\n",
            "1785/1785 [==============================] - 11s 6ms/sample - loss: 3.0447 - acc: 0.0437 - val_loss: 3.0445 - val_acc: 0.0476\n",
            "Epoch 25/100\n",
            "1785/1785 [==============================] - 11s 6ms/sample - loss: 3.0447 - acc: 0.0381 - val_loss: 3.0445 - val_acc: 0.0476\n",
            "Epoch 26/100\n",
            "1785/1785 [==============================] - 11s 6ms/sample - loss: 3.0447 - acc: 0.0465 - val_loss: 3.0445 - val_acc: 0.0476\n",
            "Epoch 27/100\n",
            "1785/1785 [==============================] - 12s 7ms/sample - loss: 3.0447 - acc: 0.0448 - val_loss: 3.0445 - val_acc: 0.0476\n",
            "Epoch 28/100\n",
            "1785/1785 [==============================] - 11s 6ms/sample - loss: 3.0448 - acc: 0.0415 - val_loss: 3.0445 - val_acc: 0.0476\n",
            "Epoch 29/100\n",
            "1785/1785 [==============================] - 11s 6ms/sample - loss: 3.0447 - acc: 0.0403 - val_loss: 3.0445 - val_acc: 0.0476\n",
            "Epoch 30/100\n",
            "1785/1785 [==============================] - 11s 6ms/sample - loss: 3.0447 - acc: 0.0415 - val_loss: 3.0445 - val_acc: 0.0476\n",
            "Epoch 31/100\n",
            "1785/1785 [==============================] - 11s 6ms/sample - loss: 3.0447 - acc: 0.0443 - val_loss: 3.0445 - val_acc: 0.0476\n",
            "Epoch 32/100\n",
            "1785/1785 [==============================] - 12s 7ms/sample - loss: 3.0447 - acc: 0.0392 - val_loss: 3.0445 - val_acc: 0.0476\n",
            "Epoch 33/100\n",
            "1785/1785 [==============================] - 11s 6ms/sample - loss: 3.0447 - acc: 0.0443 - val_loss: 3.0445 - val_acc: 0.0476\n",
            "Epoch 34/100\n",
            "1785/1785 [==============================] - 11s 6ms/sample - loss: 3.0447 - acc: 0.0431 - val_loss: 3.0445 - val_acc: 0.0476\n",
            "Epoch 35/100\n",
            "1785/1785 [==============================] - 11s 6ms/sample - loss: 3.0447 - acc: 0.0443 - val_loss: 3.0445 - val_acc: 0.0476\n",
            "Epoch 36/100\n",
            "1785/1785 [==============================] - 11s 6ms/sample - loss: 3.0447 - acc: 0.0431 - val_loss: 3.0445 - val_acc: 0.0476\n",
            "Epoch 37/100\n",
            "1785/1785 [==============================] - 12s 7ms/sample - loss: 3.0447 - acc: 0.0426 - val_loss: 3.0445 - val_acc: 0.0476\n",
            "Epoch 38/100\n",
            "1785/1785 [==============================] - 11s 6ms/sample - loss: 3.0447 - acc: 0.0448 - val_loss: 3.0445 - val_acc: 0.0476\n",
            "Epoch 39/100\n",
            "1785/1785 [==============================] - 11s 6ms/sample - loss: 3.0447 - acc: 0.0415 - val_loss: 3.0445 - val_acc: 0.0476\n",
            "Epoch 40/100\n",
            "1785/1785 [==============================] - 11s 6ms/sample - loss: 3.0447 - acc: 0.0426 - val_loss: 3.0445 - val_acc: 0.0476\n",
            "Epoch 41/100\n",
            "1785/1785 [==============================] - 11s 6ms/sample - loss: 3.0447 - acc: 0.0459 - val_loss: 3.0445 - val_acc: 0.0476\n",
            "Epoch 42/100\n",
            "1785/1785 [==============================] - 11s 6ms/sample - loss: 3.0448 - acc: 0.0398 - val_loss: 3.0445 - val_acc: 0.0476\n",
            "Epoch 43/100\n",
            "1785/1785 [==============================] - 12s 7ms/sample - loss: 3.0447 - acc: 0.0375 - val_loss: 3.0445 - val_acc: 0.0476\n",
            "Epoch 44/100\n",
            "1785/1785 [==============================] - 12s 6ms/sample - loss: 3.0447 - acc: 0.0415 - val_loss: 3.0445 - val_acc: 0.0476\n",
            "Epoch 45/100\n",
            "1785/1785 [==============================] - 11s 6ms/sample - loss: 3.0448 - acc: 0.0392 - val_loss: 3.0445 - val_acc: 0.0476\n",
            "Epoch 46/100\n",
            "1785/1785 [==============================] - 11s 6ms/sample - loss: 3.0447 - acc: 0.0476 - val_loss: 3.0445 - val_acc: 0.0476\n",
            "Epoch 47/100\n",
            "1785/1785 [==============================] - 11s 6ms/sample - loss: 3.0447 - acc: 0.0370 - val_loss: 3.0445 - val_acc: 0.0476\n",
            "Epoch 48/100\n",
            "1785/1785 [==============================] - 11s 6ms/sample - loss: 3.0447 - acc: 0.0387 - val_loss: 3.0445 - val_acc: 0.0476\n",
            "Epoch 49/100\n",
            "1785/1785 [==============================] - 12s 7ms/sample - loss: 3.0447 - acc: 0.0420 - val_loss: 3.0445 - val_acc: 0.0476\n",
            "Epoch 50/100\n",
            "1785/1785 [==============================] - 11s 6ms/sample - loss: 3.0447 - acc: 0.0403 - val_loss: 3.0445 - val_acc: 0.0476\n",
            "Epoch 51/100\n",
            "1785/1785 [==============================] - 11s 6ms/sample - loss: 3.0447 - acc: 0.0364 - val_loss: 3.0445 - val_acc: 0.0476\n",
            "Epoch 52/100\n",
            "1785/1785 [==============================] - 11s 6ms/sample - loss: 3.0447 - acc: 0.0325 - val_loss: 3.0445 - val_acc: 0.0476\n",
            "Epoch 53/100\n",
            "1785/1785 [==============================] - 11s 6ms/sample - loss: 3.0447 - acc: 0.0375 - val_loss: 3.0445 - val_acc: 0.0476\n",
            "Epoch 54/100\n",
            "1785/1785 [==============================] - 11s 6ms/sample - loss: 3.0447 - acc: 0.0375 - val_loss: 3.0445 - val_acc: 0.0476\n",
            "Epoch 55/100\n",
            "1785/1785 [==============================] - 12s 7ms/sample - loss: 3.0447 - acc: 0.0420 - val_loss: 3.0445 - val_acc: 0.0476\n",
            "Epoch 56/100\n",
            "1785/1785 [==============================] - 11s 6ms/sample - loss: 3.0447 - acc: 0.0291 - val_loss: 3.0445 - val_acc: 0.0476\n",
            "Epoch 57/100\n",
            "1785/1785 [==============================] - 11s 6ms/sample - loss: 3.0447 - acc: 0.0375 - val_loss: 3.0445 - val_acc: 0.0476\n",
            "Epoch 58/100\n",
            "1785/1785 [==============================] - 11s 6ms/sample - loss: 3.0447 - acc: 0.0437 - val_loss: 3.0445 - val_acc: 0.0476\n",
            "Epoch 59/100\n",
            "1785/1785 [==============================] - 11s 6ms/sample - loss: 3.0447 - acc: 0.0342 - val_loss: 3.0445 - val_acc: 0.0476\n",
            "Epoch 60/100\n",
            "1785/1785 [==============================] - 12s 6ms/sample - loss: 3.0447 - acc: 0.0448 - val_loss: 3.0445 - val_acc: 0.0476\n",
            "Epoch 61/100\n",
            "1785/1785 [==============================] - 12s 6ms/sample - loss: 3.0448 - acc: 0.0314 - val_loss: 3.0445 - val_acc: 0.0476\n",
            "Epoch 62/100\n",
            "1785/1785 [==============================] - 12s 7ms/sample - loss: 3.0448 - acc: 0.0409 - val_loss: 3.0445 - val_acc: 0.0476\n",
            "Epoch 63/100\n",
            "1785/1785 [==============================] - 11s 6ms/sample - loss: 3.0447 - acc: 0.0426 - val_loss: 3.0445 - val_acc: 0.0476\n",
            "Epoch 64/100\n",
            "1785/1785 [==============================] - 11s 6ms/sample - loss: 3.0447 - acc: 0.0314 - val_loss: 3.0445 - val_acc: 0.0476\n",
            "Epoch 65/100\n",
            "1785/1785 [==============================] - 11s 6ms/sample - loss: 3.0447 - acc: 0.0392 - val_loss: 3.0445 - val_acc: 0.0476\n",
            "Epoch 66/100\n",
            "1785/1785 [==============================] - 12s 6ms/sample - loss: 3.0447 - acc: 0.0437 - val_loss: 3.0445 - val_acc: 0.0476\n",
            "Epoch 67/100\n",
            "1785/1785 [==============================] - 12s 6ms/sample - loss: 3.0447 - acc: 0.0415 - val_loss: 3.0445 - val_acc: 0.0476\n",
            "Epoch 68/100\n",
            "1785/1785 [==============================] - 12s 7ms/sample - loss: 3.0447 - acc: 0.0392 - val_loss: 3.0445 - val_acc: 0.0476\n",
            "Epoch 69/100\n",
            "1785/1785 [==============================] - 11s 6ms/sample - loss: 3.0448 - acc: 0.0420 - val_loss: 3.0445 - val_acc: 0.0476\n",
            "Epoch 70/100\n",
            "1785/1785 [==============================] - 11s 6ms/sample - loss: 3.0447 - acc: 0.0347 - val_loss: 3.0445 - val_acc: 0.0476\n",
            "Epoch 71/100\n",
            "1785/1785 [==============================] - 11s 6ms/sample - loss: 3.0447 - acc: 0.0375 - val_loss: 3.0445 - val_acc: 0.0476\n",
            "Epoch 72/100\n",
            "1785/1785 [==============================] - 12s 7ms/sample - loss: 3.0448 - acc: 0.0381 - val_loss: 3.0445 - val_acc: 0.0476\n",
            "Epoch 73/100\n",
            "1785/1785 [==============================] - 12s 7ms/sample - loss: 3.0447 - acc: 0.0409 - val_loss: 3.0445 - val_acc: 0.0476\n",
            "Epoch 74/100\n",
            "1785/1785 [==============================] - 12s 6ms/sample - loss: 3.0448 - acc: 0.0426 - val_loss: 3.0445 - val_acc: 0.0476\n",
            "Epoch 75/100\n",
            "1785/1785 [==============================] - 11s 6ms/sample - loss: 3.0447 - acc: 0.0359 - val_loss: 3.0445 - val_acc: 0.0476\n",
            "Epoch 76/100\n",
            "1785/1785 [==============================] - 11s 6ms/sample - loss: 3.0447 - acc: 0.0319 - val_loss: 3.0445 - val_acc: 0.0476\n",
            "Epoch 77/100\n",
            "1785/1785 [==============================] - 11s 6ms/sample - loss: 3.0447 - acc: 0.0342 - val_loss: 3.0445 - val_acc: 0.0476\n",
            "Epoch 78/100\n",
            "1785/1785 [==============================] - 11s 6ms/sample - loss: 3.0447 - acc: 0.0443 - val_loss: 3.0445 - val_acc: 0.0476\n",
            "Epoch 79/100\n",
            "1785/1785 [==============================] - 12s 7ms/sample - loss: 3.0448 - acc: 0.0398 - val_loss: 3.0445 - val_acc: 0.0476\n",
            "Epoch 80/100\n",
            "1785/1785 [==============================] - 11s 6ms/sample - loss: 3.0447 - acc: 0.0454 - val_loss: 3.0445 - val_acc: 0.0476\n",
            "Epoch 81/100\n",
            "1785/1785 [==============================] - 11s 6ms/sample - loss: 3.0447 - acc: 0.0448 - val_loss: 3.0445 - val_acc: 0.0476\n",
            "Epoch 82/100\n",
            "1785/1785 [==============================] - 11s 6ms/sample - loss: 3.0448 - acc: 0.0375 - val_loss: 3.0445 - val_acc: 0.0476\n",
            "Epoch 83/100\n",
            "1785/1785 [==============================] - 11s 6ms/sample - loss: 3.0447 - acc: 0.0347 - val_loss: 3.0445 - val_acc: 0.0476\n",
            "Epoch 84/100\n",
            "1785/1785 [==============================] - 12s 6ms/sample - loss: 3.0447 - acc: 0.0381 - val_loss: 3.0445 - val_acc: 0.0476\n",
            "Epoch 85/100\n",
            "1785/1785 [==============================] - 12s 7ms/sample - loss: 3.0447 - acc: 0.0409 - val_loss: 3.0445 - val_acc: 0.0476\n",
            "Epoch 86/100\n",
            "1785/1785 [==============================] - 11s 6ms/sample - loss: 3.0447 - acc: 0.0403 - val_loss: 3.0445 - val_acc: 0.0476\n",
            "Epoch 87/100\n",
            "1785/1785 [==============================] - 11s 6ms/sample - loss: 3.0447 - acc: 0.0403 - val_loss: 3.0445 - val_acc: 0.0476\n",
            "Epoch 88/100\n",
            "1785/1785 [==============================] - 11s 6ms/sample - loss: 3.0447 - acc: 0.0387 - val_loss: 3.0445 - val_acc: 0.0476\n",
            "Epoch 89/100\n",
            "1785/1785 [==============================] - 12s 6ms/sample - loss: 3.0447 - acc: 0.0409 - val_loss: 3.0445 - val_acc: 0.0476\n",
            "Epoch 90/100\n",
            "1785/1785 [==============================] - 12s 7ms/sample - loss: 3.0447 - acc: 0.0448 - val_loss: 3.0445 - val_acc: 0.0476\n",
            "Epoch 91/100\n",
            "1785/1785 [==============================] - 11s 6ms/sample - loss: 3.0447 - acc: 0.0364 - val_loss: 3.0445 - val_acc: 0.0476\n",
            "Epoch 92/100\n",
            "1785/1785 [==============================] - 11s 6ms/sample - loss: 3.0447 - acc: 0.0409 - val_loss: 3.0445 - val_acc: 0.0476\n",
            "Epoch 93/100\n",
            "1785/1785 [==============================] - 11s 6ms/sample - loss: 3.0448 - acc: 0.0375 - val_loss: 3.0445 - val_acc: 0.0476\n",
            "Epoch 94/100\n",
            "1785/1785 [==============================] - 12s 7ms/sample - loss: 3.0448 - acc: 0.0342 - val_loss: 3.0445 - val_acc: 0.0476\n",
            "Epoch 95/100\n",
            "1785/1785 [==============================] - 12s 7ms/sample - loss: 3.0447 - acc: 0.0375 - val_loss: 3.0445 - val_acc: 0.0476\n",
            "Epoch 96/100\n",
            "1785/1785 [==============================] - 12s 7ms/sample - loss: 3.0447 - acc: 0.0409 - val_loss: 3.0445 - val_acc: 0.0476\n",
            "Epoch 97/100\n",
            "1785/1785 [==============================] - 11s 6ms/sample - loss: 3.0447 - acc: 0.0459 - val_loss: 3.0445 - val_acc: 0.0476\n",
            "Epoch 98/100\n",
            "1785/1785 [==============================] - 11s 6ms/sample - loss: 3.0447 - acc: 0.0353 - val_loss: 3.0445 - val_acc: 0.0476\n",
            "Epoch 99/100\n",
            "1785/1785 [==============================] - 11s 6ms/sample - loss: 3.0447 - acc: 0.0476 - val_loss: 3.0445 - val_acc: 0.0476\n",
            "Epoch 100/100\n",
            "1785/1785 [==============================] - 11s 6ms/sample - loss: 3.0447 - acc: 0.0426 - val_loss: 3.0445 - val_acc: 0.0476\n"
          ],
          "name": "stdout"
        },
        {
          "output_type": "execute_result",
          "data": {
            "text/plain": [
              "<tensorflow.python.keras.callbacks.History at 0x7f2578659390>"
            ]
          },
          "metadata": {
            "tags": []
          },
          "execution_count": 41
        }
      ]
    }
  ]
}