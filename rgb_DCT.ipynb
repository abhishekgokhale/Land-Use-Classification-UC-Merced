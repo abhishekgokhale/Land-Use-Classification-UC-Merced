{
  "nbformat": 4,
  "nbformat_minor": 0,
  "metadata": {
    "colab": {
      "name": "rgb_DCT.ipynb",
      "provenance": [],
      "collapsed_sections": []
    },
    "kernelspec": {
      "name": "python3",
      "display_name": "Python 3"
    },
    "accelerator": "GPU"
  },
  "cells": [
    {
      "cell_type": "code",
      "metadata": {
        "id": "U5-4vtRLMSag",
        "colab_type": "code",
        "colab": {}
      },
      "source": [
        "import numpy as np\n",
        "import matplotlib.pyplot as plt\n",
        "import os\n",
        "import cv2\n",
        "from tqdm import tqdm\n",
        "from PIL import Image #import Python Image Library\n",
        "import numpy as np\n",
        "import os\n",
        "import glob\n",
        "import re\n",
        "import keras\n",
        "from keras.models import Sequential\n",
        "from keras.layers import Dense, Dropout, Activation, Flatten\n",
        "from keras.layers import Conv2D, MaxPooling2D\n",
        "from tensorflow.keras import regularizers\n",
        "from keras.utils import np_utils\n",
        "from keras import backend as K"
      ],
      "execution_count": 0,
      "outputs": []
    },
    {
      "cell_type": "code",
      "metadata": {
        "id": "MxmUMmm7MXE4",
        "colab_type": "code",
        "colab": {}
      },
      "source": [
        "DATADIR = '/content/drive/My Drive/UCMerced_LandUse/Images/'\n",
        "\n",
        "CATEGORIES = [ 'agricultural',  'airplane',    'baseballdiamond', 'beach',   'buildings',          'chaparral',         'denseresidential',\n",
        "                'forest',        'freeway',     'golfcourse',      'harbor',  'intersection',       'mediumresidential', 'mobilehomepark',\n",
        "                'overpass',      'parkinglot',  'river',           'runway',  'sparseresidential',  'storagetanks',      'tenniscourt' ]\n"
      ],
      "execution_count": 0,
      "outputs": []
    },
    {
      "cell_type": "code",
      "metadata": {
        "id": "8_H86fHPMfSX",
        "colab_type": "code",
        "colab": {}
      },
      "source": [
        "from google.colab import drive\n",
        "drive.mount('/content/drive')"
      ],
      "execution_count": 0,
      "outputs": []
    },
    {
      "cell_type": "code",
      "metadata": {
        "id": "KyiF2extNsAZ",
        "colab_type": "code",
        "colab": {}
      },
      "source": [
        "dirs = os.listdir('/content/drive/My Drive/ucmerced/UCMerced_LandUse/Images/')"
      ],
      "execution_count": 0,
      "outputs": []
    },
    {
      "cell_type": "code",
      "metadata": {
        "id": "T3RFKisIOJ50",
        "colab_type": "code",
        "colab": {}
      },
      "source": [
        "img_rows = 256\n",
        "img_cols = 256\n",
        "num_class = 21\n",
        "path = os.path.abspath('.cnn.py') #absolute path of program\n",
        "path = re.sub('[a-zA-Z\\s._]+$', '', path) #remove unintended file\n",
        "X = []\n",
        "Y = []\n",
        "dirs = os.listdir('/content/drive/My Drive/ucmerced/UCMerced_LandUse/Images/')\n",
        "#dirs=dirs[:-1]\n",
        "print(len(dirs))\n",
        "'''\n",
        "\n",
        "'''"
      ],
      "execution_count": 0,
      "outputs": []
    },
    {
      "cell_type": "code",
      "metadata": {
        "id": "GaAMcRQoRH4v",
        "colab_type": "code",
        "colab": {}
      },
      "source": [
        "label = 0\n",
        "for i in dirs:\n",
        "\tn = 0\n",
        "\tcount = 0\n",
        "\tfor pic in glob.glob('/content/drive/My Drive/ucmerced/UCMerced_LandUse/Images/'+i+'/*.tif'):\n",
        "\t\tim = Image.open(pic)\n",
        "\t\tim = np.array(im)\n",
        "\t\tif((im.shape[0]==256) and (im.shape[1] ==256) and n<90): #get only 90 data\n",
        "\t\t\tr = im[:,:,0]\n",
        "\t\t\tg = im[:,:,1]\n",
        "\t\t\tb = im[:,:,2]\n",
        "\t\t\tX.append([r,g,b])\n",
        "\t\t\tY.append([label])\n",
        "\t\t\tn = n+1\n",
        "\tprint(n)\n",
        "\tlabel = label + 1"
      ],
      "execution_count": 0,
      "outputs": []
    },
    {
      "cell_type": "code",
      "metadata": {
        "id": "LTmBzCghOO8F",
        "colab_type": "code",
        "colab": {}
      },
      "source": [
        "import numpy as np\n",
        "x_bck=X\n",
        "y_bck=Y\n",
        "\n",
        "\n",
        "X =  np.array(X)\n",
        "Y =  np.array(Y)\n",
        "X = X.reshape(X.shape[0], img_rows, img_cols, 3)\n",
        "X.shape\n"
      ],
      "execution_count": 0,
      "outputs": []
    },
    {
      "cell_type": "code",
      "metadata": {
        "id": "0LFYk6AVOaDn",
        "colab_type": "code",
        "colab": {}
      },
      "source": [
        "from sklearn.model_selection import train_test_split\n",
        "\n",
        "X_train, X_test, y_train, y_test = train_test_split(X, Y, test_size=0.2, random_state=42)\n",
        "\n",
        "input_shape = (img_rows, img_cols, 3)\n",
        "\n",
        "X_train = X_train.astype('float32')\n",
        "X_test = X_test.astype('float32')\n",
        "X_train /= 255\n",
        "X_test /= 255\n",
        "y_train = keras.utils.to_categorical(y_train, 21)\n",
        "y_test = keras.utils.to_categorical(y_test, 21)"
      ],
      "execution_count": 0,
      "outputs": []
    },
    {
      "cell_type": "code",
      "metadata": {
        "id": "G-GVSdwAfklB",
        "colab_type": "code",
        "colab": {}
      },
      "source": [
        "import time \n",
        "import cv2 \n",
        "from scipy.fftpack import dct \n",
        "\n",
        "a_256=[]\n",
        "b_256=[]\n",
        "#y = np.random.random((5000, 6, 6, 3))\n",
        "t1 = time.time()\n",
        "a_256 = np.zeros((len(X_train), 256, 256, 3))\n",
        "b_256 = np.zeros((len(X_test), 256, 256, 3))\n",
        "for i in range(len(X_train)):\n",
        "    for j in range(3):\n",
        "        a_256[i, : , : , j] = cv2.dct(X_train[i, : , : , j])\n",
        "        np.transpose(a_256, [0, 2, 1, 3])\n",
        "\n",
        "for i in range(len(X_train)):\n",
        "    for j in range(3):\n",
        "        a_256[i, :, :, j] = cv2.dct(X_train[i, :, :, j]) \n",
        "\n",
        "for i in range(0,len(X_test)):\n",
        "    for j in range(3):\n",
        "        b_256[i, : , : , j] = cv2.dct(X_test[i, : , : , j])\n",
        "        np.transpose(b_256, [0, 2, 1, 3])\n",
        "\n",
        "for i in range(len(X_test)):\n",
        "    for j in range(3):\n",
        "        b_256[i, :, :, j] = cv2.dct(X_test[i, :, :, j]) \n",
        " \n"
      ],
      "execution_count": 0,
      "outputs": []
    },
    {
      "cell_type": "code",
      "metadata": {
        "id": "XkVmVoPcOvjC",
        "colab_type": "code",
        "colab": {}
      },
      "source": [
        "model = Sequential()\n",
        "model.add(Conv2D(32, kernel_size=(3, 3),activation='relu',input_shape=(64,64,3)))\n",
        "model.add(MaxPooling2D(pool_size=(2,2)))\n",
        "model.add(Conv2D(32, (3, 3), activation='relu'))\n",
        "model.add(MaxPooling2D(pool_size=(2,2)))\n",
        "model.add(Dropout(0.25))\n",
        "model.add(Flatten())\n",
        "model.add(Dense(128, activation='relu'))\n",
        "model.add(Dropout(0.5))\n",
        "model.add(Dense(21, activation='softmax'))\n",
        "model.compile(loss='categorical_crossentropy',\n",
        "            optimizer='adam',\n",
        "            metrics=['accuracy'])"
      ],
      "execution_count": 0,
      "outputs": []
    },
    {
      "cell_type": "markdown",
      "metadata": {
        "id": "6wAiI5S7T2HR",
        "colab_type": "text"
      },
      "source": [
        "##New model"
      ]
    },
    {
      "cell_type": "code",
      "metadata": {
        "id": "RYaHzp7UZmZ0",
        "colab_type": "code",
        "colab": {}
      },
      "source": [
        "model_big = []"
      ],
      "execution_count": 0,
      "outputs": []
    },
    {
      "cell_type": "code",
      "metadata": {
        "id": "FiWKzDfCT1Gc",
        "colab_type": "code",
        "colab": {}
      },
      "source": [
        "model_big = Sequential()\n",
        "model_big.add(Conv2D(32, kernel_size=(3, 3),activation='relu',input_shape=input_shape))\n",
        "model_big.add(Conv2D(32, (3, 3), activation='relu', kernel_regularizer=regularizers.l2(1e-5)))\n",
        "model_big.add(MaxPooling2D(pool_size=(2,2), strides=2))\n",
        "model_big.add(Dropout(0.25))\n",
        "model_big.add(Conv2D(64, (3, 3), activation='relu', kernel_regularizer=regularizers.l2(1e-5)))\n",
        "model_big.add(Conv2D(64, (3, 3), activation='relu', kernel_regularizer=regularizers.l2(1e-5)))\n",
        "model_big.add(MaxPooling2D(pool_size=(2,2), strides=2))\n",
        "model_big.add(Dropout(0.25))\n",
        "model_big.add(Conv2D(128, (3,3), activation='relu', kernel_regularizer=regularizers.l2(1e-5)))\n",
        "model_big.add(MaxPooling2D(pool_size=(2,2), strides=2))\n",
        "model_big.add(Flatten())\n",
        "model_big.add(Dense(128, activation='relu', kernel_regularizer=regularizers.l1_l2(l1=1e-5, l2=1e-4), bias_regularizer=regularizers.l2(1e-4), activity_regularizer=regularizers.l2(1e-5)))\n",
        "model_big.add(Dropout(0.5))\n",
        "model_big.add(Dense(21, activation='softmax'))\n",
        "model_big.compile(loss='categorical_crossentropy',\n",
        "            optimizer='adam',\n",
        "            metrics=['accuracy'])"
      ],
      "execution_count": 0,
      "outputs": []
    },
    {
      "cell_type": "code",
      "metadata": {
        "id": "MOYibkOFO1Ut",
        "colab_type": "code",
        "colab": {}
      },
      "source": [
        "model_big.fit(a_256, y_train, batch_size=50, nb_epoch=150, verbose=1, validation_data=(b_256, y_test))"
      ],
      "execution_count": 0,
      "outputs": []
    },
    {
      "cell_type": "code",
      "metadata": {
        "id": "HJDw_oS3YNZ7",
        "colab_type": "code",
        "colab": {}
      },
      "source": [
        "loss, acc = model.evaluate(b_256, y_test, verbose=0)\n",
        "print('\\nTesting loss: {}, acc: {}\\n'.format(loss, acc))"
      ],
      "execution_count": 0,
      "outputs": []
    },
    {
      "cell_type": "markdown",
      "metadata": {
        "id": "Y3RvHb7gUw8i",
        "colab_type": "text"
      },
      "source": [
        "#Function for cutting the DCT output"
      ]
    },
    {
      "cell_type": "code",
      "metadata": {
        "id": "x95hDDqwU6vT",
        "colab_type": "code",
        "colab": {}
      },
      "source": [
        "def cut_dct(cut):\n",
        "    a_cut = a_256[:,:cut,:cut,:]\n",
        "    b_cut = b_256[:,:cut,:cut,:]\n",
        "    model_big.fit(a_cut, y_train, batch_size=50, nb_epoch=100, verbose=1, validation_data=(b_cut, y_test))\n",
        "    loss, acc = model_big.evaluate(b_cut, y_test, verbose=0)\n",
        "    print('\\n\\n\\n')\n",
        "    print('\\nTesting loss: {}, acc: {}\\n'.format(loss, acc))"
      ],
      "execution_count": 0,
      "outputs": []
    },
    {
      "cell_type": "markdown",
      "metadata": {
        "id": "boj1cUUiiiA3",
        "colab_type": "text"
      },
      "source": [
        "#### Change Input Size of model according to the cut"
      ]
    },
    {
      "cell_type": "code",
      "metadata": {
        "id": "Ll6lOI4KZCMb",
        "colab_type": "code",
        "colab": {}
      },
      "source": [
        "cut_dct(128)"
      ],
      "execution_count": 0,
      "outputs": []
    },
    {
      "cell_type": "code",
      "metadata": {
        "id": "MNGA8BFUafe4",
        "colab_type": "code",
        "colab": {}
      },
      "source": [
        "cut_dct(64)"
      ],
      "execution_count": 0,
      "outputs": []
    },
    {
      "cell_type": "code",
      "metadata": {
        "id": "HcAP1K6oZFgg",
        "colab_type": "code",
        "colab": {}
      },
      "source": [
        "cut_dct(32)"
      ],
      "execution_count": 0,
      "outputs": []
    },
    {
      "cell_type": "code",
      "metadata": {
        "id": "-uoIIhoaa87e",
        "colab_type": "code",
        "colab": {}
      },
      "source": [
        "cut_dct(16)"
      ],
      "execution_count": 0,
      "outputs": []
    }
  ]
}