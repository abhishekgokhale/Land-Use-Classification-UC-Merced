{
  "nbformat": 4,
  "nbformat_minor": 0,
  "metadata": {
    "colab": {
      "name": "parallelcnnfinal(1).ipynb",
      "provenance": []
    },
    "kernelspec": {
      "name": "python3",
      "display_name": "Python 3"
    },
    "accelerator": "GPU"
  },
  "cells": [
    {
      "cell_type": "code",
      "metadata": {
        "id": "s79dOzkQ99pW",
        "colab_type": "code",
        "colab": {}
      },
      "source": [
        ""
      ],
      "execution_count": 0,
      "outputs": []
    },
    {
      "cell_type": "code",
      "metadata": {
        "id": "TqowlWJ3sfDP",
        "colab_type": "code",
        "colab": {}
      },
      "source": [
        "import numpy as np\n",
        "import matplotlib.pyplot as plt\n",
        "import os\n",
        "import cv2\n",
        "from tqdm import tqdm"
      ],
      "execution_count": 0,
      "outputs": []
    },
    {
      "cell_type": "code",
      "metadata": {
        "id": "GjV8uzLhtQ0H",
        "colab_type": "code",
        "colab": {}
      },
      "source": [
        "DATADIR = '/content/drive/My Drive/ucmerced/UCMerced_LandUse/Images/'\n",
        "\n",
        "CATEGORIES = [ 'agricultural',  'airplane',    'baseballdiamond', 'beach',   'buildings',          'chaparral',         'denseresidential',\n",
        "                'forest',        'freeway',     'golfcourse',      'harbor',  'intersection',       'mediumresidential', 'mobilehomepark',\n",
        "                'overpass',      'parkinglot',  'river',           'runway',  'sparseresidential',  'storagetanks',      'tenniscourt' ]\n"
      ],
      "execution_count": 0,
      "outputs": []
    },
    {
      "cell_type": "code",
      "metadata": {
        "id": "JFHfvkShtUtf",
        "colab_type": "code",
        "outputId": "25c7deef-3d4e-40e7-e574-3ea6a81a7d9f",
        "colab": {
          "base_uri": "https://localhost:8080/",
          "height": 36
        }
      },
      "source": [
        "from google.colab import drive\n",
        "drive.mount('/content/drive')"
      ],
      "execution_count": 45,
      "outputs": [
        {
          "output_type": "stream",
          "text": [
            "Drive already mounted at /content/drive; to attempt to forcibly remount, call drive.mount(\"/content/drive\", force_remount=True).\n"
          ],
          "name": "stdout"
        }
      ]
    },
    {
      "cell_type": "code",
      "metadata": {
        "id": "AlX-6rl3tfJo",
        "colab_type": "code",
        "colab": {}
      },
      "source": [
        "from PIL import Image #import Python Image Library\n",
        "import numpy as np\n",
        "import os\n",
        "import glob\n",
        "import re\n",
        "import keras\n",
        "from keras.models import Sequential\n",
        "from keras.layers import Dense, Dropout, Activation, Flatten\n",
        "from keras.layers import Conv2D, MaxPooling2D\n",
        "from keras.utils import np_utils\n",
        "from keras import backend as K"
      ],
      "execution_count": 0,
      "outputs": []
    },
    {
      "cell_type": "code",
      "metadata": {
        "id": "2rvwjty4nVIy",
        "colab_type": "code",
        "colab": {}
      },
      "source": [
        ""
      ],
      "execution_count": 0,
      "outputs": []
    },
    {
      "cell_type": "code",
      "metadata": {
        "id": "dOkVtQX9tksZ",
        "colab_type": "code",
        "colab": {}
      },
      "source": [
        "path = os.path.abspath('.cnn.py')"
      ],
      "execution_count": 0,
      "outputs": []
    },
    {
      "cell_type": "code",
      "metadata": {
        "id": "IrBvPAUgtyYU",
        "colab_type": "code",
        "colab": {}
      },
      "source": [
        "path = re.sub('[a-zA-Z\\s._]+$', '', path) #remove unintended file"
      ],
      "execution_count": 0,
      "outputs": []
    },
    {
      "cell_type": "code",
      "metadata": {
        "id": "OiLs5hURt6Rx",
        "colab_type": "code",
        "colab": {}
      },
      "source": [
        "dirs = os.listdir(path+'/drive/My Drive/ucmerced/UCMerced_LandUse/Images/')"
      ],
      "execution_count": 0,
      "outputs": []
    },
    {
      "cell_type": "code",
      "metadata": {
        "id": "du-5slc1t9cI",
        "colab_type": "code",
        "outputId": "698f8ac4-54ca-4619-feac-168a555411f5",
        "colab": {
          "base_uri": "https://localhost:8080/",
          "height": 54
        }
      },
      "source": [
        "img_rows = 256\n",
        "img_cols = 256\n",
        "num_class = 21\n",
        "path = os.path.abspath('.cnn.py') #absolute path of program\n",
        "path = re.sub('[a-zA-Z\\s._]+$', '', path) #remove unintended file\n",
        "x_train = []\n",
        "y_train = []\n",
        "x_test = []\n",
        "y_test = []\n",
        "dirs = os.listdir(path+'/drive/My Drive/ucmerced/UCMerced_LandUse/Images/')\n",
        "dirs=dirs[:]\n",
        "print(len(dirs))\n",
        "'''\n",
        "\n",
        "'''"
      ],
      "execution_count": 50,
      "outputs": [
        {
          "output_type": "stream",
          "text": [
            "21\n"
          ],
          "name": "stdout"
        },
        {
          "output_type": "execute_result",
          "data": {
            "text/plain": [
              "'\\n\\n'"
            ]
          },
          "metadata": {
            "tags": []
          },
          "execution_count": 50
        }
      ]
    },
    {
      "cell_type": "code",
      "metadata": {
        "id": "vjOtKOkLnga4",
        "colab_type": "code",
        "colab": {}
      },
      "source": [
        ""
      ],
      "execution_count": 0,
      "outputs": []
    },
    {
      "cell_type": "code",
      "metadata": {
        "id": "GaAMcRQoRH4v",
        "colab_type": "code",
        "colab": {}
      },
      "source": [
        "label = 0\n",
        "for i in dirs:\n",
        "\tn = 0\n",
        "\tcount = 0\n",
        "\tfor pic in glob.glob(path+'/drive/My Drive/ucmerced/UCMerced_LandUse/Images/'+i+'/*.tif'):\n",
        "\t\tim = Image.open(pic)\n",
        "\t\tim = np.array(im)\n",
        "\t\tif((im.shape[0]==256) and (im.shape[1] ==256) and count <90): #get only 90 data\n",
        "\t\t\tr = im[:,:,0]\n",
        "\t\t\tg = im[:,:,1]\n",
        "\t\t\tb = im[:,:,2]\n",
        "\t\t\t#if(n<5): # 5 data in beginning set as test data\n",
        "\t\t\t#\tx_test.append([r,g,b])\n",
        "\t\t\t#\ty_test.append([label])\n",
        "\t\t\t#else: #remaining data set as training data\n",
        "\t\t\tx_train.append([r,g,b])\n",
        "\t\t\ty_train.append([label])\n",
        "\t\t\tn = n + 1\n",
        "\t\t\tcount = count + 1\n",
        "\t\t#print(count)\n",
        "\tlabel = label + 1"
      ],
      "execution_count": 0,
      "outputs": []
    },
    {
      "cell_type": "code",
      "metadata": {
        "id": "TmOvFJvcuesL",
        "colab_type": "code",
        "colab": {}
      },
      "source": [
        "x_train = np.array(x_train)\n",
        "y_train = np.array(y_train)"
      ],
      "execution_count": 0,
      "outputs": []
    },
    {
      "cell_type": "code",
      "metadata": {
        "id": "rKbwx_04wBz2",
        "colab_type": "code",
        "outputId": "07daabcc-4c5e-4631-c368-efb02b100ec9",
        "colab": {
          "base_uri": "https://localhost:8080/",
          "height": 36
        }
      },
      "source": [
        "x_train.shape\n",
        "y_train.shape"
      ],
      "execution_count": 53,
      "outputs": [
        {
          "output_type": "execute_result",
          "data": {
            "text/plain": [
              "(1890, 1)"
            ]
          },
          "metadata": {
            "tags": []
          },
          "execution_count": 53
        }
      ]
    },
    {
      "cell_type": "code",
      "metadata": {
        "id": "mhVTS9kNyGh6",
        "colab_type": "code",
        "colab": {}
      },
      "source": [
        "from sklearn.model_selection import train_test_split\n",
        "X_train, X_test, y_train, y_test = train_test_split(x_train, y_train, test_size=0.2, random_state = 142)"
      ],
      "execution_count": 0,
      "outputs": []
    },
    {
      "cell_type": "code",
      "metadata": {
        "id": "oG7qmeKOQ0K6",
        "colab_type": "code",
        "colab": {}
      },
      "source": [
        "from skimage import feature\n",
        "import numpy as np\n",
        " \n",
        "class LocalBinaryPatterns:\n",
        "  def __init__(self, numPoints, radius):\n",
        "# store the number of points and radius\n",
        "    self.numPoints = numPoints\n",
        "    self.radius = radius\n",
        "  def describe(self, image, eps=1e-7):\n",
        "\t\t# compute the Local Binary Pattern representation\n",
        "\t\t# of the image, and then use the LBP representation\n",
        "\t\t# to build the histogram of patterns\n",
        "    lbp = feature.local_binary_pattern(image, self.numPoints,\n",
        "    self.radius, method=\"uniform\")\n",
        "    return lbp "
      ],
      "execution_count": 0,
      "outputs": []
    },
    {
      "cell_type": "code",
      "metadata": {
        "id": "dZPEV_5y7moq",
        "colab_type": "code",
        "colab": {}
      },
      "source": [
        "desc = LocalBinaryPatterns(24, 8)"
      ],
      "execution_count": 0,
      "outputs": []
    },
    {
      "cell_type": "code",
      "metadata": {
        "id": "LTmBzCghOO8F",
        "colab_type": "code",
        "colab": {}
      },
      "source": [
        "x_trainbck=X_train\n",
        "x_testbck=X_test\n"
      ],
      "execution_count": 0,
      "outputs": []
    },
    {
      "cell_type": "code",
      "metadata": {
        "id": "q5f6NqZkVebf",
        "colab_type": "code",
        "colab": {}
      },
      "source": [
        "x_train=np.array(X_train)\n",
        "x_test=np.array(X_test)"
      ],
      "execution_count": 0,
      "outputs": []
    },
    {
      "cell_type": "code",
      "metadata": {
        "id": "0LFYk6AVOaDn",
        "colab_type": "code",
        "colab": {}
      },
      "source": [
        "x_train = x_train.reshape(x_train.shape[0], img_rows, img_cols, 3)\n",
        "x_test = x_test.reshape(x_test.shape[0], img_rows, img_cols, 3)\n",
        "\n",
        "input_shape = (img_rows, img_cols, 3)\n",
        "\n",
        "x_train = x_train.astype('float32')\n",
        "x_test = x_test.astype('float32')\n",
        "x_train /= 255\n",
        "x_test /= 255\n",
        "y_train = keras.utils.to_categorical(y_train, 21)\n",
        "y_test = keras.utils.to_categorical(y_test, 21)"
      ],
      "execution_count": 0,
      "outputs": []
    },
    {
      "cell_type": "code",
      "metadata": {
        "id": "DBpunNT1oBRd",
        "colab_type": "code",
        "colab": {}
      },
      "source": [
        ""
      ],
      "execution_count": 0,
      "outputs": []
    },
    {
      "cell_type": "code",
      "metadata": {
        "colab_type": "code",
        "id": "M-FBpfkPoBj2",
        "colab": {}
      },
      "source": [
        "x_train_lbp=[]\n"
      ],
      "execution_count": 0,
      "outputs": []
    },
    {
      "cell_type": "code",
      "metadata": {
        "colab_type": "code",
        "id": "Irk2m81xoBj6",
        "colab": {}
      },
      "source": [
        "for i in x_train:\n",
        "  gray = cv2.cvtColor(i, cv2.COLOR_BGR2GRAY)\n",
        "  hist = desc.describe(gray)\n",
        "  x_train_lbp.append(hist)"
      ],
      "execution_count": 0,
      "outputs": []
    },
    {
      "cell_type": "code",
      "metadata": {
        "colab_type": "code",
        "id": "zhHkMm0poBj8",
        "colab": {}
      },
      "source": [
        "x_train_lbp=np.array(x_train_lbp)"
      ],
      "execution_count": 0,
      "outputs": []
    },
    {
      "cell_type": "code",
      "metadata": {
        "colab_type": "code",
        "outputId": "db100e7d-66ce-446c-d7aa-c6b4af697bcf",
        "id": "2oOUAnXZoBj-",
        "colab": {
          "base_uri": "https://localhost:8080/",
          "height": 36
        }
      },
      "source": [
        "x_train_lbp.shape"
      ],
      "execution_count": 63,
      "outputs": [
        {
          "output_type": "execute_result",
          "data": {
            "text/plain": [
              "(1512, 256, 256)"
            ]
          },
          "metadata": {
            "tags": []
          },
          "execution_count": 63
        }
      ]
    },
    {
      "cell_type": "code",
      "metadata": {
        "colab_type": "code",
        "id": "3856zlQfoBkD",
        "colab": {}
      },
      "source": [
        "x_test_lbp=[]"
      ],
      "execution_count": 0,
      "outputs": []
    },
    {
      "cell_type": "code",
      "metadata": {
        "colab_type": "code",
        "id": "PxyGSAgGoBkF",
        "colab": {}
      },
      "source": [
        "for i in x_test:\n",
        "  gray = cv2.cvtColor(i, cv2.COLOR_BGR2GRAY)\n",
        "  hist = desc.describe(gray)\n",
        "  x_test_lbp.append(hist)"
      ],
      "execution_count": 0,
      "outputs": []
    },
    {
      "cell_type": "code",
      "metadata": {
        "colab_type": "code",
        "id": "3eS5M8TvoBkH",
        "colab": {}
      },
      "source": [
        "x_test_lbp=np.array(x_test_lbp)"
      ],
      "execution_count": 0,
      "outputs": []
    },
    {
      "cell_type": "code",
      "metadata": {
        "colab_type": "code",
        "outputId": "74813f37-0174-480c-ed43-c00acd4ead14",
        "id": "hmGlLqVyoBkJ",
        "colab": {
          "base_uri": "https://localhost:8080/",
          "height": 36
        }
      },
      "source": [
        "x_test_lbp.shape"
      ],
      "execution_count": 67,
      "outputs": [
        {
          "output_type": "execute_result",
          "data": {
            "text/plain": [
              "(378, 256, 256)"
            ]
          },
          "metadata": {
            "tags": []
          },
          "execution_count": 67
        }
      ]
    },
    {
      "cell_type": "code",
      "metadata": {
        "id": "Sr9EIvFDzdKJ",
        "colab_type": "code",
        "colab": {}
      },
      "source": [
        "x_train = x_train.reshape(x_train.shape[0], img_rows, img_cols, 3)\n",
        "x_test = x_test.reshape(x_test.shape[0], img_rows, img_cols, 3)\n",
        "\n",
        "input_shape1 = (img_rows, img_cols, 3)"
      ],
      "execution_count": 0,
      "outputs": []
    },
    {
      "cell_type": "code",
      "metadata": {
        "id": "MGDYRHFWzx1X",
        "colab_type": "code",
        "colab": {}
      },
      "source": [
        "###Reshaping 2nd model"
      ],
      "execution_count": 0,
      "outputs": []
    },
    {
      "cell_type": "code",
      "metadata": {
        "id": "MQ6ytKPAz0fC",
        "colab_type": "code",
        "colab": {}
      },
      "source": [
        "x_train_lbp = x_train_lbp.reshape(x_train_lbp.shape[0], img_rows, img_cols, 1)\n",
        "x_test_lbp = x_test_lbp.reshape(x_test_lbp.shape[0], img_rows, img_cols, 1)\n",
        "\n",
        "input_shape2 = (img_rows, img_cols, 1)"
      ],
      "execution_count": 0,
      "outputs": []
    },
    {
      "cell_type": "code",
      "metadata": {
        "id": "cCfsseZ_0ZiO",
        "colab_type": "code",
        "colab": {}
      },
      "source": [
        "from keras.layers import Input, Conv2D, Dense, concatenate\n",
        "from keras.models import Model"
      ],
      "execution_count": 0,
      "outputs": []
    },
    {
      "cell_type": "code",
      "metadata": {
        "id": "Bp9w91u30dBm",
        "colab_type": "code",
        "colab": {}
      },
      "source": [
        "from PIL import Image #import Python Image Library\n",
        "import numpy as np\n",
        "import os\n",
        "import glob\n",
        "import re\n",
        "import keras\n",
        "from keras.models import Sequential\n",
        "from keras.layers import Dense, Dropout, Activation, Flatten\n",
        "from keras.layers import Conv2D, MaxPooling2D\n",
        "from keras.utils import np_utils\n",
        "from keras import backend as K"
      ],
      "execution_count": 0,
      "outputs": []
    },
    {
      "cell_type": "code",
      "metadata": {
        "id": "yzCJF1s03B1U",
        "colab_type": "code",
        "colab": {}
      },
      "source": [
        "from keras.layers import *\n",
        "inputTensor1 = Input(input_shape1)\n",
        "inputTensor2 = Input(input_shape2)"
      ],
      "execution_count": 0,
      "outputs": []
    },
    {
      "cell_type": "code",
      "metadata": {
        "id": "fu6Elo3C3fPS",
        "colab_type": "code",
        "outputId": "da698c32-0eb4-48d6-8307-9bdec45205f4",
        "colab": {
          "base_uri": "https://localhost:8080/",
          "height": 36
        }
      },
      "source": [
        "print(inputTensor2)"
      ],
      "execution_count": 74,
      "outputs": [
        {
          "output_type": "stream",
          "text": [
            "Tensor(\"input_4:0\", shape=(?, 256, 256, 1), dtype=float32)\n"
          ],
          "name": "stdout"
        }
      ]
    },
    {
      "cell_type": "code",
      "metadata": {
        "id": "R8uVftbx0lvX",
        "colab_type": "code",
        "colab": {}
      },
      "source": [
        "model11=(Conv2D(32, kernel_size=(3, 3),activation='relu'))(inputTensor1)\n",
        "model11=(MaxPooling2D(pool_size=(2,2)))(model11)\n",
        "model11=(Conv2D(32, (3, 3), activation='relu'))(model11)\n",
        "model11=(MaxPooling2D(pool_size=(2,2)))(model11)\n",
        "model11=(Dropout(0.25))(model11)\n",
        "model11=(Flatten())(model11)\n",
        "model11=(Dense(64, activation='relu'))(model11)\n",
        "model11=(Dropout(0.5))(model11)\n",
        "model11 = Model(inputs=inputTensor1, outputs=model11)\n"
      ],
      "execution_count": 0,
      "outputs": []
    },
    {
      "cell_type": "code",
      "metadata": {
        "id": "Zwvq3S_q1zk3",
        "colab_type": "code",
        "colab": {}
      },
      "source": [
        "model21=(Conv2D(32, kernel_size=(3, 3),activation='relu'))(inputTensor2)\n",
        "model21=(MaxPooling2D(pool_size=(2,2)))(model21)\n",
        "model21=(Conv2D(32, (3, 3), activation='relu'))(model21)\n",
        "model21=(MaxPooling2D(pool_size=(2,2)))(model21)\n",
        "model21=(Dropout(0.25))(model21)\n",
        "model21=(Flatten())(model21)\n",
        "model21=(Dense(64, activation='relu'))(model21)\n",
        "model21=(Dropout(0.5))(model21)\n",
        "model21 = Model(inputs=inputTensor2, outputs=model21)\n"
      ],
      "execution_count": 0,
      "outputs": []
    },
    {
      "cell_type": "code",
      "metadata": {
        "id": "_NFZi0Ki3yEo",
        "colab_type": "code",
        "colab": {}
      },
      "source": [
        "from keras.optimizers import SGD"
      ],
      "execution_count": 0,
      "outputs": []
    },
    {
      "cell_type": "code",
      "metadata": {
        "id": "qUT0JMhK1_rA",
        "colab_type": "code",
        "colab": {}
      },
      "source": [
        "#from keras.layers import Activation, Dense, Dropout, Flatten, Input, Merge\n",
        "x1 = concatenate([model11.output, model21.output])  # merge the outputs of the two models\n",
        "out = Dense(21,activation='softmax')(x1) "
      ],
      "execution_count": 0,
      "outputs": []
    },
    {
      "cell_type": "code",
      "metadata": {
        "id": "KW8qrcPo7klu",
        "colab_type": "code",
        "colab": {}
      },
      "source": [
        "model = Model(inputs=[inputTensor1, inputTensor2], outputs=[out])"
      ],
      "execution_count": 0,
      "outputs": []
    },
    {
      "cell_type": "code",
      "metadata": {
        "id": "xNQOnf7l8hgQ",
        "colab_type": "code",
        "colab": {}
      },
      "source": [
        "model.compile(optimizer=SGD(lr=0.03), loss='categorical_crossentropy',metrics=['accuracy'])"
      ],
      "execution_count": 0,
      "outputs": []
    },
    {
      "cell_type": "code",
      "metadata": {
        "id": "4_1JxbIV7u-w",
        "colab_type": "code",
        "outputId": "a7f22e97-62b6-430e-83ea-db7dc3aff01b",
        "colab": {
          "base_uri": "https://localhost:8080/",
          "height": 572
        }
      },
      "source": [
        "model.fit([x_train,x_train_lbp], y_train, epochs=20, batch_size=32,validation_data=([x_test,x_test_lbp],y_test))"
      ],
      "execution_count": 104,
      "outputs": [
        {
          "output_type": "stream",
          "text": [
            "Train on 1512 samples, validate on 378 samples\n",
            "Epoch 1/20\n",
            "1512/1512 [==============================] - 10s 7ms/step - loss: 14.5647 - acc: 0.0470 - val_loss: 15.4785 - val_acc: 0.0397\n",
            "Epoch 2/20\n",
            "1512/1512 [==============================] - 9s 6ms/step - loss: 15.3292 - acc: 0.0489 - val_loss: 15.4785 - val_acc: 0.0397\n",
            "Epoch 3/20\n",
            "1512/1512 [==============================] - 9s 6ms/step - loss: 15.3650 - acc: 0.0463 - val_loss: 15.4785 - val_acc: 0.0397\n",
            "Epoch 4/20\n",
            "1512/1512 [==============================] - 9s 6ms/step - loss: 15.3506 - acc: 0.0476 - val_loss: 15.4785 - val_acc: 0.0397\n",
            "Epoch 5/20\n",
            "1512/1512 [==============================] - 9s 6ms/step - loss: 15.3506 - acc: 0.0476 - val_loss: 15.4785 - val_acc: 0.0397\n",
            "Epoch 6/20\n",
            " 256/1512 [====>.........................] - ETA: 6s - loss: 15.4885 - acc: 0.0391"
          ],
          "name": "stdout"
        },
        {
          "output_type": "error",
          "ename": "KeyboardInterrupt",
          "evalue": "ignored",
          "traceback": [
            "\u001b[0;31m---------------------------------------------------------------------------\u001b[0m",
            "\u001b[0;31mKeyboardInterrupt\u001b[0m                         Traceback (most recent call last)",
            "\u001b[0;32m<ipython-input-104-2b730fd07bc7>\u001b[0m in \u001b[0;36m<module>\u001b[0;34m()\u001b[0m\n\u001b[0;32m----> 1\u001b[0;31m \u001b[0mmodel\u001b[0m\u001b[0;34m.\u001b[0m\u001b[0mfit\u001b[0m\u001b[0;34m(\u001b[0m\u001b[0;34m[\u001b[0m\u001b[0mx_train\u001b[0m\u001b[0;34m,\u001b[0m\u001b[0mx_train_lbp\u001b[0m\u001b[0;34m]\u001b[0m\u001b[0;34m,\u001b[0m \u001b[0my_train\u001b[0m\u001b[0;34m,\u001b[0m \u001b[0mepochs\u001b[0m\u001b[0;34m=\u001b[0m\u001b[0;36m20\u001b[0m\u001b[0;34m,\u001b[0m \u001b[0mbatch_size\u001b[0m\u001b[0;34m=\u001b[0m\u001b[0;36m32\u001b[0m\u001b[0;34m,\u001b[0m\u001b[0mvalidation_data\u001b[0m\u001b[0;34m=\u001b[0m\u001b[0;34m(\u001b[0m\u001b[0;34m[\u001b[0m\u001b[0mx_test\u001b[0m\u001b[0;34m,\u001b[0m\u001b[0mx_test_lbp\u001b[0m\u001b[0;34m]\u001b[0m\u001b[0;34m,\u001b[0m\u001b[0my_test\u001b[0m\u001b[0;34m)\u001b[0m\u001b[0;34m)\u001b[0m\u001b[0;34m\u001b[0m\u001b[0;34m\u001b[0m\u001b[0m\n\u001b[0m",
            "\u001b[0;32m/usr/local/lib/python3.6/dist-packages/keras/engine/training.py\u001b[0m in \u001b[0;36mfit\u001b[0;34m(self, x, y, batch_size, epochs, verbose, callbacks, validation_split, validation_data, shuffle, class_weight, sample_weight, initial_epoch, steps_per_epoch, validation_steps, validation_freq, max_queue_size, workers, use_multiprocessing, **kwargs)\u001b[0m\n\u001b[1;32m   1176\u001b[0m                                         \u001b[0msteps_per_epoch\u001b[0m\u001b[0;34m=\u001b[0m\u001b[0msteps_per_epoch\u001b[0m\u001b[0;34m,\u001b[0m\u001b[0;34m\u001b[0m\u001b[0;34m\u001b[0m\u001b[0m\n\u001b[1;32m   1177\u001b[0m                                         \u001b[0mvalidation_steps\u001b[0m\u001b[0;34m=\u001b[0m\u001b[0mvalidation_steps\u001b[0m\u001b[0;34m,\u001b[0m\u001b[0;34m\u001b[0m\u001b[0;34m\u001b[0m\u001b[0m\n\u001b[0;32m-> 1178\u001b[0;31m                                         validation_freq=validation_freq)\n\u001b[0m\u001b[1;32m   1179\u001b[0m \u001b[0;34m\u001b[0m\u001b[0m\n\u001b[1;32m   1180\u001b[0m     def evaluate(self,\n",
            "\u001b[0;32m/usr/local/lib/python3.6/dist-packages/keras/engine/training_arrays.py\u001b[0m in \u001b[0;36mfit_loop\u001b[0;34m(model, fit_function, fit_inputs, out_labels, batch_size, epochs, verbose, callbacks, val_function, val_inputs, shuffle, callback_metrics, initial_epoch, steps_per_epoch, validation_steps, validation_freq)\u001b[0m\n\u001b[1;32m    202\u001b[0m                     \u001b[0mins_batch\u001b[0m\u001b[0;34m[\u001b[0m\u001b[0mi\u001b[0m\u001b[0;34m]\u001b[0m \u001b[0;34m=\u001b[0m \u001b[0mins_batch\u001b[0m\u001b[0;34m[\u001b[0m\u001b[0mi\u001b[0m\u001b[0;34m]\u001b[0m\u001b[0;34m.\u001b[0m\u001b[0mtoarray\u001b[0m\u001b[0;34m(\u001b[0m\u001b[0;34m)\u001b[0m\u001b[0;34m\u001b[0m\u001b[0;34m\u001b[0m\u001b[0m\n\u001b[1;32m    203\u001b[0m \u001b[0;34m\u001b[0m\u001b[0m\n\u001b[0;32m--> 204\u001b[0;31m                 \u001b[0mouts\u001b[0m \u001b[0;34m=\u001b[0m \u001b[0mfit_function\u001b[0m\u001b[0;34m(\u001b[0m\u001b[0mins_batch\u001b[0m\u001b[0;34m)\u001b[0m\u001b[0;34m\u001b[0m\u001b[0;34m\u001b[0m\u001b[0m\n\u001b[0m\u001b[1;32m    205\u001b[0m                 \u001b[0mouts\u001b[0m \u001b[0;34m=\u001b[0m \u001b[0mto_list\u001b[0m\u001b[0;34m(\u001b[0m\u001b[0mouts\u001b[0m\u001b[0;34m)\u001b[0m\u001b[0;34m\u001b[0m\u001b[0;34m\u001b[0m\u001b[0m\n\u001b[1;32m    206\u001b[0m                 \u001b[0;32mfor\u001b[0m \u001b[0ml\u001b[0m\u001b[0;34m,\u001b[0m \u001b[0mo\u001b[0m \u001b[0;32min\u001b[0m \u001b[0mzip\u001b[0m\u001b[0;34m(\u001b[0m\u001b[0mout_labels\u001b[0m\u001b[0;34m,\u001b[0m \u001b[0mouts\u001b[0m\u001b[0;34m)\u001b[0m\u001b[0;34m:\u001b[0m\u001b[0;34m\u001b[0m\u001b[0;34m\u001b[0m\u001b[0m\n",
            "\u001b[0;32m/usr/local/lib/python3.6/dist-packages/keras/backend/tensorflow_backend.py\u001b[0m in \u001b[0;36m__call__\u001b[0;34m(self, inputs)\u001b[0m\n\u001b[1;32m   2977\u001b[0m                     \u001b[0;32mreturn\u001b[0m \u001b[0mself\u001b[0m\u001b[0;34m.\u001b[0m\u001b[0m_legacy_call\u001b[0m\u001b[0;34m(\u001b[0m\u001b[0minputs\u001b[0m\u001b[0;34m)\u001b[0m\u001b[0;34m\u001b[0m\u001b[0;34m\u001b[0m\u001b[0m\n\u001b[1;32m   2978\u001b[0m \u001b[0;34m\u001b[0m\u001b[0m\n\u001b[0;32m-> 2979\u001b[0;31m             \u001b[0;32mreturn\u001b[0m \u001b[0mself\u001b[0m\u001b[0;34m.\u001b[0m\u001b[0m_call\u001b[0m\u001b[0;34m(\u001b[0m\u001b[0minputs\u001b[0m\u001b[0;34m)\u001b[0m\u001b[0;34m\u001b[0m\u001b[0;34m\u001b[0m\u001b[0m\n\u001b[0m\u001b[1;32m   2980\u001b[0m         \u001b[0;32melse\u001b[0m\u001b[0;34m:\u001b[0m\u001b[0;34m\u001b[0m\u001b[0;34m\u001b[0m\u001b[0m\n\u001b[1;32m   2981\u001b[0m             \u001b[0;32mif\u001b[0m \u001b[0mpy_any\u001b[0m\u001b[0;34m(\u001b[0m\u001b[0mis_tensor\u001b[0m\u001b[0;34m(\u001b[0m\u001b[0mx\u001b[0m\u001b[0;34m)\u001b[0m \u001b[0;32mfor\u001b[0m \u001b[0mx\u001b[0m \u001b[0;32min\u001b[0m \u001b[0minputs\u001b[0m\u001b[0;34m)\u001b[0m\u001b[0;34m:\u001b[0m\u001b[0;34m\u001b[0m\u001b[0;34m\u001b[0m\u001b[0m\n",
            "\u001b[0;32m/usr/local/lib/python3.6/dist-packages/keras/backend/tensorflow_backend.py\u001b[0m in \u001b[0;36m_call\u001b[0;34m(self, inputs)\u001b[0m\n\u001b[1;32m   2935\u001b[0m             \u001b[0mfetched\u001b[0m \u001b[0;34m=\u001b[0m \u001b[0mself\u001b[0m\u001b[0;34m.\u001b[0m\u001b[0m_callable_fn\u001b[0m\u001b[0;34m(\u001b[0m\u001b[0;34m*\u001b[0m\u001b[0marray_vals\u001b[0m\u001b[0;34m,\u001b[0m \u001b[0mrun_metadata\u001b[0m\u001b[0;34m=\u001b[0m\u001b[0mself\u001b[0m\u001b[0;34m.\u001b[0m\u001b[0mrun_metadata\u001b[0m\u001b[0;34m)\u001b[0m\u001b[0;34m\u001b[0m\u001b[0;34m\u001b[0m\u001b[0m\n\u001b[1;32m   2936\u001b[0m         \u001b[0;32melse\u001b[0m\u001b[0;34m:\u001b[0m\u001b[0;34m\u001b[0m\u001b[0;34m\u001b[0m\u001b[0m\n\u001b[0;32m-> 2937\u001b[0;31m             \u001b[0mfetched\u001b[0m \u001b[0;34m=\u001b[0m \u001b[0mself\u001b[0m\u001b[0;34m.\u001b[0m\u001b[0m_callable_fn\u001b[0m\u001b[0;34m(\u001b[0m\u001b[0;34m*\u001b[0m\u001b[0marray_vals\u001b[0m\u001b[0;34m)\u001b[0m\u001b[0;34m\u001b[0m\u001b[0;34m\u001b[0m\u001b[0m\n\u001b[0m\u001b[1;32m   2938\u001b[0m         \u001b[0;32mreturn\u001b[0m \u001b[0mfetched\u001b[0m\u001b[0;34m[\u001b[0m\u001b[0;34m:\u001b[0m\u001b[0mlen\u001b[0m\u001b[0;34m(\u001b[0m\u001b[0mself\u001b[0m\u001b[0;34m.\u001b[0m\u001b[0moutputs\u001b[0m\u001b[0;34m)\u001b[0m\u001b[0;34m]\u001b[0m\u001b[0;34m\u001b[0m\u001b[0;34m\u001b[0m\u001b[0m\n\u001b[1;32m   2939\u001b[0m \u001b[0;34m\u001b[0m\u001b[0m\n",
            "\u001b[0;32m/usr/local/lib/python3.6/dist-packages/tensorflow_core/python/client/session.py\u001b[0m in \u001b[0;36m__call__\u001b[0;34m(self, *args, **kwargs)\u001b[0m\n\u001b[1;32m   1470\u001b[0m         ret = tf_session.TF_SessionRunCallable(self._session._session,\n\u001b[1;32m   1471\u001b[0m                                                \u001b[0mself\u001b[0m\u001b[0;34m.\u001b[0m\u001b[0m_handle\u001b[0m\u001b[0;34m,\u001b[0m \u001b[0margs\u001b[0m\u001b[0;34m,\u001b[0m\u001b[0;34m\u001b[0m\u001b[0;34m\u001b[0m\u001b[0m\n\u001b[0;32m-> 1472\u001b[0;31m                                                run_metadata_ptr)\n\u001b[0m\u001b[1;32m   1473\u001b[0m         \u001b[0;32mif\u001b[0m \u001b[0mrun_metadata\u001b[0m\u001b[0;34m:\u001b[0m\u001b[0;34m\u001b[0m\u001b[0;34m\u001b[0m\u001b[0m\n\u001b[1;32m   1474\u001b[0m           \u001b[0mproto_data\u001b[0m \u001b[0;34m=\u001b[0m \u001b[0mtf_session\u001b[0m\u001b[0;34m.\u001b[0m\u001b[0mTF_GetBuffer\u001b[0m\u001b[0;34m(\u001b[0m\u001b[0mrun_metadata_ptr\u001b[0m\u001b[0;34m)\u001b[0m\u001b[0;34m\u001b[0m\u001b[0;34m\u001b[0m\u001b[0m\n",
            "\u001b[0;31mKeyboardInterrupt\u001b[0m: "
          ]
        }
      ]
    },
    {
      "cell_type": "code",
      "metadata": {
        "id": "46OodxBYxgHK",
        "colab_type": "code",
        "outputId": "8844f497-a8dd-4ba7-de61-bd8966d66adf",
        "colab": {
          "base_uri": "https://localhost:8080/",
          "height": 428
        }
      },
      "source": [
        "model.fit([x_train,x_train_lbp], y_train, epochs=10, batch_size=32,validation_data=([x_test,x_test_lbp],y_test))"
      ],
      "execution_count": 119,
      "outputs": [
        {
          "output_type": "stream",
          "text": [
            "Train on 1512 samples, validate on 378 samples\n",
            "Epoch 1/10\n",
            "1512/1512 [==============================] - 9s 6ms/step - loss: 1.2051 - acc: 0.6554 - val_loss: 3.0044 - val_acc: 0.2196\n",
            "Epoch 2/10\n",
            "1512/1512 [==============================] - 9s 6ms/step - loss: 1.0607 - acc: 0.6739 - val_loss: 3.0093 - val_acc: 0.2487\n",
            "Epoch 3/10\n",
            "1512/1512 [==============================] - 9s 6ms/step - loss: 0.9393 - acc: 0.7288 - val_loss: 3.1911 - val_acc: 0.2646\n",
            "Epoch 4/10\n",
            "1512/1512 [==============================] - 9s 6ms/step - loss: 0.8453 - acc: 0.7467 - val_loss: 3.2059 - val_acc: 0.2725\n",
            "Epoch 5/10\n",
            "1512/1512 [==============================] - 9s 6ms/step - loss: 0.7481 - acc: 0.7864 - val_loss: 2.6812 - val_acc: 0.3307\n",
            "Epoch 6/10\n",
            "1512/1512 [==============================] - 9s 6ms/step - loss: 0.7186 - acc: 0.7778 - val_loss: 2.9666 - val_acc: 0.3016\n",
            "Epoch 7/10\n",
            "1512/1512 [==============================] - 9s 6ms/step - loss: 0.6529 - acc: 0.8016 - val_loss: 2.6611 - val_acc: 0.3545\n",
            "Epoch 8/10\n",
            "1512/1512 [==============================] - 9s 6ms/step - loss: 0.6194 - acc: 0.8194 - val_loss: 3.0374 - val_acc: 0.3201\n",
            "Epoch 9/10\n",
            "1512/1512 [==============================] - 9s 6ms/step - loss: 0.5772 - acc: 0.8188 - val_loss: 3.0850 - val_acc: 0.3439\n",
            "Epoch 10/10\n",
            "1512/1512 [==============================] - 9s 6ms/step - loss: 0.5381 - acc: 0.8419 - val_loss: 3.0172 - val_acc: 0.3042\n"
          ],
          "name": "stdout"
        },
        {
          "output_type": "execute_result",
          "data": {
            "text/plain": [
              "<keras.callbacks.History at 0x7f1ffabf4f98>"
            ]
          },
          "metadata": {
            "tags": []
          },
          "execution_count": 119
        }
      ]
    },
    {
      "cell_type": "code",
      "metadata": {
        "id": "tNoq9omOsxdQ",
        "colab_type": "code",
        "colab": {}
      },
      "source": [
        ""
      ],
      "execution_count": 0,
      "outputs": []
    },
    {
      "cell_type": "code",
      "metadata": {
        "colab_type": "code",
        "id": "aJFoioxwugGB",
        "colab": {}
      },
      "source": [
        "model1=(Conv2D(32, kernel_size=(3, 3),activation='relu'))(inputTensor1)\n",
        "model1=(MaxPooling2D(pool_size=(2,2)))(model1)\n",
        "model1=(Conv2D(32, (3, 3), activation='relu'))(model1)\n",
        "model1=(MaxPooling2D(pool_size=(2,2)))(model1)\n",
        "model1=(Dropout(0.2))(model1)\n",
        "model1=(Flatten())(model1)\n",
        "model1=(Dense(64, activation='relu'))(model1)\n",
        "model1=(Dropout(0.4))(model1)\n",
        "model1 = Model(inputs=inputTensor1, outputs=model1)\n"
      ],
      "execution_count": 0,
      "outputs": []
    },
    {
      "cell_type": "code",
      "metadata": {
        "colab_type": "code",
        "id": "CO9ELw2YugGs",
        "colab": {}
      },
      "source": [
        "model2=(Conv2D(32, kernel_size=(3, 3),activation='relu'))(inputTensor2)\n",
        "model2=(MaxPooling2D(pool_size=(2,2)))(model2)\n",
        "model2=(Conv2D(32, (3, 3), activation='relu'))(model2)\n",
        "model2=(MaxPooling2D(pool_size=(2,2)))(model2)\n",
        "model2=(Dropout(0.25))(model2)\n",
        "model2=(Flatten())(model2)\n",
        "model2=(Dense(64, activation='relu'))(model2)\n",
        "model2=(Dropout(0.5))(model2)\n",
        "model2 = Model(inputs=inputTensor2, outputs=model2)\n"
      ],
      "execution_count": 0,
      "outputs": []
    },
    {
      "cell_type": "code",
      "metadata": {
        "colab_type": "code",
        "id": "8fmxjBxPugHK",
        "colab": {}
      },
      "source": [
        "from keras.optimizers import SGD"
      ],
      "execution_count": 0,
      "outputs": []
    },
    {
      "cell_type": "code",
      "metadata": {
        "colab_type": "code",
        "id": "ULMvog1TugHh",
        "colab": {}
      },
      "source": [
        "#from keras.layers import Activation, Dense, Dropout, Flatten, Input, Merge\n",
        "x = concatenate([model1.output, model2.output])  # merge the outputs of the two models\n",
        "out = Dense(21,activation='softmax')(x) "
      ],
      "execution_count": 0,
      "outputs": []
    },
    {
      "cell_type": "code",
      "metadata": {
        "colab_type": "code",
        "id": "2VLnC-lKugH1",
        "colab": {}
      },
      "source": [
        "model = Model(inputs=[inputTensor1, inputTensor2], outputs=[out])"
      ],
      "execution_count": 0,
      "outputs": []
    },
    {
      "cell_type": "code",
      "metadata": {
        "colab_type": "code",
        "id": "mGyguzphugII",
        "colab": {}
      },
      "source": [
        "model.compile(optimizer=SGD(), loss='categorical_crossentropy',metrics=['accuracy'])"
      ],
      "execution_count": 0,
      "outputs": []
    },
    {
      "cell_type": "code",
      "metadata": {
        "colab_type": "code",
        "outputId": "b0587430-37bf-4856-d695-493149c10880",
        "id": "IzeHegfEugIY",
        "colab": {
          "base_uri": "https://localhost:8080/",
          "height": 802
        }
      },
      "source": [
        "model.fit([x_train,x_train_lbp], y_train, epochs=20, batch_size=32,validation_data=([x_test,x_test_lbp],y_test))"
      ],
      "execution_count": 111,
      "outputs": [
        {
          "output_type": "stream",
          "text": [
            "Train on 1512 samples, validate on 378 samples\n",
            "Epoch 1/20\n",
            "1512/1512 [==============================] - 11s 7ms/step - loss: 15.1766 - acc: 0.0470 - val_loss: 15.4785 - val_acc: 0.0397\n",
            "Epoch 2/20\n",
            "1512/1512 [==============================] - 9s 6ms/step - loss: 15.3368 - acc: 0.0463 - val_loss: 15.4785 - val_acc: 0.0397\n",
            "Epoch 3/20\n",
            "1512/1512 [==============================] - 9s 6ms/step - loss: 8.3041 - acc: 0.0417 - val_loss: 3.0351 - val_acc: 0.0767\n",
            "Epoch 4/20\n",
            "1512/1512 [==============================] - 9s 6ms/step - loss: 3.0306 - acc: 0.0648 - val_loss: 3.0012 - val_acc: 0.0741\n",
            "Epoch 5/20\n",
            "1512/1512 [==============================] - 9s 6ms/step - loss: 2.9943 - acc: 0.0919 - val_loss: 2.9660 - val_acc: 0.1376\n",
            "Epoch 6/20\n",
            "1512/1512 [==============================] - 9s 6ms/step - loss: 2.9383 - acc: 0.1204 - val_loss: 2.9396 - val_acc: 0.1032\n",
            "Epoch 7/20\n",
            "1512/1512 [==============================] - 9s 6ms/step - loss: 2.9341 - acc: 0.1290 - val_loss: 2.8941 - val_acc: 0.0767\n",
            "Epoch 8/20\n",
            "1512/1512 [==============================] - 9s 6ms/step - loss: 2.8236 - acc: 0.1376 - val_loss: 3.0396 - val_acc: 0.1323\n",
            "Epoch 9/20\n",
            "1512/1512 [==============================] - 9s 6ms/step - loss: 2.7474 - acc: 0.1673 - val_loss: 2.7029 - val_acc: 0.1667\n",
            "Epoch 10/20\n",
            "1512/1512 [==============================] - 9s 6ms/step - loss: 2.6443 - acc: 0.2110 - val_loss: 2.7099 - val_acc: 0.1534\n",
            "Epoch 11/20\n",
            "1512/1512 [==============================] - 9s 6ms/step - loss: 2.5613 - acc: 0.2295 - val_loss: 2.6105 - val_acc: 0.2063\n",
            "Epoch 12/20\n",
            "1512/1512 [==============================] - 9s 6ms/step - loss: 2.4304 - acc: 0.2831 - val_loss: 3.5208 - val_acc: 0.1005\n",
            "Epoch 13/20\n",
            "1512/1512 [==============================] - 9s 6ms/step - loss: 2.3357 - acc: 0.3155 - val_loss: 2.2999 - val_acc: 0.3280\n",
            "Epoch 14/20\n",
            "1512/1512 [==============================] - 9s 6ms/step - loss: 2.2916 - acc: 0.3201 - val_loss: 2.8896 - val_acc: 0.1799\n",
            "Epoch 15/20\n",
            "1512/1512 [==============================] - 9s 6ms/step - loss: 2.1162 - acc: 0.3730 - val_loss: 2.4800 - val_acc: 0.2540\n",
            "Epoch 16/20\n",
            "1512/1512 [==============================] - 9s 6ms/step - loss: 1.9735 - acc: 0.3981 - val_loss: 2.4435 - val_acc: 0.2989\n",
            "Epoch 17/20\n",
            "1512/1512 [==============================] - 9s 6ms/step - loss: 1.8268 - acc: 0.4451 - val_loss: 2.0419 - val_acc: 0.3651\n",
            "Epoch 18/20\n",
            "1512/1512 [==============================] - 9s 6ms/step - loss: 1.7542 - acc: 0.4821 - val_loss: 2.1739 - val_acc: 0.3228\n",
            "Epoch 19/20\n",
            "1512/1512 [==============================] - 9s 6ms/step - loss: 1.6491 - acc: 0.5053 - val_loss: 1.9828 - val_acc: 0.4153\n",
            "Epoch 20/20\n",
            "1512/1512 [==============================] - 9s 6ms/step - loss: 1.5752 - acc: 0.5192 - val_loss: 1.9710 - val_acc: 0.3889\n"
          ],
          "name": "stdout"
        },
        {
          "output_type": "execute_result",
          "data": {
            "text/plain": [
              "<keras.callbacks.History at 0x7f1435edd048>"
            ]
          },
          "metadata": {
            "tags": []
          },
          "execution_count": 111
        }
      ]
    },
    {
      "cell_type": "code",
      "metadata": {
        "id": "ab3OxrE5vUFt",
        "colab_type": "code",
        "colab": {
          "base_uri": "https://localhost:8080/",
          "height": 802
        },
        "outputId": "60ece413-1707-4aee-b379-8fbd4f487e07"
      },
      "source": [
        "model.fit([x_train,x_train_lbp], y_train, epochs=20, batch_size=32,validation_data=([x_test,x_test_lbp],y_test))"
      ],
      "execution_count": 112,
      "outputs": [
        {
          "output_type": "stream",
          "text": [
            "Train on 1512 samples, validate on 378 samples\n",
            "Epoch 1/20\n",
            "1512/1512 [==============================] - 9s 6ms/step - loss: 1.4381 - acc: 0.5635 - val_loss: 1.6444 - val_acc: 0.5238\n",
            "Epoch 2/20\n",
            "1512/1512 [==============================] - 9s 6ms/step - loss: 1.3293 - acc: 0.5939 - val_loss: 1.9657 - val_acc: 0.3915\n",
            "Epoch 3/20\n",
            "1512/1512 [==============================] - 9s 6ms/step - loss: 1.4276 - acc: 0.5780 - val_loss: 2.0152 - val_acc: 0.4365\n",
            "Epoch 4/20\n",
            "1512/1512 [==============================] - 9s 6ms/step - loss: 1.1547 - acc: 0.6495 - val_loss: 2.7394 - val_acc: 0.2302\n",
            "Epoch 5/20\n",
            "1512/1512 [==============================] - 9s 6ms/step - loss: 1.0816 - acc: 0.6865 - val_loss: 1.6002 - val_acc: 0.4868\n",
            "Epoch 6/20\n",
            "1512/1512 [==============================] - 9s 6ms/step - loss: 0.9727 - acc: 0.7077 - val_loss: 3.7230 - val_acc: 0.3122\n",
            "Epoch 7/20\n",
            "1512/1512 [==============================] - 9s 6ms/step - loss: 0.9909 - acc: 0.6938 - val_loss: 1.9682 - val_acc: 0.4524\n",
            "Epoch 8/20\n",
            "1512/1512 [==============================] - 9s 6ms/step - loss: 0.8656 - acc: 0.7288 - val_loss: 1.7064 - val_acc: 0.5053\n",
            "Epoch 9/20\n",
            "1512/1512 [==============================] - 9s 6ms/step - loss: 0.7823 - acc: 0.7579 - val_loss: 2.2013 - val_acc: 0.4153\n",
            "Epoch 10/20\n",
            "1512/1512 [==============================] - 9s 6ms/step - loss: 0.7348 - acc: 0.7745 - val_loss: 1.5349 - val_acc: 0.5370\n",
            "Epoch 11/20\n",
            "1512/1512 [==============================] - 9s 6ms/step - loss: 0.6497 - acc: 0.8056 - val_loss: 1.7204 - val_acc: 0.5132\n",
            "Epoch 12/20\n",
            "1512/1512 [==============================] - 9s 6ms/step - loss: 0.6115 - acc: 0.8175 - val_loss: 1.7678 - val_acc: 0.4815\n",
            "Epoch 13/20\n",
            "1512/1512 [==============================] - 9s 6ms/step - loss: 0.5629 - acc: 0.8327 - val_loss: 2.6784 - val_acc: 0.4392\n",
            "Epoch 14/20\n",
            "1512/1512 [==============================] - 9s 6ms/step - loss: 0.5927 - acc: 0.8234 - val_loss: 2.1382 - val_acc: 0.4683\n",
            "Epoch 15/20\n",
            "1512/1512 [==============================] - 9s 6ms/step - loss: 0.5865 - acc: 0.8393 - val_loss: 1.8256 - val_acc: 0.4841\n",
            "Epoch 16/20\n",
            "1512/1512 [==============================] - 9s 6ms/step - loss: 0.5207 - acc: 0.8406 - val_loss: 1.7175 - val_acc: 0.5185\n",
            "Epoch 17/20\n",
            "1512/1512 [==============================] - 9s 6ms/step - loss: 0.4697 - acc: 0.8717 - val_loss: 1.6336 - val_acc: 0.5503\n",
            "Epoch 18/20\n",
            "1512/1512 [==============================] - 9s 6ms/step - loss: 0.3944 - acc: 0.8836 - val_loss: 1.6419 - val_acc: 0.5397\n",
            "Epoch 19/20\n",
            "1512/1512 [==============================] - 9s 6ms/step - loss: 0.3466 - acc: 0.8935 - val_loss: 1.9040 - val_acc: 0.5132\n",
            "Epoch 20/20\n",
            "1512/1512 [==============================] - 9s 6ms/step - loss: 0.3336 - acc: 0.9028 - val_loss: 1.7739 - val_acc: 0.5370\n"
          ],
          "name": "stdout"
        },
        {
          "output_type": "execute_result",
          "data": {
            "text/plain": [
              "<keras.callbacks.History at 0x7f1435dad4e0>"
            ]
          },
          "metadata": {
            "tags": []
          },
          "execution_count": 112
        }
      ]
    },
    {
      "cell_type": "code",
      "metadata": {
        "id": "wI3By0mewkvK",
        "colab_type": "code",
        "colab": {}
      },
      "source": [
        ""
      ],
      "execution_count": 0,
      "outputs": []
    },
    {
      "cell_type": "code",
      "metadata": {
        "colab_type": "code",
        "id": "DG_AdKqQwrGc",
        "colab": {}
      },
      "source": [
        "model1=(Conv2D(32, kernel_size=(3, 3),activation='relu'))(inputTensor1)\n",
        "model1=(MaxPooling2D(pool_size=(2,2)))(model1)\n",
        "model1=(Conv2D(32, (3, 3), activation='relu'))(model1)\n",
        "model1=(MaxPooling2D(pool_size=(2,2)))(model1)\n",
        "model1=(Dropout(0.2))(model1)\n",
        "model1=(Flatten())(model1)\n",
        "model1=(Dense(64, activation='relu'))(model1)\n",
        "model1=(Dropout(0.4))(model1)\n",
        "model1 = Model(inputs=inputTensor1, outputs=model1)\n"
      ],
      "execution_count": 0,
      "outputs": []
    },
    {
      "cell_type": "code",
      "metadata": {
        "colab_type": "code",
        "id": "cVOm56fbwrG3",
        "colab": {}
      },
      "source": [
        "model2=(Conv2D(32, kernel_size=(3, 3),activation='relu'))(inputTensor2)\n",
        "model2=(MaxPooling2D(pool_size=(2,2)))(model2)\n",
        "model2=(Conv2D(32, (3, 3), activation='relu'))(model2)\n",
        "model2=(MaxPooling2D(pool_size=(2,2)))(model2)\n",
        "model2=(Dropout(0.25))(model2)\n",
        "model2=(Flatten())(model2)\n",
        "model2=(Dense(64, activation='relu'))(model2)\n",
        "model2=(Dropout(0.5))(model2)\n",
        "model2 = Model(inputs=inputTensor2, outputs=model2)\n"
      ],
      "execution_count": 0,
      "outputs": []
    },
    {
      "cell_type": "code",
      "metadata": {
        "colab_type": "code",
        "id": "Y2MWYFaKwrHA",
        "colab": {}
      },
      "source": [
        "from keras.optimizers import RMSprop"
      ],
      "execution_count": 0,
      "outputs": []
    },
    {
      "cell_type": "code",
      "metadata": {
        "colab_type": "code",
        "id": "X0Ik9N2gwrHH",
        "colab": {}
      },
      "source": [
        "#from keras.layers import Activation, Dense, Dropout, Flatten, Input, Merge\n",
        "x = concatenate([model1.output, model2.output])  # merge the outputs of the two models\n",
        "out = Dense(21,activation='softmax')(x) "
      ],
      "execution_count": 0,
      "outputs": []
    },
    {
      "cell_type": "code",
      "metadata": {
        "colab_type": "code",
        "id": "kNY3hv4XwrHN",
        "colab": {}
      },
      "source": [
        "model = Model(inputs=[inputTensor1, inputTensor2], outputs=[out])"
      ],
      "execution_count": 0,
      "outputs": []
    },
    {
      "cell_type": "code",
      "metadata": {
        "colab_type": "code",
        "id": "5-SMRt2twrHV",
        "colab": {}
      },
      "source": [
        "model.compile(optimizer=RMSprop(), loss='categorical_crossentropy',metrics=['accuracy'])"
      ],
      "execution_count": 0,
      "outputs": []
    },
    {
      "cell_type": "code",
      "metadata": {
        "colab_type": "code",
        "outputId": "21ce05f1-ed08-4310-de9e-826059490640",
        "id": "vnUZ3GmnwrHb",
        "colab": {
          "base_uri": "https://localhost:8080/",
          "height": 1000
        }
      },
      "source": [
        "model.fit([x_train,x_train_lbp], y_train, epochs=30, batch_size=32,validation_data=([x_test,x_test_lbp],y_test))"
      ],
      "execution_count": 135,
      "outputs": [
        {
          "output_type": "stream",
          "text": [
            "Train on 1512 samples, validate on 378 samples\n",
            "Epoch 1/30\n",
            "1512/1512 [==============================] - 11s 8ms/step - loss: 11.9807 - acc: 0.0516 - val_loss: 2.9979 - val_acc: 0.0661\n",
            "Epoch 2/30\n",
            "1512/1512 [==============================] - 10s 6ms/step - loss: 2.9225 - acc: 0.1171 - val_loss: 2.9177 - val_acc: 0.0741\n",
            "Epoch 3/30\n",
            "1512/1512 [==============================] - 10s 6ms/step - loss: 2.4381 - acc: 0.3102 - val_loss: 2.7880 - val_acc: 0.2487\n",
            "Epoch 4/30\n",
            "1512/1512 [==============================] - 10s 6ms/step - loss: 1.5392 - acc: 0.5694 - val_loss: 2.5438 - val_acc: 0.3122\n",
            "Epoch 5/30\n",
            "1512/1512 [==============================] - 10s 6ms/step - loss: 0.9504 - acc: 0.7348 - val_loss: 2.9365 - val_acc: 0.2540\n",
            "Epoch 6/30\n",
            "1512/1512 [==============================] - 10s 6ms/step - loss: 0.5161 - acc: 0.8525 - val_loss: 3.2097 - val_acc: 0.2937\n",
            "Epoch 7/30\n",
            "1512/1512 [==============================] - 10s 6ms/step - loss: 0.4313 - acc: 0.8915 - val_loss: 3.0351 - val_acc: 0.3360\n",
            "Epoch 8/30\n",
            "1512/1512 [==============================] - 10s 6ms/step - loss: 0.3142 - acc: 0.9094 - val_loss: 2.5641 - val_acc: 0.4471\n",
            "Epoch 9/30\n",
            "1512/1512 [==============================] - 10s 6ms/step - loss: 0.5408 - acc: 0.9087 - val_loss: 3.0080 - val_acc: 0.3862\n",
            "Epoch 10/30\n",
            "1512/1512 [==============================] - 10s 6ms/step - loss: 0.2144 - acc: 0.9444 - val_loss: 2.6959 - val_acc: 0.3889\n",
            "Epoch 11/30\n",
            "1512/1512 [==============================] - 10s 6ms/step - loss: 0.3235 - acc: 0.9272 - val_loss: 3.1853 - val_acc: 0.3889\n",
            "Epoch 12/30\n",
            "1512/1512 [==============================] - 10s 6ms/step - loss: 0.2644 - acc: 0.9464 - val_loss: 4.0536 - val_acc: 0.2989\n",
            "Epoch 13/30\n",
            "1512/1512 [==============================] - 10s 6ms/step - loss: 0.2561 - acc: 0.9471 - val_loss: 4.4386 - val_acc: 0.3307\n",
            "Epoch 14/30\n",
            "1512/1512 [==============================] - 10s 6ms/step - loss: 0.0996 - acc: 0.9716 - val_loss: 3.2976 - val_acc: 0.4259\n",
            "Epoch 15/30\n",
            "1512/1512 [==============================] - 10s 6ms/step - loss: 0.1047 - acc: 0.9742 - val_loss: 11.9504 - val_acc: 0.1138\n",
            "Epoch 16/30\n",
            "1512/1512 [==============================] - 10s 6ms/step - loss: 0.7354 - acc: 0.9107 - val_loss: 8.3257 - val_acc: 0.2540\n",
            "Epoch 17/30\n",
            "1512/1512 [==============================] - 10s 6ms/step - loss: 0.2140 - acc: 0.9610 - val_loss: 4.1855 - val_acc: 0.3677\n",
            "Epoch 18/30\n",
            "1512/1512 [==============================] - 10s 6ms/step - loss: 0.2458 - acc: 0.9570 - val_loss: 4.1605 - val_acc: 0.3624\n",
            "Epoch 19/30\n",
            "1512/1512 [==============================] - 10s 6ms/step - loss: 0.1659 - acc: 0.9649 - val_loss: 4.2085 - val_acc: 0.3862\n",
            "Epoch 20/30\n",
            "1512/1512 [==============================] - 10s 6ms/step - loss: 0.3066 - acc: 0.9544 - val_loss: 5.6392 - val_acc: 0.3783\n",
            "Epoch 21/30\n",
            "1512/1512 [==============================] - 10s 6ms/step - loss: 0.5651 - acc: 0.9292 - val_loss: 5.1704 - val_acc: 0.3175\n",
            "Epoch 22/30\n",
            "1512/1512 [==============================] - 10s 6ms/step - loss: 0.1279 - acc: 0.9722 - val_loss: 4.6648 - val_acc: 0.3704\n",
            "Epoch 23/30\n",
            "1512/1512 [==============================] - 10s 6ms/step - loss: 0.2052 - acc: 0.9616 - val_loss: 4.1400 - val_acc: 0.4392\n",
            "Epoch 24/30\n",
            "1512/1512 [==============================] - 10s 6ms/step - loss: 0.3890 - acc: 0.9458 - val_loss: 6.7879 - val_acc: 0.3016\n",
            "Epoch 25/30\n",
            "1512/1512 [==============================] - 10s 6ms/step - loss: 0.1045 - acc: 0.9742 - val_loss: 5.3057 - val_acc: 0.3571\n",
            "Epoch 26/30\n",
            "1512/1512 [==============================] - 10s 6ms/step - loss: 0.4900 - acc: 0.9405 - val_loss: 4.6659 - val_acc: 0.4392\n",
            "Epoch 27/30\n",
            "1512/1512 [==============================] - 10s 6ms/step - loss: 0.1116 - acc: 0.9769 - val_loss: 5.4586 - val_acc: 0.3810\n",
            "Epoch 28/30\n",
            "1512/1512 [==============================] - 10s 6ms/step - loss: 0.0957 - acc: 0.9802 - val_loss: 4.7021 - val_acc: 0.4101\n",
            "Epoch 29/30\n",
            "1512/1512 [==============================] - 10s 6ms/step - loss: 0.0753 - acc: 0.9808 - val_loss: 5.3594 - val_acc: 0.4259\n",
            "Epoch 30/30\n",
            "1512/1512 [==============================] - 10s 6ms/step - loss: 0.6494 - acc: 0.9398 - val_loss: 5.1448 - val_acc: 0.4550\n"
          ],
          "name": "stdout"
        },
        {
          "output_type": "execute_result",
          "data": {
            "text/plain": [
              "<keras.callbacks.History at 0x7f1ffa7a0fd0>"
            ]
          },
          "metadata": {
            "tags": []
          },
          "execution_count": 135
        }
      ]
    },
    {
      "cell_type": "markdown",
      "metadata": {
        "id": "hjR_PGrL7tEX",
        "colab_type": "text"
      },
      "source": [
        ""
      ]
    }
  ]
}